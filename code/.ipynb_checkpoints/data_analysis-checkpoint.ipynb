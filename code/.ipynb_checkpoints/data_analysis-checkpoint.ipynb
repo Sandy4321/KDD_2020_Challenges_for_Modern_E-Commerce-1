{
 "cells": [
  {
   "cell_type": "code",
   "execution_count": 201,
   "metadata": {},
   "outputs": [
    {
     "name": "stdout",
     "output_type": "stream",
     "text": [
      "Pretty printing has been turned OFF\n"
     ]
    }
   ],
   "source": [
    "import pandas as pd  \n",
    "from tqdm import tqdm  \n",
    "from collections import defaultdict  \n",
    "import numpy as np\n",
    "import math  \n",
    "import warnings\n",
    "warnings.filterwarnings(\"ignore\")\n",
    "import matplotlib.pyplot as plt\n",
    "%config ZMQInteractiveShell.ast_node_interactivity='all'\n",
    "%pprint"
   ]
  },
  {
   "cell_type": "code",
   "execution_count": 141,
   "metadata": {},
   "outputs": [],
   "source": [
    "train_path = '../data/underexpose_train'  \n",
    "test_path = '../data/underexpose_test'\n",
    "train_path_click=train_path+'/underexpose_train_click-{}.csv'\n",
    "test_path_click=test_path+'/underexpose_test_click-{0}/underexpose_test_click-{0}.csv'\n",
    "test_path_click_qtime=test_path+'/underexpose_test_click-{0}/underexpose_test_qtime-{0}.csv'\n",
    "train_path_item=train_path+'/underexpose_item_feat.csv'\n",
    "train_path_user=train_path+'/underexpose_user_feat.csv'"
   ]
  },
  {
   "cell_type": "markdown",
   "metadata": {},
   "source": [
    "# 获取数据"
   ]
  },
  {
   "cell_type": "markdown",
   "metadata": {},
   "source": [
    "## 获取训练特征"
   ]
  },
  {
   "cell_type": "code",
   "execution_count": 142,
   "metadata": {},
   "outputs": [],
   "source": [
    "def getTrainData(files,isckick=True,names=['user_id', 'item_id', 'time'],num=1):\n",
    "    \"\"\"\n",
    "    \n",
    "    :param files: 文件路径\n",
    "    :param num:读取文件个数 \n",
    "    :return: \n",
    "    \"\"\"\n",
    "    all_train = pd.DataFrame( columns=names)  \n",
    "    if isckick:\n",
    "        for p in range(num):\n",
    "            dt=pd.read_csv(files.format(p), header=None,  names=names)\n",
    "            all_train = pd.concat([all_train, dt])\n",
    "            del dt\n",
    "    else:\n",
    "         all_train=pd.read_csv(files, header=None,  names=names)\n",
    "    return all_train  "
   ]
  },
  {
   "cell_type": "markdown",
   "metadata": {},
   "source": [
    "### 获取train_click"
   ]
  },
  {
   "cell_type": "code",
   "execution_count": 143,
   "metadata": {},
   "outputs": [],
   "source": [
    "train_click_data=getTrainData(train_path_click,isckick=True,names=['user_id', 'item_id', 'time'],num=6)"
   ]
  },
  {
   "cell_type": "code",
   "execution_count": 144,
   "metadata": {},
   "outputs": [
    {
     "data": {
      "text/html": [
       "<div>\n",
       "<style scoped>\n",
       "    .dataframe tbody tr th:only-of-type {\n",
       "        vertical-align: middle;\n",
       "    }\n",
       "\n",
       "    .dataframe tbody tr th {\n",
       "        vertical-align: top;\n",
       "    }\n",
       "\n",
       "    .dataframe thead th {\n",
       "        text-align: right;\n",
       "    }\n",
       "</style>\n",
       "<table border=\"1\" class=\"dataframe\">\n",
       "  <thead>\n",
       "    <tr style=\"text-align: right;\">\n",
       "      <th></th>\n",
       "      <th>user_id</th>\n",
       "      <th>item_id</th>\n",
       "      <th>time</th>\n",
       "    </tr>\n",
       "  </thead>\n",
       "  <tbody>\n",
       "    <tr>\n",
       "      <th>0</th>\n",
       "      <td>4965</td>\n",
       "      <td>18</td>\n",
       "      <td>0.983763</td>\n",
       "    </tr>\n",
       "    <tr>\n",
       "      <th>1</th>\n",
       "      <td>20192</td>\n",
       "      <td>34</td>\n",
       "      <td>0.983772</td>\n",
       "    </tr>\n",
       "    <tr>\n",
       "      <th>2</th>\n",
       "      <td>30128</td>\n",
       "      <td>91</td>\n",
       "      <td>0.983780</td>\n",
       "    </tr>\n",
       "    <tr>\n",
       "      <th>3</th>\n",
       "      <td>29473</td>\n",
       "      <td>189</td>\n",
       "      <td>0.983930</td>\n",
       "    </tr>\n",
       "    <tr>\n",
       "      <th>4</th>\n",
       "      <td>10625</td>\n",
       "      <td>225</td>\n",
       "      <td>0.983925</td>\n",
       "    </tr>\n",
       "  </tbody>\n",
       "</table>\n",
       "</div>"
      ],
      "text/plain": [
       "  user_id item_id      time\n",
       "0    4965      18  0.983763\n",
       "1   20192      34  0.983772\n",
       "2   30128      91  0.983780\n",
       "3   29473     189  0.983930\n",
       "4   10625     225  0.983925"
      ]
     },
     "execution_count": 144,
     "metadata": {},
     "output_type": "execute_result"
    },
    {
     "name": "stdout",
     "output_type": "stream",
     "text": [
      "<class 'pandas.core.frame.DataFrame'>\n",
      "Int64Index: 1546265 entries, 0 to 287522\n",
      "Data columns (total 3 columns):\n",
      " #   Column   Non-Null Count    Dtype  \n",
      "---  ------   --------------    -----  \n",
      " 0   user_id  1546265 non-null  object \n",
      " 1   item_id  1546265 non-null  object \n",
      " 2   time     1546265 non-null  float64\n",
      "dtypes: float64(1), object(2)\n",
      "memory usage: 47.2+ MB\n"
     ]
    },
    {
     "data": {
      "text/html": [
       "<div>\n",
       "<style scoped>\n",
       "    .dataframe tbody tr th:only-of-type {\n",
       "        vertical-align: middle;\n",
       "    }\n",
       "\n",
       "    .dataframe tbody tr th {\n",
       "        vertical-align: top;\n",
       "    }\n",
       "\n",
       "    .dataframe thead th {\n",
       "        text-align: right;\n",
       "    }\n",
       "</style>\n",
       "<table border=\"1\" class=\"dataframe\">\n",
       "  <thead>\n",
       "    <tr style=\"text-align: right;\">\n",
       "      <th></th>\n",
       "      <th>time</th>\n",
       "    </tr>\n",
       "  </thead>\n",
       "  <tbody>\n",
       "    <tr>\n",
       "      <th>count</th>\n",
       "      <td>1.546265e+06</td>\n",
       "    </tr>\n",
       "    <tr>\n",
       "      <th>mean</th>\n",
       "      <td>9.840029e-01</td>\n",
       "    </tr>\n",
       "    <tr>\n",
       "      <th>std</th>\n",
       "      <td>1.127985e-04</td>\n",
       "    </tr>\n",
       "    <tr>\n",
       "      <th>min</th>\n",
       "      <td>9.837397e-01</td>\n",
       "    </tr>\n",
       "    <tr>\n",
       "      <th>25%</th>\n",
       "      <td>9.839231e-01</td>\n",
       "    </tr>\n",
       "    <tr>\n",
       "      <th>50%</th>\n",
       "      <td>9.840063e-01</td>\n",
       "    </tr>\n",
       "    <tr>\n",
       "      <th>75%</th>\n",
       "      <td>9.840905e-01</td>\n",
       "    </tr>\n",
       "    <tr>\n",
       "      <th>max</th>\n",
       "      <td>9.842303e-01</td>\n",
       "    </tr>\n",
       "  </tbody>\n",
       "</table>\n",
       "</div>"
      ],
      "text/plain": [
       "               time\n",
       "count  1.546265e+06\n",
       "mean   9.840029e-01\n",
       "std    1.127985e-04\n",
       "min    9.837397e-01\n",
       "25%    9.839231e-01\n",
       "50%    9.840063e-01\n",
       "75%    9.840905e-01\n",
       "max    9.842303e-01"
      ]
     },
     "execution_count": 144,
     "metadata": {},
     "output_type": "execute_result"
    },
    {
     "data": {
      "text/plain": [
       "(1546265, 3)"
      ]
     },
     "execution_count": 144,
     "metadata": {},
     "output_type": "execute_result"
    }
   ],
   "source": [
    "train_click_data.head()\n",
    "train_click_data.info()\n",
    "train_click_data.describe()\n",
    "train_click_data.shape\n"
   ]
  },
  {
   "cell_type": "markdown",
   "metadata": {},
   "source": [
    "#### 去重"
   ]
  },
  {
   "cell_type": "code",
   "execution_count": 154,
   "metadata": {},
   "outputs": [],
   "source": [
    "train_click_data=train_click_data.drop_duplicates()"
   ]
  },
  {
   "cell_type": "code",
   "execution_count": 155,
   "metadata": {},
   "outputs": [
    {
     "data": {
      "text/plain": [
       "(804043, 3)"
      ]
     },
     "execution_count": 155,
     "metadata": {},
     "output_type": "execute_result"
    }
   ],
   "source": [
    "train_click_data.shape"
   ]
  },
  {
   "cell_type": "code",
   "execution_count": 158,
   "metadata": {},
   "outputs": [],
   "source": [
    "utrain_click_userid=train_click_data[\"user_id\"].drop_duplicates()"
   ]
  },
  {
   "cell_type": "code",
   "execution_count": 161,
   "metadata": {},
   "outputs": [
    {
     "data": {
      "text/plain": [
       "29128"
      ]
     },
     "execution_count": 161,
     "metadata": {},
     "output_type": "execute_result"
    }
   ],
   "source": [
    "utrain_click_userid.shape[0]"
   ]
  },
  {
   "cell_type": "markdown",
   "metadata": {},
   "source": [
    "#### 用户出现次数"
   ]
  },
  {
   "cell_type": "code",
   "execution_count": 284,
   "metadata": {},
   "outputs": [
    {
     "data": {
      "text/plain": [
       "29128"
      ]
     },
     "execution_count": 284,
     "metadata": {},
     "output_type": "execute_result"
    }
   ],
   "source": [
    "train_click_groupby_userid=train_click_data[\"user_id\"].value_counts().to_frame()\n",
    "\n",
    "train_click_groupby_userid.columns=[\"user_id_count\"]\n",
    "train_click_groupby_userid.shape[0]"
   ]
  },
  {
   "cell_type": "code",
   "execution_count": 285,
   "metadata": {},
   "outputs": [],
   "source": [
    "##排序\n",
    "train_click_groupby_userid=train_click_groupby_userid.sort_values(axis = 0,by=[\"user_id_count\"],ascending=False)"
   ]
  },
  {
   "cell_type": "code",
   "execution_count": 286,
   "metadata": {},
   "outputs": [
    {
     "data": {
      "text/html": [
       "<div>\n",
       "<style scoped>\n",
       "    .dataframe tbody tr th:only-of-type {\n",
       "        vertical-align: middle;\n",
       "    }\n",
       "\n",
       "    .dataframe tbody tr th {\n",
       "        vertical-align: top;\n",
       "    }\n",
       "\n",
       "    .dataframe thead th {\n",
       "        text-align: right;\n",
       "    }\n",
       "</style>\n",
       "<table border=\"1\" class=\"dataframe\">\n",
       "  <thead>\n",
       "    <tr style=\"text-align: right;\">\n",
       "      <th></th>\n",
       "      <th>user_id_count</th>\n",
       "    </tr>\n",
       "  </thead>\n",
       "  <tbody>\n",
       "    <tr>\n",
       "      <th>8330</th>\n",
       "      <td>382</td>\n",
       "    </tr>\n",
       "    <tr>\n",
       "      <th>32578</th>\n",
       "      <td>366</td>\n",
       "    </tr>\n",
       "    <tr>\n",
       "      <th>32549</th>\n",
       "      <td>358</td>\n",
       "    </tr>\n",
       "    <tr>\n",
       "      <th>12627</th>\n",
       "      <td>346</td>\n",
       "    </tr>\n",
       "    <tr>\n",
       "      <th>35363</th>\n",
       "      <td>342</td>\n",
       "    </tr>\n",
       "    <tr>\n",
       "      <th>432</th>\n",
       "      <td>2</td>\n",
       "    </tr>\n",
       "    <tr>\n",
       "      <th>23489</th>\n",
       "      <td>2</td>\n",
       "    </tr>\n",
       "    <tr>\n",
       "      <th>31218</th>\n",
       "      <td>2</td>\n",
       "    </tr>\n",
       "    <tr>\n",
       "      <th>20345</th>\n",
       "      <td>2</td>\n",
       "    </tr>\n",
       "    <tr>\n",
       "      <th>33507</th>\n",
       "      <td>2</td>\n",
       "    </tr>\n",
       "  </tbody>\n",
       "</table>\n",
       "</div>"
      ],
      "text/plain": [
       "       user_id_count\n",
       "8330             382\n",
       "32578            366\n",
       "32549            358\n",
       "12627            346\n",
       "35363            342\n",
       "432                2\n",
       "23489              2\n",
       "31218              2\n",
       "20345              2\n",
       "33507              2"
      ]
     },
     "execution_count": 286,
     "metadata": {},
     "output_type": "execute_result"
    }
   ],
   "source": [
    "user_id_count=pd.concat([train_click_groupby_userid.head(),train_click_groupby_userid.tail()])\n",
    "user_id_count"
   ]
  },
  {
   "cell_type": "code",
   "execution_count": 287,
   "metadata": {},
   "outputs": [],
   "source": [
    "def autolabel(rects):\n",
    "    for rect in rects:\n",
    "        height = rect.get_height()\n",
    "        plt.text(rect.get_x()+rect.get_width()/2.-0.2, 1.03*height, '%s' % float(height))\n"
   ]
  },
  {
   "cell_type": "code",
   "execution_count": 289,
   "metadata": {},
   "outputs": [
    {
     "data": {
      "text/plain": [
       "(array([0, 1, 2, 3, 4, 5, 6, 7, 8, 9]), <a list of 10 Text xticklabel objects>)"
      ]
     },
     "execution_count": 289,
     "metadata": {},
     "output_type": "execute_result"
    },
    {
     "data": {
      "text/plain": [
       "Text(0.5, 1.0, 'User_ID_COUNT')"
      ]
     },
     "execution_count": 289,
     "metadata": {},
     "output_type": "execute_result"
    },
    {
     "data": {
      "image/png": "[encoded data removed]",
      "text/plain": [
       "<Figure size 432x288 with 1 Axes>"
      ]
     },
     "metadata": {
      "needs_background": "light"
     },
     "output_type": "display_data"
    }
   ],
   "source": [
    "a=plt.bar(  range(len(user_id_count.index)),user_id_count[\"user_id_count\"].values ,\n",
    "          width=0.8,tick_label = user_id_count.index)\n",
    "autolabel(a)\n",
    "plt.xticks(rotation = 90)\n",
    "plt.title('User_ID_COUNT')\n",
    "plt.show()"
   ]
  },
  {
   "cell_type": "markdown",
   "metadata": {},
   "source": [
    "### 商品出现次数分析"
   ]
  },
  {
   "cell_type": "code",
   "execution_count": 290,
   "metadata": {},
   "outputs": [
    {
     "data": {
      "text/plain": [
       "89468"
      ]
     },
     "execution_count": 290,
     "metadata": {},
     "output_type": "execute_result"
    }
   ],
   "source": [
    "train_click_groupby_item_id=train_click_data[\"item_id\"].value_counts().to_frame()\n",
    "\n",
    "train_click_groupby_item_id.columns=[\"item_id_count\"]\n",
    "train_click_groupby_item_id.shape[0]\n",
    "train_click_groupby_item_id=train_click_groupby_item_id.sort_values(axis = 0,by=[\"item_id_count\"],ascending=False)\n",
    "item_id_count=pd.concat([train_click_groupby_item_id.head(),train_click_groupby_item_id.tail()])"
   ]
  },
  {
   "cell_type": "code",
   "execution_count": 291,
   "metadata": {},
   "outputs": [
    {
     "data": {
      "text/html": [
       "<div>\n",
       "<style scoped>\n",
       "    .dataframe tbody tr th:only-of-type {\n",
       "        vertical-align: middle;\n",
       "    }\n",
       "\n",
       "    .dataframe tbody tr th {\n",
       "        vertical-align: top;\n",
       "    }\n",
       "\n",
       "    .dataframe thead th {\n",
       "        text-align: right;\n",
       "    }\n",
       "</style>\n",
       "<table border=\"1\" class=\"dataframe\">\n",
       "  <thead>\n",
       "    <tr style=\"text-align: right;\">\n",
       "      <th></th>\n",
       "      <th>item_id_count</th>\n",
       "    </tr>\n",
       "  </thead>\n",
       "  <tbody>\n",
       "    <tr>\n",
       "      <th>count</th>\n",
       "      <td>89468.000000</td>\n",
       "    </tr>\n",
       "    <tr>\n",
       "      <th>mean</th>\n",
       "      <td>8.986934</td>\n",
       "    </tr>\n",
       "    <tr>\n",
       "      <th>std</th>\n",
       "      <td>11.984360</td>\n",
       "    </tr>\n",
       "    <tr>\n",
       "      <th>min</th>\n",
       "      <td>1.000000</td>\n",
       "    </tr>\n",
       "    <tr>\n",
       "      <th>25%</th>\n",
       "      <td>4.000000</td>\n",
       "    </tr>\n",
       "    <tr>\n",
       "      <th>50%</th>\n",
       "      <td>6.000000</td>\n",
       "    </tr>\n",
       "    <tr>\n",
       "      <th>75%</th>\n",
       "      <td>10.000000</td>\n",
       "    </tr>\n",
       "    <tr>\n",
       "      <th>max</th>\n",
       "      <td>696.000000</td>\n",
       "    </tr>\n",
       "  </tbody>\n",
       "</table>\n",
       "</div>"
      ],
      "text/plain": [
       "       item_id_count\n",
       "count   89468.000000\n",
       "mean        8.986934\n",
       "std        11.984360\n",
       "min         1.000000\n",
       "25%         4.000000\n",
       "50%         6.000000\n",
       "75%        10.000000\n",
       "max       696.000000"
      ]
     },
     "execution_count": 291,
     "metadata": {},
     "output_type": "execute_result"
    }
   ],
   "source": [
    "train_click_groupby_item_id[[\"item_id_count\"]].describe()"
   ]
  },
  {
   "cell_type": "code",
   "execution_count": 293,
   "metadata": {},
   "outputs": [
    {
     "data": {
      "text/plain": [
       "(array([0, 1, 2, 3, 4, 5, 6, 7, 8, 9]), <a list of 10 Text xticklabel objects>)"
      ]
     },
     "execution_count": 293,
     "metadata": {},
     "output_type": "execute_result"
    },
    {
     "data": {
      "text/plain": [
       "Text(0.5, 1.0, 'ITEM_ID_COUNT')"
      ]
     },
     "execution_count": 293,
     "metadata": {},
     "output_type": "execute_result"
    },
    {
     "data": {
      "image/png": "[encoded data removed]",
      "text/plain": [
       "<Figure size 432x288 with 1 Axes>"
      ]
     },
     "metadata": {
      "needs_background": "light"
     },
     "output_type": "display_data"
    }
   ],
   "source": [
    "b=plt.bar(  range(len(item_id_count.index)),item_id_count[\"item_id_count\"].values ,\n",
    "          width=0.8,tick_label = item_id_count.index)\n",
    "autolabel(b)\n",
    "plt.xticks(rotation = 90)\n",
    "plt.title('ITEM_ID_COUNT')\n",
    "plt.show()\n"
   ]
  },
  {
   "cell_type": "markdown",
   "metadata": {},
   "source": [
    "### 加入时间"
   ]
  },
  {
   "cell_type": "code",
   "execution_count": 423,
   "metadata": {},
   "outputs": [
    {
     "data": {
      "text/plain": [
       "'\\n思考这样去截取时间有没有意义？\\n如果有意义：应该对时间戳分别截取多长进行划分不同等级？\\n'"
      ]
     },
     "execution_count": 423,
     "metadata": {},
     "output_type": "execute_result"
    }
   ],
   "source": [
    "\"\"\"\n",
    "思考这样去截取时间有没有意义？\n",
    "如果有意义：应该对时间戳分别截取多长进行划分不同等级？\n",
    "\"\"\""
   ]
  },
  {
   "cell_type": "code",
   "execution_count": 351,
   "metadata": {},
   "outputs": [],
   "source": [
    "for i in range(5,14):\n",
    "    col=\"time_top_{0}\".format(i)\n",
    "    train_click_data[col]=train_click_data['time'].apply(lambda x:str(x)[:i])"
   ]
  },
  {
   "cell_type": "code",
   "execution_count": 354,
   "metadata": {},
   "outputs": [
    {
     "data": {
      "text/plain": [
       "Index(['user_id', 'item_id', 'time', 'time_top_5', 'time_top_6', 'time_top_7',\n",
       "       'time_top_8', 'time_top_9', 'time_top_10', 'time_top_11', 'time_top_12',\n",
       "       'time_top_13'],\n",
       "      dtype='object')"
      ]
     },
     "execution_count": 354,
     "metadata": {},
     "output_type": "execute_result"
    }
   ],
   "source": [
    "train_click_data.columns"
   ]
  },
  {
   "cell_type": "code",
   "execution_count": 373,
   "metadata": {},
   "outputs": [],
   "source": [
    "train_click_data=train_click_data.sort_values(axis=0,by=['user_id','time_top_5', 'time_top_6', 'time_top_7',\n",
    "       'time_top_8', 'time_top_9', 'time_top_10', 'time_top_11', 'time_top_12',\n",
    "       'time_top_13'],ascending=True)"
   ]
  },
  {
   "cell_type": "markdown",
   "metadata": {},
   "source": [
    "#### 用户在某一时间戳下发生点击次数"
   ]
  },
  {
   "cell_type": "code",
   "execution_count": 385,
   "metadata": {},
   "outputs": [
    {
     "data": {
      "text/html": [
       "<div>\n",
       "<style scoped>\n",
       "    .dataframe tbody tr th:only-of-type {\n",
       "        vertical-align: middle;\n",
       "    }\n",
       "\n",
       "    .dataframe tbody tr th {\n",
       "        vertical-align: top;\n",
       "    }\n",
       "\n",
       "    .dataframe thead th {\n",
       "        text-align: right;\n",
       "    }\n",
       "</style>\n",
       "<table border=\"1\" class=\"dataframe\">\n",
       "  <thead>\n",
       "    <tr style=\"text-align: right;\">\n",
       "      <th></th>\n",
       "      <th>user_id</th>\n",
       "      <th>item_id</th>\n",
       "      <th>time</th>\n",
       "      <th>time_top_5</th>\n",
       "      <th>time_top_6</th>\n",
       "      <th>time_top_7</th>\n",
       "      <th>time_top_8</th>\n",
       "      <th>time_top_9</th>\n",
       "      <th>time_top_10</th>\n",
       "      <th>time_top_11</th>\n",
       "      <th>...</th>\n",
       "      <th>time_top_13</th>\n",
       "      <th>time_top_5_user_clickcount</th>\n",
       "      <th>time_top_6_user_clickcount</th>\n",
       "      <th>time_top_7_user_clickcount</th>\n",
       "      <th>time_top_8_user_clickcount</th>\n",
       "      <th>time_top_9_user_clickcount</th>\n",
       "      <th>time_top_10_user_clickcount</th>\n",
       "      <th>time_top_11_user_clickcount</th>\n",
       "      <th>time_top_12_user_clickcount</th>\n",
       "      <th>time_top_13_user_clickcount</th>\n",
       "    </tr>\n",
       "  </thead>\n",
       "  <tbody>\n",
       "    <tr>\n",
       "      <th>0</th>\n",
       "      <td>1</td>\n",
       "      <td>78142</td>\n",
       "      <td>0.983742</td>\n",
       "      <td>0.983</td>\n",
       "      <td>0.9837</td>\n",
       "      <td>0.98374</td>\n",
       "      <td>0.983741</td>\n",
       "      <td>0.9837416</td>\n",
       "      <td>0.98374161</td>\n",
       "      <td>0.983741619</td>\n",
       "      <td>...</td>\n",
       "      <td>0.98374161954</td>\n",
       "      <td>14</td>\n",
       "      <td>6</td>\n",
       "      <td>1</td>\n",
       "      <td>1</td>\n",
       "      <td>1</td>\n",
       "      <td>1</td>\n",
       "      <td>1</td>\n",
       "      <td>1</td>\n",
       "      <td>1</td>\n",
       "    </tr>\n",
       "    <tr>\n",
       "      <th>1</th>\n",
       "      <td>1</td>\n",
       "      <td>26646</td>\n",
       "      <td>0.983757</td>\n",
       "      <td>0.983</td>\n",
       "      <td>0.9837</td>\n",
       "      <td>0.98375</td>\n",
       "      <td>0.983756</td>\n",
       "      <td>0.9837566</td>\n",
       "      <td>0.98375665</td>\n",
       "      <td>0.983756656</td>\n",
       "      <td>...</td>\n",
       "      <td>0.98375665612</td>\n",
       "      <td>14</td>\n",
       "      <td>6</td>\n",
       "      <td>1</td>\n",
       "      <td>1</td>\n",
       "      <td>1</td>\n",
       "      <td>1</td>\n",
       "      <td>1</td>\n",
       "      <td>1</td>\n",
       "      <td>1</td>\n",
       "    </tr>\n",
       "    <tr>\n",
       "      <th>2</th>\n",
       "      <td>1</td>\n",
       "      <td>89568</td>\n",
       "      <td>0.983763</td>\n",
       "      <td>0.983</td>\n",
       "      <td>0.9837</td>\n",
       "      <td>0.98376</td>\n",
       "      <td>0.983763</td>\n",
       "      <td>0.9837634</td>\n",
       "      <td>0.98376343</td>\n",
       "      <td>0.983763437</td>\n",
       "      <td>...</td>\n",
       "      <td>0.98376343753</td>\n",
       "      <td>14</td>\n",
       "      <td>6</td>\n",
       "      <td>1</td>\n",
       "      <td>1</td>\n",
       "      <td>1</td>\n",
       "      <td>1</td>\n",
       "      <td>1</td>\n",
       "      <td>1</td>\n",
       "      <td>1</td>\n",
       "    </tr>\n",
       "    <tr>\n",
       "      <th>3</th>\n",
       "      <td>1</td>\n",
       "      <td>76240</td>\n",
       "      <td>0.983770</td>\n",
       "      <td>0.983</td>\n",
       "      <td>0.9837</td>\n",
       "      <td>0.98377</td>\n",
       "      <td>0.983770</td>\n",
       "      <td>0.9837704</td>\n",
       "      <td>0.98377043</td>\n",
       "      <td>0.983770432</td>\n",
       "      <td>...</td>\n",
       "      <td>0.98377043282</td>\n",
       "      <td>14</td>\n",
       "      <td>6</td>\n",
       "      <td>1</td>\n",
       "      <td>1</td>\n",
       "      <td>1</td>\n",
       "      <td>1</td>\n",
       "      <td>1</td>\n",
       "      <td>1</td>\n",
       "      <td>1</td>\n",
       "    </tr>\n",
       "    <tr>\n",
       "      <th>4</th>\n",
       "      <td>1</td>\n",
       "      <td>87533</td>\n",
       "      <td>0.983790</td>\n",
       "      <td>0.983</td>\n",
       "      <td>0.9837</td>\n",
       "      <td>0.98378</td>\n",
       "      <td>0.983789</td>\n",
       "      <td>0.9837895</td>\n",
       "      <td>0.98378950</td>\n",
       "      <td>0.983789507</td>\n",
       "      <td>...</td>\n",
       "      <td>0.98378950708</td>\n",
       "      <td>14</td>\n",
       "      <td>6</td>\n",
       "      <td>2</td>\n",
       "      <td>2</td>\n",
       "      <td>2</td>\n",
       "      <td>1</td>\n",
       "      <td>1</td>\n",
       "      <td>1</td>\n",
       "      <td>1</td>\n",
       "    </tr>\n",
       "  </tbody>\n",
       "</table>\n",
       "<p>5 rows × 21 columns</p>\n",
       "</div>"
      ],
      "text/plain": [
       "  user_id item_id      time time_top_5 time_top_6 time_top_7 time_top_8  \\\n",
       "0       1   78142  0.983742      0.983     0.9837    0.98374   0.983741   \n",
       "1       1   26646  0.983757      0.983     0.9837    0.98375   0.983756   \n",
       "2       1   89568  0.983763      0.983     0.9837    0.98376   0.983763   \n",
       "3       1   76240  0.983770      0.983     0.9837    0.98377   0.983770   \n",
       "4       1   87533  0.983790      0.983     0.9837    0.98378   0.983789   \n",
       "\n",
       "  time_top_9 time_top_10  time_top_11  ...    time_top_13  \\\n",
       "0  0.9837416  0.98374161  0.983741619  ...  0.98374161954   \n",
       "1  0.9837566  0.98375665  0.983756656  ...  0.98375665612   \n",
       "2  0.9837634  0.98376343  0.983763437  ...  0.98376343753   \n",
       "3  0.9837704  0.98377043  0.983770432  ...  0.98377043282   \n",
       "4  0.9837895  0.98378950  0.983789507  ...  0.98378950708   \n",
       "\n",
       "  time_top_5_user_clickcount  time_top_6_user_clickcount  \\\n",
       "0                         14                           6   \n",
       "1                         14                           6   \n",
       "2                         14                           6   \n",
       "3                         14                           6   \n",
       "4                         14                           6   \n",
       "\n",
       "   time_top_7_user_clickcount  time_top_8_user_clickcount  \\\n",
       "0                           1                           1   \n",
       "1                           1                           1   \n",
       "2                           1                           1   \n",
       "3                           1                           1   \n",
       "4                           2                           2   \n",
       "\n",
       "   time_top_9_user_clickcount  time_top_10_user_clickcount  \\\n",
       "0                           1                            1   \n",
       "1                           1                            1   \n",
       "2                           1                            1   \n",
       "3                           1                            1   \n",
       "4                           2                            1   \n",
       "\n",
       "   time_top_11_user_clickcount  time_top_12_user_clickcount  \\\n",
       "0                            1                            1   \n",
       "1                            1                            1   \n",
       "2                            1                            1   \n",
       "3                            1                            1   \n",
       "4                            1                            1   \n",
       "\n",
       "   time_top_13_user_clickcount  \n",
       "0                            1  \n",
       "1                            1  \n",
       "2                            1  \n",
       "3                            1  \n",
       "4                            1  \n",
       "\n",
       "[5 rows x 21 columns]"
      ]
     },
     "execution_count": 385,
     "metadata": {},
     "output_type": "execute_result"
    }
   ],
   "source": [
    "train_click=train_click_data\n",
    "for i in range(5,14):\n",
    "    col=\"time_top_{0}\".format(i)\n",
    "    test_click_n=train_click.groupby(['user_id', col]).size().reset_index()\n",
    "    col_count=col+\"_user_clickcount\"\n",
    "    test_click_n.rename(columns={0: col_count}, inplace=True)\n",
    "    train_click= pd.merge(train_click, test_click_n, how='left', on=['user_id', col])\n",
    "train_click.head()"
   ]
  },
  {
   "cell_type": "markdown",
   "metadata": {},
   "source": [
    "#### 商品在某一时间戳下发生点击次数"
   ]
  },
  {
   "cell_type": "code",
   "execution_count": 386,
   "metadata": {},
   "outputs": [
    {
     "data": {
      "text/html": [
       "<div>\n",
       "<style scoped>\n",
       "    .dataframe tbody tr th:only-of-type {\n",
       "        vertical-align: middle;\n",
       "    }\n",
       "\n",
       "    .dataframe tbody tr th {\n",
       "        vertical-align: top;\n",
       "    }\n",
       "\n",
       "    .dataframe thead th {\n",
       "        text-align: right;\n",
       "    }\n",
       "</style>\n",
       "<table border=\"1\" class=\"dataframe\">\n",
       "  <thead>\n",
       "    <tr style=\"text-align: right;\">\n",
       "      <th></th>\n",
       "      <th>user_id</th>\n",
       "      <th>item_id</th>\n",
       "      <th>time</th>\n",
       "      <th>time_top_5</th>\n",
       "      <th>time_top_6</th>\n",
       "      <th>time_top_7</th>\n",
       "      <th>time_top_8</th>\n",
       "      <th>time_top_9</th>\n",
       "      <th>time_top_10</th>\n",
       "      <th>time_top_11</th>\n",
       "      <th>...</th>\n",
       "      <th>time_top_13_user_clickcount</th>\n",
       "      <th>time_top_5_item_clickcount</th>\n",
       "      <th>time_top_6_item_clickcount</th>\n",
       "      <th>time_top_7_item_clickcount</th>\n",
       "      <th>time_top_8_item_clickcount</th>\n",
       "      <th>time_top_9_item_clickcount</th>\n",
       "      <th>time_top_10_item_clickcount</th>\n",
       "      <th>time_top_11_item_clickcount</th>\n",
       "      <th>time_top_12_item_clickcount</th>\n",
       "      <th>time_top_13_item_clickcount</th>\n",
       "    </tr>\n",
       "  </thead>\n",
       "  <tbody>\n",
       "    <tr>\n",
       "      <th>0</th>\n",
       "      <td>1</td>\n",
       "      <td>78142</td>\n",
       "      <td>0.983742</td>\n",
       "      <td>0.983</td>\n",
       "      <td>0.9837</td>\n",
       "      <td>0.98374</td>\n",
       "      <td>0.983741</td>\n",
       "      <td>0.9837416</td>\n",
       "      <td>0.98374161</td>\n",
       "      <td>0.983741619</td>\n",
       "      <td>...</td>\n",
       "      <td>1</td>\n",
       "      <td>17</td>\n",
       "      <td>1</td>\n",
       "      <td>1</td>\n",
       "      <td>1</td>\n",
       "      <td>1</td>\n",
       "      <td>1</td>\n",
       "      <td>1</td>\n",
       "      <td>1</td>\n",
       "      <td>1</td>\n",
       "    </tr>\n",
       "    <tr>\n",
       "      <th>1</th>\n",
       "      <td>1</td>\n",
       "      <td>26646</td>\n",
       "      <td>0.983757</td>\n",
       "      <td>0.983</td>\n",
       "      <td>0.9837</td>\n",
       "      <td>0.98375</td>\n",
       "      <td>0.983756</td>\n",
       "      <td>0.9837566</td>\n",
       "      <td>0.98375665</td>\n",
       "      <td>0.983756656</td>\n",
       "      <td>...</td>\n",
       "      <td>1</td>\n",
       "      <td>4</td>\n",
       "      <td>1</td>\n",
       "      <td>1</td>\n",
       "      <td>1</td>\n",
       "      <td>1</td>\n",
       "      <td>1</td>\n",
       "      <td>1</td>\n",
       "      <td>1</td>\n",
       "      <td>1</td>\n",
       "    </tr>\n",
       "    <tr>\n",
       "      <th>2</th>\n",
       "      <td>1</td>\n",
       "      <td>89568</td>\n",
       "      <td>0.983763</td>\n",
       "      <td>0.983</td>\n",
       "      <td>0.9837</td>\n",
       "      <td>0.98376</td>\n",
       "      <td>0.983763</td>\n",
       "      <td>0.9837634</td>\n",
       "      <td>0.98376343</td>\n",
       "      <td>0.983763437</td>\n",
       "      <td>...</td>\n",
       "      <td>1</td>\n",
       "      <td>15</td>\n",
       "      <td>3</td>\n",
       "      <td>2</td>\n",
       "      <td>1</td>\n",
       "      <td>1</td>\n",
       "      <td>1</td>\n",
       "      <td>1</td>\n",
       "      <td>1</td>\n",
       "      <td>1</td>\n",
       "    </tr>\n",
       "    <tr>\n",
       "      <th>3</th>\n",
       "      <td>1</td>\n",
       "      <td>76240</td>\n",
       "      <td>0.983770</td>\n",
       "      <td>0.983</td>\n",
       "      <td>0.9837</td>\n",
       "      <td>0.98377</td>\n",
       "      <td>0.983770</td>\n",
       "      <td>0.9837704</td>\n",
       "      <td>0.98377043</td>\n",
       "      <td>0.983770432</td>\n",
       "      <td>...</td>\n",
       "      <td>1</td>\n",
       "      <td>5</td>\n",
       "      <td>1</td>\n",
       "      <td>1</td>\n",
       "      <td>1</td>\n",
       "      <td>1</td>\n",
       "      <td>1</td>\n",
       "      <td>1</td>\n",
       "      <td>1</td>\n",
       "      <td>1</td>\n",
       "    </tr>\n",
       "    <tr>\n",
       "      <th>4</th>\n",
       "      <td>1</td>\n",
       "      <td>87533</td>\n",
       "      <td>0.983790</td>\n",
       "      <td>0.983</td>\n",
       "      <td>0.9837</td>\n",
       "      <td>0.98378</td>\n",
       "      <td>0.983789</td>\n",
       "      <td>0.9837895</td>\n",
       "      <td>0.98378950</td>\n",
       "      <td>0.983789507</td>\n",
       "      <td>...</td>\n",
       "      <td>1</td>\n",
       "      <td>3</td>\n",
       "      <td>1</td>\n",
       "      <td>1</td>\n",
       "      <td>1</td>\n",
       "      <td>1</td>\n",
       "      <td>1</td>\n",
       "      <td>1</td>\n",
       "      <td>1</td>\n",
       "      <td>1</td>\n",
       "    </tr>\n",
       "  </tbody>\n",
       "</table>\n",
       "<p>5 rows × 30 columns</p>\n",
       "</div>"
      ],
      "text/plain": [
       "  user_id item_id      time time_top_5 time_top_6 time_top_7 time_top_8  \\\n",
       "0       1   78142  0.983742      0.983     0.9837    0.98374   0.983741   \n",
       "1       1   26646  0.983757      0.983     0.9837    0.98375   0.983756   \n",
       "2       1   89568  0.983763      0.983     0.9837    0.98376   0.983763   \n",
       "3       1   76240  0.983770      0.983     0.9837    0.98377   0.983770   \n",
       "4       1   87533  0.983790      0.983     0.9837    0.98378   0.983789   \n",
       "\n",
       "  time_top_9 time_top_10  time_top_11  ... time_top_13_user_clickcount  \\\n",
       "0  0.9837416  0.98374161  0.983741619  ...                           1   \n",
       "1  0.9837566  0.98375665  0.983756656  ...                           1   \n",
       "2  0.9837634  0.98376343  0.983763437  ...                           1   \n",
       "3  0.9837704  0.98377043  0.983770432  ...                           1   \n",
       "4  0.9837895  0.98378950  0.983789507  ...                           1   \n",
       "\n",
       "  time_top_5_item_clickcount  time_top_6_item_clickcount  \\\n",
       "0                         17                           1   \n",
       "1                          4                           1   \n",
       "2                         15                           3   \n",
       "3                          5                           1   \n",
       "4                          3                           1   \n",
       "\n",
       "   time_top_7_item_clickcount  time_top_8_item_clickcount  \\\n",
       "0                           1                           1   \n",
       "1                           1                           1   \n",
       "2                           2                           1   \n",
       "3                           1                           1   \n",
       "4                           1                           1   \n",
       "\n",
       "   time_top_9_item_clickcount  time_top_10_item_clickcount  \\\n",
       "0                           1                            1   \n",
       "1                           1                            1   \n",
       "2                           1                            1   \n",
       "3                           1                            1   \n",
       "4                           1                            1   \n",
       "\n",
       "   time_top_11_item_clickcount  time_top_12_item_clickcount  \\\n",
       "0                            1                            1   \n",
       "1                            1                            1   \n",
       "2                            1                            1   \n",
       "3                            1                            1   \n",
       "4                            1                            1   \n",
       "\n",
       "   time_top_13_item_clickcount  \n",
       "0                            1  \n",
       "1                            1  \n",
       "2                            1  \n",
       "3                            1  \n",
       "4                            1  \n",
       "\n",
       "[5 rows x 30 columns]"
      ]
     },
     "execution_count": 386,
     "metadata": {},
     "output_type": "execute_result"
    }
   ],
   "source": [
    "for i in range(5,14):\n",
    "    col=\"time_top_{0}\".format(i)\n",
    "    test_click_n=train_click.groupby(['item_id', col]).size().reset_index()\n",
    "    col_count=col+\"_item_clickcount\"\n",
    "    test_click_n.rename(columns={0: col_count}, inplace=True)\n",
    "    train_click= pd.merge(train_click, test_click_n, how='left', on=['item_id', col])\n",
    "train_click.head()"
   ]
  },
  {
   "cell_type": "code",
   "execution_count": 388,
   "metadata": {},
   "outputs": [
    {
     "data": {
      "text/plain": [
       "804043"
      ]
     },
     "execution_count": 388,
     "metadata": {},
     "output_type": "execute_result"
    },
    {
     "data": {
      "text/plain": [
       "804043"
      ]
     },
     "execution_count": 388,
     "metadata": {},
     "output_type": "execute_result"
    }
   ],
   "source": [
    "train_click.shape[0]\n",
    "train_click_data.shape[0]"
   ]
  },
  {
   "cell_type": "markdown",
   "metadata": {},
   "source": [
    "#### 用户和商品点击次数出现的个数"
   ]
  },
  {
   "cell_type": "code",
   "execution_count": 409,
   "metadata": {},
   "outputs": [
    {
     "data": {
      "text/plain": [
       "[168, 136, 109, 65, 27, 11, 4, 3, 3]"
      ]
     },
     "execution_count": 409,
     "metadata": {},
     "output_type": "execute_result"
    }
   ],
   "source": [
    "shape_item_num=[]\n",
    "for i in range(5,14):\n",
    "    col=\"time_top_{0}\".format(i)\n",
    " \n",
    "    item_col_count=col+\"_item_clickcount\"\n",
    "   \n",
    "    shape_item_num.append(train_click[item_col_count].drop_duplicates().shape[0])\n",
    "shape_item_num"
   ]
  },
  {
   "cell_type": "code",
   "execution_count": 411,
   "metadata": {},
   "outputs": [
    {
     "data": {
      "text/plain": [
       "[174, 119, 69, 38, 19, 5, 4, 4, 4]"
      ]
     },
     "execution_count": 411,
     "metadata": {},
     "output_type": "execute_result"
    }
   ],
   "source": [
    "shape_user_num=[]\n",
    "for i in range(5,14):\n",
    "    col=\"time_top_{0}\".format(i)\n",
    " \n",
    "    user_col_count=col+\"_user_clickcount\"\n",
    "   \n",
    "    shape_user_num.append(train_click[user_col_count].drop_duplicates().shape[0])\n",
    "shape_user_num"
   ]
  },
  {
   "cell_type": "code",
   "execution_count": 419,
   "metadata": {},
   "outputs": [
    {
     "data": {
      "text/html": [
       "<div>\n",
       "<style scoped>\n",
       "    .dataframe tbody tr th:only-of-type {\n",
       "        vertical-align: middle;\n",
       "    }\n",
       "\n",
       "    .dataframe tbody tr th {\n",
       "        vertical-align: top;\n",
       "    }\n",
       "\n",
       "    .dataframe thead th {\n",
       "        text-align: right;\n",
       "    }\n",
       "</style>\n",
       "<table border=\"1\" class=\"dataframe\">\n",
       "  <thead>\n",
       "    <tr style=\"text-align: right;\">\n",
       "      <th></th>\n",
       "      <th>time_top_5_item_clickcount</th>\n",
       "    </tr>\n",
       "  </thead>\n",
       "  <tbody>\n",
       "    <tr>\n",
       "      <th>4</th>\n",
       "      <td>115680</td>\n",
       "    </tr>\n",
       "    <tr>\n",
       "      <th>5</th>\n",
       "      <td>91445</td>\n",
       "    </tr>\n",
       "    <tr>\n",
       "      <th>6</th>\n",
       "      <td>72420</td>\n",
       "    </tr>\n",
       "    <tr>\n",
       "      <th>7</th>\n",
       "      <td>56490</td>\n",
       "    </tr>\n",
       "    <tr>\n",
       "      <th>3</th>\n",
       "      <td>55839</td>\n",
       "    </tr>\n",
       "    <tr>\n",
       "      <th>...</th>\n",
       "      <td>...</td>\n",
       "    </tr>\n",
       "    <tr>\n",
       "      <th>120</th>\n",
       "      <td>120</td>\n",
       "    </tr>\n",
       "    <tr>\n",
       "      <th>112</th>\n",
       "      <td>112</td>\n",
       "    </tr>\n",
       "    <tr>\n",
       "      <th>103</th>\n",
       "      <td>103</td>\n",
       "    </tr>\n",
       "    <tr>\n",
       "      <th>100</th>\n",
       "      <td>100</td>\n",
       "    </tr>\n",
       "    <tr>\n",
       "      <th>84</th>\n",
       "      <td>84</td>\n",
       "    </tr>\n",
       "  </tbody>\n",
       "</table>\n",
       "<p>168 rows × 1 columns</p>\n",
       "</div>"
      ],
      "text/plain": [
       "     time_top_5_item_clickcount\n",
       "4                        115680\n",
       "5                         91445\n",
       "6                         72420\n",
       "7                         56490\n",
       "3                         55839\n",
       "..                          ...\n",
       "120                         120\n",
       "112                         112\n",
       "103                         103\n",
       "100                         100\n",
       "84                           84\n",
       "\n",
       "[168 rows x 1 columns]"
      ]
     },
     "execution_count": 419,
     "metadata": {},
     "output_type": "execute_result"
    }
   ],
   "source": [
    "train_click['time_top_5_item_clickcount'].value_counts().to_frame()"
   ]
  },
  {
   "cell_type": "code",
   "execution_count": 420,
   "metadata": {},
   "outputs": [
    {
     "data": {
      "text/html": [
       "<div>\n",
       "<style scoped>\n",
       "    .dataframe tbody tr th:only-of-type {\n",
       "        vertical-align: middle;\n",
       "    }\n",
       "\n",
       "    .dataframe tbody tr th {\n",
       "        vertical-align: top;\n",
       "    }\n",
       "\n",
       "    .dataframe thead th {\n",
       "        text-align: right;\n",
       "    }\n",
       "</style>\n",
       "<table border=\"1\" class=\"dataframe\">\n",
       "  <thead>\n",
       "    <tr style=\"text-align: right;\">\n",
       "      <th></th>\n",
       "      <th>time_top_6_item_clickcount</th>\n",
       "    </tr>\n",
       "  </thead>\n",
       "  <tbody>\n",
       "    <tr>\n",
       "      <th>2</th>\n",
       "      <td>168280</td>\n",
       "    </tr>\n",
       "    <tr>\n",
       "      <th>3</th>\n",
       "      <td>148980</td>\n",
       "    </tr>\n",
       "    <tr>\n",
       "      <th>1</th>\n",
       "      <td>104021</td>\n",
       "    </tr>\n",
       "    <tr>\n",
       "      <th>4</th>\n",
       "      <td>96796</td>\n",
       "    </tr>\n",
       "    <tr>\n",
       "      <th>5</th>\n",
       "      <td>60235</td>\n",
       "    </tr>\n",
       "    <tr>\n",
       "      <th>...</th>\n",
       "      <td>...</td>\n",
       "    </tr>\n",
       "    <tr>\n",
       "      <th>100</th>\n",
       "      <td>100</td>\n",
       "    </tr>\n",
       "    <tr>\n",
       "      <th>94</th>\n",
       "      <td>94</td>\n",
       "    </tr>\n",
       "    <tr>\n",
       "      <th>92</th>\n",
       "      <td>92</td>\n",
       "    </tr>\n",
       "    <tr>\n",
       "      <th>91</th>\n",
       "      <td>91</td>\n",
       "    </tr>\n",
       "    <tr>\n",
       "      <th>73</th>\n",
       "      <td>73</td>\n",
       "    </tr>\n",
       "  </tbody>\n",
       "</table>\n",
       "<p>136 rows × 1 columns</p>\n",
       "</div>"
      ],
      "text/plain": [
       "     time_top_6_item_clickcount\n",
       "2                        168280\n",
       "3                        148980\n",
       "1                        104021\n",
       "4                         96796\n",
       "5                         60235\n",
       "..                          ...\n",
       "100                         100\n",
       "94                           94\n",
       "92                           92\n",
       "91                           91\n",
       "73                           73\n",
       "\n",
       "[136 rows x 1 columns]"
      ]
     },
     "execution_count": 420,
     "metadata": {},
     "output_type": "execute_result"
    }
   ],
   "source": [
    "train_click['time_top_6_item_clickcount'].value_counts().to_frame()"
   ]
  },
  {
   "cell_type": "code",
   "execution_count": 421,
   "metadata": {},
   "outputs": [
    {
     "data": {
      "text/html": [
       "<div>\n",
       "<style scoped>\n",
       "    .dataframe tbody tr th:only-of-type {\n",
       "        vertical-align: middle;\n",
       "    }\n",
       "\n",
       "    .dataframe tbody tr th {\n",
       "        vertical-align: top;\n",
       "    }\n",
       "\n",
       "    .dataframe thead th {\n",
       "        text-align: right;\n",
       "    }\n",
       "</style>\n",
       "<table border=\"1\" class=\"dataframe\">\n",
       "  <thead>\n",
       "    <tr style=\"text-align: right;\">\n",
       "      <th></th>\n",
       "      <th>time_top_7_item_clickcount</th>\n",
       "    </tr>\n",
       "  </thead>\n",
       "  <tbody>\n",
       "    <tr>\n",
       "      <th>1</th>\n",
       "      <td>504192</td>\n",
       "    </tr>\n",
       "    <tr>\n",
       "      <th>2</th>\n",
       "      <td>170506</td>\n",
       "    </tr>\n",
       "    <tr>\n",
       "      <th>3</th>\n",
       "      <td>51738</td>\n",
       "    </tr>\n",
       "    <tr>\n",
       "      <th>4</th>\n",
       "      <td>21508</td>\n",
       "    </tr>\n",
       "    <tr>\n",
       "      <th>5</th>\n",
       "      <td>11380</td>\n",
       "    </tr>\n",
       "    <tr>\n",
       "      <th>...</th>\n",
       "      <td>...</td>\n",
       "    </tr>\n",
       "    <tr>\n",
       "      <th>83</th>\n",
       "      <td>83</td>\n",
       "    </tr>\n",
       "    <tr>\n",
       "      <th>41</th>\n",
       "      <td>82</td>\n",
       "    </tr>\n",
       "    <tr>\n",
       "      <th>80</th>\n",
       "      <td>80</td>\n",
       "    </tr>\n",
       "    <tr>\n",
       "      <th>40</th>\n",
       "      <td>80</td>\n",
       "    </tr>\n",
       "    <tr>\n",
       "      <th>44</th>\n",
       "      <td>44</td>\n",
       "    </tr>\n",
       "  </tbody>\n",
       "</table>\n",
       "<p>109 rows × 1 columns</p>\n",
       "</div>"
      ],
      "text/plain": [
       "    time_top_7_item_clickcount\n",
       "1                       504192\n",
       "2                       170506\n",
       "3                        51738\n",
       "4                        21508\n",
       "5                        11380\n",
       "..                         ...\n",
       "83                          83\n",
       "41                          82\n",
       "80                          80\n",
       "40                          80\n",
       "44                          44\n",
       "\n",
       "[109 rows x 1 columns]"
      ]
     },
     "execution_count": 421,
     "metadata": {},
     "output_type": "execute_result"
    }
   ],
   "source": [
    "train_click['time_top_7_item_clickcount'].value_counts().to_frame()"
   ]
  },
  {
   "cell_type": "code",
   "execution_count": 422,
   "metadata": {},
   "outputs": [
    {
     "data": {
      "text/html": [
       "<div>\n",
       "<style scoped>\n",
       "    .dataframe tbody tr th:only-of-type {\n",
       "        vertical-align: middle;\n",
       "    }\n",
       "\n",
       "    .dataframe tbody tr th {\n",
       "        vertical-align: top;\n",
       "    }\n",
       "\n",
       "    .dataframe thead th {\n",
       "        text-align: right;\n",
       "    }\n",
       "</style>\n",
       "<table border=\"1\" class=\"dataframe\">\n",
       "  <thead>\n",
       "    <tr style=\"text-align: right;\">\n",
       "      <th></th>\n",
       "      <th>time_top_8_item_clickcount</th>\n",
       "    </tr>\n",
       "  </thead>\n",
       "  <tbody>\n",
       "    <tr>\n",
       "      <th>1</th>\n",
       "      <td>728397</td>\n",
       "    </tr>\n",
       "    <tr>\n",
       "      <th>2</th>\n",
       "      <td>47184</td>\n",
       "    </tr>\n",
       "    <tr>\n",
       "      <th>3</th>\n",
       "      <td>7173</td>\n",
       "    </tr>\n",
       "    <tr>\n",
       "      <th>4</th>\n",
       "      <td>2664</td>\n",
       "    </tr>\n",
       "    <tr>\n",
       "      <th>5</th>\n",
       "      <td>1455</td>\n",
       "    </tr>\n",
       "    <tr>\n",
       "      <th>...</th>\n",
       "      <td>...</td>\n",
       "    </tr>\n",
       "    <tr>\n",
       "      <th>65</th>\n",
       "      <td>65</td>\n",
       "    </tr>\n",
       "    <tr>\n",
       "      <th>63</th>\n",
       "      <td>63</td>\n",
       "    </tr>\n",
       "    <tr>\n",
       "      <th>58</th>\n",
       "      <td>58</td>\n",
       "    </tr>\n",
       "    <tr>\n",
       "      <th>56</th>\n",
       "      <td>56</td>\n",
       "    </tr>\n",
       "    <tr>\n",
       "      <th>55</th>\n",
       "      <td>55</td>\n",
       "    </tr>\n",
       "  </tbody>\n",
       "</table>\n",
       "<p>65 rows × 1 columns</p>\n",
       "</div>"
      ],
      "text/plain": [
       "    time_top_8_item_clickcount\n",
       "1                       728397\n",
       "2                        47184\n",
       "3                         7173\n",
       "4                         2664\n",
       "5                         1455\n",
       "..                         ...\n",
       "65                          65\n",
       "63                          63\n",
       "58                          58\n",
       "56                          56\n",
       "55                          55\n",
       "\n",
       "[65 rows x 1 columns]"
      ]
     },
     "execution_count": 422,
     "metadata": {},
     "output_type": "execute_result"
    }
   ],
   "source": [
    "train_click['time_top_8_item_clickcount'].value_counts().to_frame()"
   ]
  },
  {
   "cell_type": "code",
   "execution_count": null,
   "metadata": {},
   "outputs": [],
   "source": []
  },
  {
   "cell_type": "code",
   "execution_count": null,
   "metadata": {},
   "outputs": [],
   "source": []
  },
  {
   "cell_type": "markdown",
   "metadata": {},
   "source": [
    "### 读取用户数据"
   ]
  },
  {
   "cell_type": "code",
   "execution_count": 145,
   "metadata": {},
   "outputs": [],
   "source": [
    "train_user_data=getTrainData(train_path_user,isckick=False,names=['user_id', 'user_age_level', 'user_gender','user_city_level'])"
   ]
  },
  {
   "cell_type": "code",
   "execution_count": 146,
   "metadata": {},
   "outputs": [
    {
     "data": {
      "text/html": [
       "<div>\n",
       "<style scoped>\n",
       "    .dataframe tbody tr th:only-of-type {\n",
       "        vertical-align: middle;\n",
       "    }\n",
       "\n",
       "    .dataframe tbody tr th {\n",
       "        vertical-align: top;\n",
       "    }\n",
       "\n",
       "    .dataframe thead th {\n",
       "        text-align: right;\n",
       "    }\n",
       "</style>\n",
       "<table border=\"1\" class=\"dataframe\">\n",
       "  <thead>\n",
       "    <tr style=\"text-align: right;\">\n",
       "      <th></th>\n",
       "      <th>user_id</th>\n",
       "      <th>user_age_level</th>\n",
       "      <th>user_gender</th>\n",
       "      <th>user_city_level</th>\n",
       "    </tr>\n",
       "  </thead>\n",
       "  <tbody>\n",
       "    <tr>\n",
       "      <th>0</th>\n",
       "      <td>17</td>\n",
       "      <td>8.0</td>\n",
       "      <td>M</td>\n",
       "      <td>4.0</td>\n",
       "    </tr>\n",
       "    <tr>\n",
       "      <th>1</th>\n",
       "      <td>26</td>\n",
       "      <td>7.0</td>\n",
       "      <td>M</td>\n",
       "      <td>2.0</td>\n",
       "    </tr>\n",
       "    <tr>\n",
       "      <th>2</th>\n",
       "      <td>35</td>\n",
       "      <td>6.0</td>\n",
       "      <td>F</td>\n",
       "      <td>4.0</td>\n",
       "    </tr>\n",
       "    <tr>\n",
       "      <th>3</th>\n",
       "      <td>40</td>\n",
       "      <td>6.0</td>\n",
       "      <td>M</td>\n",
       "      <td>1.0</td>\n",
       "    </tr>\n",
       "    <tr>\n",
       "      <th>4</th>\n",
       "      <td>49</td>\n",
       "      <td>6.0</td>\n",
       "      <td>M</td>\n",
       "      <td>1.0</td>\n",
       "    </tr>\n",
       "  </tbody>\n",
       "</table>\n",
       "</div>"
      ],
      "text/plain": [
       "   user_id  user_age_level user_gender  user_city_level\n",
       "0       17             8.0           M              4.0\n",
       "1       26             7.0           M              2.0\n",
       "2       35             6.0           F              4.0\n",
       "3       40             6.0           M              1.0\n",
       "4       49             6.0           M              1.0"
      ]
     },
     "execution_count": 146,
     "metadata": {},
     "output_type": "execute_result"
    },
    {
     "name": "stdout",
     "output_type": "stream",
     "text": [
      "<class 'pandas.core.frame.DataFrame'>\n",
      "RangeIndex: 6789 entries, 0 to 6788\n",
      "Data columns (total 4 columns):\n",
      " #   Column           Non-Null Count  Dtype  \n",
      "---  ------           --------------  -----  \n",
      " 0   user_id          6789 non-null   int64  \n",
      " 1   user_age_level   6706 non-null   float64\n",
      " 2   user_gender      6708 non-null   object \n",
      " 3   user_city_level  6767 non-null   float64\n",
      "dtypes: float64(2), int64(1), object(1)\n",
      "memory usage: 212.3+ KB\n"
     ]
    },
    {
     "data": {
      "text/html": [
       "<div>\n",
       "<style scoped>\n",
       "    .dataframe tbody tr th:only-of-type {\n",
       "        vertical-align: middle;\n",
       "    }\n",
       "\n",
       "    .dataframe tbody tr th {\n",
       "        vertical-align: top;\n",
       "    }\n",
       "\n",
       "    .dataframe thead th {\n",
       "        text-align: right;\n",
       "    }\n",
       "</style>\n",
       "<table border=\"1\" class=\"dataframe\">\n",
       "  <thead>\n",
       "    <tr style=\"text-align: right;\">\n",
       "      <th></th>\n",
       "      <th>user_id</th>\n",
       "      <th>user_age_level</th>\n",
       "      <th>user_city_level</th>\n",
       "    </tr>\n",
       "  </thead>\n",
       "  <tbody>\n",
       "    <tr>\n",
       "      <th>count</th>\n",
       "      <td>6789.000000</td>\n",
       "      <td>6706.000000</td>\n",
       "      <td>6767.000000</td>\n",
       "    </tr>\n",
       "    <tr>\n",
       "      <th>mean</th>\n",
       "      <td>17247.432170</td>\n",
       "      <td>4.535789</td>\n",
       "      <td>3.708438</td>\n",
       "    </tr>\n",
       "    <tr>\n",
       "      <th>std</th>\n",
       "      <td>10062.597713</td>\n",
       "      <td>1.803134</td>\n",
       "      <td>1.798518</td>\n",
       "    </tr>\n",
       "    <tr>\n",
       "      <th>min</th>\n",
       "      <td>10.000000</td>\n",
       "      <td>1.000000</td>\n",
       "      <td>1.000000</td>\n",
       "    </tr>\n",
       "    <tr>\n",
       "      <th>25%</th>\n",
       "      <td>8637.000000</td>\n",
       "      <td>3.000000</td>\n",
       "      <td>2.000000</td>\n",
       "    </tr>\n",
       "    <tr>\n",
       "      <th>50%</th>\n",
       "      <td>17196.000000</td>\n",
       "      <td>5.000000</td>\n",
       "      <td>3.000000</td>\n",
       "    </tr>\n",
       "    <tr>\n",
       "      <th>75%</th>\n",
       "      <td>25856.000000</td>\n",
       "      <td>6.000000</td>\n",
       "      <td>6.000000</td>\n",
       "    </tr>\n",
       "    <tr>\n",
       "      <th>max</th>\n",
       "      <td>35432.000000</td>\n",
       "      <td>8.000000</td>\n",
       "      <td>6.000000</td>\n",
       "    </tr>\n",
       "  </tbody>\n",
       "</table>\n",
       "</div>"
      ],
      "text/plain": [
       "            user_id  user_age_level  user_city_level\n",
       "count   6789.000000     6706.000000      6767.000000\n",
       "mean   17247.432170        4.535789         3.708438\n",
       "std    10062.597713        1.803134         1.798518\n",
       "min       10.000000        1.000000         1.000000\n",
       "25%     8637.000000        3.000000         2.000000\n",
       "50%    17196.000000        5.000000         3.000000\n",
       "75%    25856.000000        6.000000         6.000000\n",
       "max    35432.000000        8.000000         6.000000"
      ]
     },
     "execution_count": 146,
     "metadata": {},
     "output_type": "execute_result"
    },
    {
     "data": {
      "text/plain": [
       "6789"
      ]
     },
     "execution_count": 146,
     "metadata": {},
     "output_type": "execute_result"
    }
   ],
   "source": [
    "train_user_data.head()\n",
    "train_user_data.info()\n",
    "train_user_data.describe()\n",
    "train_user_data.shape[0]"
   ]
  },
  {
   "cell_type": "markdown",
   "metadata": {},
   "source": [
    "## 获取测试数据集"
   ]
  },
  {
   "cell_type": "code",
   "execution_count": 435,
   "metadata": {},
   "outputs": [],
   "source": [
    "test_click_data=getTrainData(test_path_click,isckick=True,names=['user_id', 'item_id', 'time'],num=6)"
   ]
  },
  {
   "cell_type": "code",
   "execution_count": 436,
   "metadata": {},
   "outputs": [
    {
     "data": {
      "text/html": [
       "<div>\n",
       "<style scoped>\n",
       "    .dataframe tbody tr th:only-of-type {\n",
       "        vertical-align: middle;\n",
       "    }\n",
       "\n",
       "    .dataframe tbody tr th {\n",
       "        vertical-align: top;\n",
       "    }\n",
       "\n",
       "    .dataframe thead th {\n",
       "        text-align: right;\n",
       "    }\n",
       "</style>\n",
       "<table border=\"1\" class=\"dataframe\">\n",
       "  <thead>\n",
       "    <tr style=\"text-align: right;\">\n",
       "      <th></th>\n",
       "      <th>user_id</th>\n",
       "      <th>item_id</th>\n",
       "      <th>time</th>\n",
       "    </tr>\n",
       "  </thead>\n",
       "  <tbody>\n",
       "    <tr>\n",
       "      <th>0</th>\n",
       "      <td>1133</td>\n",
       "      <td>221</td>\n",
       "      <td>0.983812</td>\n",
       "    </tr>\n",
       "    <tr>\n",
       "      <th>1</th>\n",
       "      <td>17864</td>\n",
       "      <td>253</td>\n",
       "      <td>0.983783</td>\n",
       "    </tr>\n",
       "    <tr>\n",
       "      <th>2</th>\n",
       "      <td>6941</td>\n",
       "      <td>309</td>\n",
       "      <td>0.983785</td>\n",
       "    </tr>\n",
       "    <tr>\n",
       "      <th>3</th>\n",
       "      <td>34089</td>\n",
       "      <td>358</td>\n",
       "      <td>0.983781</td>\n",
       "    </tr>\n",
       "    <tr>\n",
       "      <th>4</th>\n",
       "      <td>21659</td>\n",
       "      <td>536</td>\n",
       "      <td>0.983793</td>\n",
       "    </tr>\n",
       "  </tbody>\n",
       "</table>\n",
       "</div>"
      ],
      "text/plain": [
       "  user_id item_id      time\n",
       "0    1133     221  0.983812\n",
       "1   17864     253  0.983783\n",
       "2    6941     309  0.983785\n",
       "3   34089     358  0.983781\n",
       "4   21659     536  0.983793"
      ]
     },
     "execution_count": 436,
     "metadata": {},
     "output_type": "execute_result"
    },
    {
     "name": "stdout",
     "output_type": "stream",
     "text": [
      "<class 'pandas.core.frame.DataFrame'>\n",
      "Int64Index: 146486 entries, 0 to 27652\n",
      "Data columns (total 3 columns):\n",
      " #   Column   Non-Null Count   Dtype  \n",
      "---  ------   --------------   -----  \n",
      " 0   user_id  146486 non-null  object \n",
      " 1   item_id  146486 non-null  object \n",
      " 2   time     146486 non-null  float64\n",
      "dtypes: float64(1), object(2)\n",
      "memory usage: 4.5+ MB\n"
     ]
    },
    {
     "data": {
      "text/plain": [
       "146486"
      ]
     },
     "execution_count": 436,
     "metadata": {},
     "output_type": "execute_result"
    }
   ],
   "source": [
    "test_click_data.head()\n",
    "test_click_data.info()\n",
    "test_click_data.shape[0]"
   ]
  },
  {
   "cell_type": "code",
   "execution_count": 437,
   "metadata": {},
   "outputs": [],
   "source": [
    "test_click_data_qtime=getTrainData(test_path_click_qtime,isckick=True,names=['user_id', 'query_time'],num=6)"
   ]
  },
  {
   "cell_type": "code",
   "execution_count": 438,
   "metadata": {},
   "outputs": [
    {
     "data": {
      "text/html": [
       "<div>\n",
       "<style scoped>\n",
       "    .dataframe tbody tr th:only-of-type {\n",
       "        vertical-align: middle;\n",
       "    }\n",
       "\n",
       "    .dataframe tbody tr th {\n",
       "        vertical-align: top;\n",
       "    }\n",
       "\n",
       "    .dataframe thead th {\n",
       "        text-align: right;\n",
       "    }\n",
       "</style>\n",
       "<table border=\"1\" class=\"dataframe\">\n",
       "  <thead>\n",
       "    <tr style=\"text-align: right;\">\n",
       "      <th></th>\n",
       "      <th>user_id</th>\n",
       "      <th>query_time</th>\n",
       "    </tr>\n",
       "  </thead>\n",
       "  <tbody>\n",
       "    <tr>\n",
       "      <th>0</th>\n",
       "      <td>11</td>\n",
       "      <td>0.983869</td>\n",
       "    </tr>\n",
       "    <tr>\n",
       "      <th>1</th>\n",
       "      <td>22</td>\n",
       "      <td>0.983956</td>\n",
       "    </tr>\n",
       "    <tr>\n",
       "      <th>2</th>\n",
       "      <td>44</td>\n",
       "      <td>0.983924</td>\n",
       "    </tr>\n",
       "    <tr>\n",
       "      <th>3</th>\n",
       "      <td>55</td>\n",
       "      <td>0.983953</td>\n",
       "    </tr>\n",
       "    <tr>\n",
       "      <th>4</th>\n",
       "      <td>66</td>\n",
       "      <td>0.983895</td>\n",
       "    </tr>\n",
       "  </tbody>\n",
       "</table>\n",
       "</div>"
      ],
      "text/plain": [
       "  user_id  query_time\n",
       "0      11    0.983869\n",
       "1      22    0.983956\n",
       "2      44    0.983924\n",
       "3      55    0.983953\n",
       "4      66    0.983895"
      ]
     },
     "execution_count": 438,
     "metadata": {},
     "output_type": "execute_result"
    },
    {
     "name": "stdout",
     "output_type": "stream",
     "text": [
      "<class 'pandas.core.frame.DataFrame'>\n",
      "Int64Index: 10260 entries, 0 to 1797\n",
      "Data columns (total 2 columns):\n",
      " #   Column      Non-Null Count  Dtype  \n",
      "---  ------      --------------  -----  \n",
      " 0   user_id     10260 non-null  object \n",
      " 1   query_time  10260 non-null  float64\n",
      "dtypes: float64(1), object(1)\n",
      "memory usage: 240.5+ KB\n"
     ]
    },
    {
     "data": {
      "text/plain": [
       "10260"
      ]
     },
     "execution_count": 438,
     "metadata": {},
     "output_type": "execute_result"
    }
   ],
   "source": [
    "test_click_data_qtime.head()\n",
    "test_click_data_qtime.info()\n",
    "test_click_data_qtime.shape[0]\n"
   ]
  },
  {
   "cell_type": "code",
   "execution_count": 443,
   "metadata": {},
   "outputs": [],
   "source": [
    "item_feat_train=pd.read_csv(train_path_item, header=None)"
   ]
  },
  {
   "cell_type": "code",
   "execution_count": 462,
   "metadata": {},
   "outputs": [],
   "source": [
    "item_feat_train_image=item_feat_train.loc[:,129:257]"
   ]
  },
  {
   "cell_type": "code",
   "execution_count": 463,
   "metadata": {},
   "outputs": [
    {
     "data": {
      "text/plain": [
       "Int64Index([129, 130, 131, 132, 133, 134, 135, 136, 137, 138,\n",
       "            ...\n",
       "            247, 248, 249, 250, 251, 252, 253, 254, 255, 256],\n",
       "           dtype='int64', length=128)"
      ]
     },
     "execution_count": 463,
     "metadata": {},
     "output_type": "execute_result"
    }
   ],
   "source": [
    "item_feat_train_image.columns"
   ]
  },
  {
   "cell_type": "code",
   "execution_count": 464,
   "metadata": {},
   "outputs": [
    {
     "data": {
      "text/html": [
       "<div>\n",
       "<style scoped>\n",
       "    .dataframe tbody tr th:only-of-type {\n",
       "        vertical-align: middle;\n",
       "    }\n",
       "\n",
       "    .dataframe tbody tr th {\n",
       "        vertical-align: top;\n",
       "    }\n",
       "\n",
       "    .dataframe thead th {\n",
       "        text-align: right;\n",
       "    }\n",
       "</style>\n",
       "<table border=\"1\" class=\"dataframe\">\n",
       "  <thead>\n",
       "    <tr style=\"text-align: right;\">\n",
       "      <th></th>\n",
       "      <th>129</th>\n",
       "      <th>130</th>\n",
       "      <th>131</th>\n",
       "      <th>132</th>\n",
       "      <th>133</th>\n",
       "      <th>134</th>\n",
       "      <th>135</th>\n",
       "      <th>136</th>\n",
       "      <th>137</th>\n",
       "      <th>138</th>\n",
       "      <th>...</th>\n",
       "      <th>247</th>\n",
       "      <th>248</th>\n",
       "      <th>249</th>\n",
       "      <th>250</th>\n",
       "      <th>251</th>\n",
       "      <th>252</th>\n",
       "      <th>253</th>\n",
       "      <th>254</th>\n",
       "      <th>255</th>\n",
       "      <th>256</th>\n",
       "    </tr>\n",
       "  </thead>\n",
       "  <tbody>\n",
       "    <tr>\n",
       "      <th>0</th>\n",
       "      <td>[-2.8722801208496094</td>\n",
       "      <td>1.458755</td>\n",
       "      <td>2.579013</td>\n",
       "      <td>-1.609747</td>\n",
       "      <td>1.437822</td>\n",
       "      <td>1.387496</td>\n",
       "      <td>0.724999</td>\n",
       "      <td>0.020332</td>\n",
       "      <td>0.312099</td>\n",
       "      <td>-1.999773</td>\n",
       "      <td>...</td>\n",
       "      <td>-3.374727</td>\n",
       "      <td>-1.506969</td>\n",
       "      <td>-1.820180</td>\n",
       "      <td>-3.024644</td>\n",
       "      <td>0.445263</td>\n",
       "      <td>0.013933</td>\n",
       "      <td>-1.300239</td>\n",
       "      <td>2.759948</td>\n",
       "      <td>2.056171</td>\n",
       "      <td>0.5087034702301025]</td>\n",
       "    </tr>\n",
       "    <tr>\n",
       "      <th>1</th>\n",
       "      <td>[-0.07052088528871536</td>\n",
       "      <td>-1.439334</td>\n",
       "      <td>0.772873</td>\n",
       "      <td>-2.348995</td>\n",
       "      <td>-0.235512</td>\n",
       "      <td>-0.870002</td>\n",
       "      <td>-0.542587</td>\n",
       "      <td>1.583197</td>\n",
       "      <td>1.742779</td>\n",
       "      <td>-2.993976</td>\n",
       "      <td>...</td>\n",
       "      <td>-0.538330</td>\n",
       "      <td>-2.620164</td>\n",
       "      <td>1.277195</td>\n",
       "      <td>0.601015</td>\n",
       "      <td>-0.345312</td>\n",
       "      <td>0.993457</td>\n",
       "      <td>1.351633</td>\n",
       "      <td>2.162675</td>\n",
       "      <td>2.768597</td>\n",
       "      <td>-0.9371970295906067]</td>\n",
       "    </tr>\n",
       "    <tr>\n",
       "      <th>2</th>\n",
       "      <td>[-5.18036413192749</td>\n",
       "      <td>-0.388247</td>\n",
       "      <td>-0.036235</td>\n",
       "      <td>-1.851022</td>\n",
       "      <td>1.223854</td>\n",
       "      <td>1.996782</td>\n",
       "      <td>0.794044</td>\n",
       "      <td>-0.290748</td>\n",
       "      <td>0.393296</td>\n",
       "      <td>-1.103014</td>\n",
       "      <td>...</td>\n",
       "      <td>-4.582711</td>\n",
       "      <td>-1.056910</td>\n",
       "      <td>-2.568084</td>\n",
       "      <td>-2.038061</td>\n",
       "      <td>2.508719</td>\n",
       "      <td>-0.764789</td>\n",
       "      <td>-0.657116</td>\n",
       "      <td>3.252782</td>\n",
       "      <td>2.687366</td>\n",
       "      <td>0.8443320989608765]</td>\n",
       "    </tr>\n",
       "    <tr>\n",
       "      <th>3</th>\n",
       "      <td>[-1.077273964881897</td>\n",
       "      <td>2.839453</td>\n",
       "      <td>1.183431</td>\n",
       "      <td>-1.098712</td>\n",
       "      <td>0.900597</td>\n",
       "      <td>1.422248</td>\n",
       "      <td>0.109828</td>\n",
       "      <td>-3.770131</td>\n",
       "      <td>0.138226</td>\n",
       "      <td>-3.430403</td>\n",
       "      <td>...</td>\n",
       "      <td>-0.487683</td>\n",
       "      <td>-1.889119</td>\n",
       "      <td>0.943015</td>\n",
       "      <td>-2.834418</td>\n",
       "      <td>1.633184</td>\n",
       "      <td>2.001801</td>\n",
       "      <td>-2.333152</td>\n",
       "      <td>2.645595</td>\n",
       "      <td>2.280233</td>\n",
       "      <td>-0.6944484114646912]</td>\n",
       "    </tr>\n",
       "    <tr>\n",
       "      <th>4</th>\n",
       "      <td>[-3.2601945400238037</td>\n",
       "      <td>0.498890</td>\n",
       "      <td>2.583143</td>\n",
       "      <td>-2.551381</td>\n",
       "      <td>1.466517</td>\n",
       "      <td>-0.195634</td>\n",
       "      <td>1.273064</td>\n",
       "      <td>0.444346</td>\n",
       "      <td>1.911644</td>\n",
       "      <td>-1.864195</td>\n",
       "      <td>...</td>\n",
       "      <td>-0.621475</td>\n",
       "      <td>-2.091410</td>\n",
       "      <td>0.501600</td>\n",
       "      <td>-3.083864</td>\n",
       "      <td>-1.060091</td>\n",
       "      <td>2.053600</td>\n",
       "      <td>-2.025008</td>\n",
       "      <td>2.399251</td>\n",
       "      <td>2.562317</td>\n",
       "      <td>0.6941336393356323]</td>\n",
       "    </tr>\n",
       "  </tbody>\n",
       "</table>\n",
       "<p>5 rows × 128 columns</p>\n",
       "</div>"
      ],
      "text/plain": [
       "                     129       130       131       132       133       134  \\\n",
       "0   [-2.8722801208496094  1.458755  2.579013 -1.609747  1.437822  1.387496   \n",
       "1  [-0.07052088528871536 -1.439334  0.772873 -2.348995 -0.235512 -0.870002   \n",
       "2     [-5.18036413192749 -0.388247 -0.036235 -1.851022  1.223854  1.996782   \n",
       "3    [-1.077273964881897  2.839453  1.183431 -1.098712  0.900597  1.422248   \n",
       "4   [-3.2601945400238037  0.498890  2.583143 -2.551381  1.466517 -0.195634   \n",
       "\n",
       "        135       136       137       138  ...       247       248       249  \\\n",
       "0  0.724999  0.020332  0.312099 -1.999773  ... -3.374727 -1.506969 -1.820180   \n",
       "1 -0.542587  1.583197  1.742779 -2.993976  ... -0.538330 -2.620164  1.277195   \n",
       "2  0.794044 -0.290748  0.393296 -1.103014  ... -4.582711 -1.056910 -2.568084   \n",
       "3  0.109828 -3.770131  0.138226 -3.430403  ... -0.487683 -1.889119  0.943015   \n",
       "4  1.273064  0.444346  1.911644 -1.864195  ... -0.621475 -2.091410  0.501600   \n",
       "\n",
       "        250       251       252       253       254       255  \\\n",
       "0 -3.024644  0.445263  0.013933 -1.300239  2.759948  2.056171   \n",
       "1  0.601015 -0.345312  0.993457  1.351633  2.162675  2.768597   \n",
       "2 -2.038061  2.508719 -0.764789 -0.657116  3.252782  2.687366   \n",
       "3 -2.834418  1.633184  2.001801 -2.333152  2.645595  2.280233   \n",
       "4 -3.083864 -1.060091  2.053600 -2.025008  2.399251  2.562317   \n",
       "\n",
       "                     256  \n",
       "0    0.5087034702301025]  \n",
       "1   -0.9371970295906067]  \n",
       "2    0.8443320989608765]  \n",
       "3   -0.6944484114646912]  \n",
       "4    0.6941336393356323]  \n",
       "\n",
       "[5 rows x 128 columns]"
      ]
     },
     "execution_count": 464,
     "metadata": {},
     "output_type": "execute_result"
    }
   ],
   "source": [
    "item_feat_train_image.head()"
   ]
  },
  {
   "cell_type": "code",
   "execution_count": 465,
   "metadata": {},
   "outputs": [],
   "source": [
    "item_feat_train_image[129]=item_feat_train_image[129].apply(lambda x: x[1:])"
   ]
  },
  {
   "cell_type": "code",
   "execution_count": 466,
   "metadata": {},
   "outputs": [],
   "source": [
    "item_feat_train_image[256]=item_feat_train_image[256].apply(lambda x: x[:-1])"
   ]
  },
  {
   "cell_type": "code",
   "execution_count": 468,
   "metadata": {},
   "outputs": [
    {
     "data": {
      "text/html": [
       "<div>\n",
       "<style scoped>\n",
       "    .dataframe tbody tr th:only-of-type {\n",
       "        vertical-align: middle;\n",
       "    }\n",
       "\n",
       "    .dataframe tbody tr th {\n",
       "        vertical-align: top;\n",
       "    }\n",
       "\n",
       "    .dataframe thead th {\n",
       "        text-align: right;\n",
       "    }\n",
       "</style>\n",
       "<table border=\"1\" class=\"dataframe\">\n",
       "  <thead>\n",
       "    <tr style=\"text-align: right;\">\n",
       "      <th></th>\n",
       "      <th>129</th>\n",
       "      <th>130</th>\n",
       "      <th>131</th>\n",
       "      <th>132</th>\n",
       "      <th>133</th>\n",
       "      <th>134</th>\n",
       "      <th>135</th>\n",
       "      <th>136</th>\n",
       "      <th>137</th>\n",
       "      <th>138</th>\n",
       "      <th>...</th>\n",
       "      <th>247</th>\n",
       "      <th>248</th>\n",
       "      <th>249</th>\n",
       "      <th>250</th>\n",
       "      <th>251</th>\n",
       "      <th>252</th>\n",
       "      <th>253</th>\n",
       "      <th>254</th>\n",
       "      <th>255</th>\n",
       "      <th>256</th>\n",
       "    </tr>\n",
       "  </thead>\n",
       "  <tbody>\n",
       "    <tr>\n",
       "      <th>0</th>\n",
       "      <td>-2.8722801208496094</td>\n",
       "      <td>1.458755</td>\n",
       "      <td>2.579013</td>\n",
       "      <td>-1.609747</td>\n",
       "      <td>1.437822</td>\n",
       "      <td>1.387496</td>\n",
       "      <td>0.724999</td>\n",
       "      <td>0.020332</td>\n",
       "      <td>0.312099</td>\n",
       "      <td>-1.999773</td>\n",
       "      <td>...</td>\n",
       "      <td>-3.374727</td>\n",
       "      <td>-1.506969</td>\n",
       "      <td>-1.820180</td>\n",
       "      <td>-3.024644</td>\n",
       "      <td>0.445263</td>\n",
       "      <td>0.013933</td>\n",
       "      <td>-1.300239</td>\n",
       "      <td>2.759948</td>\n",
       "      <td>2.056171</td>\n",
       "      <td>0.5087034702301025</td>\n",
       "    </tr>\n",
       "    <tr>\n",
       "      <th>1</th>\n",
       "      <td>-0.07052088528871536</td>\n",
       "      <td>-1.439334</td>\n",
       "      <td>0.772873</td>\n",
       "      <td>-2.348995</td>\n",
       "      <td>-0.235512</td>\n",
       "      <td>-0.870002</td>\n",
       "      <td>-0.542587</td>\n",
       "      <td>1.583197</td>\n",
       "      <td>1.742779</td>\n",
       "      <td>-2.993976</td>\n",
       "      <td>...</td>\n",
       "      <td>-0.538330</td>\n",
       "      <td>-2.620164</td>\n",
       "      <td>1.277195</td>\n",
       "      <td>0.601015</td>\n",
       "      <td>-0.345312</td>\n",
       "      <td>0.993457</td>\n",
       "      <td>1.351633</td>\n",
       "      <td>2.162675</td>\n",
       "      <td>2.768597</td>\n",
       "      <td>-0.9371970295906067</td>\n",
       "    </tr>\n",
       "    <tr>\n",
       "      <th>2</th>\n",
       "      <td>-5.18036413192749</td>\n",
       "      <td>-0.388247</td>\n",
       "      <td>-0.036235</td>\n",
       "      <td>-1.851022</td>\n",
       "      <td>1.223854</td>\n",
       "      <td>1.996782</td>\n",
       "      <td>0.794044</td>\n",
       "      <td>-0.290748</td>\n",
       "      <td>0.393296</td>\n",
       "      <td>-1.103014</td>\n",
       "      <td>...</td>\n",
       "      <td>-4.582711</td>\n",
       "      <td>-1.056910</td>\n",
       "      <td>-2.568084</td>\n",
       "      <td>-2.038061</td>\n",
       "      <td>2.508719</td>\n",
       "      <td>-0.764789</td>\n",
       "      <td>-0.657116</td>\n",
       "      <td>3.252782</td>\n",
       "      <td>2.687366</td>\n",
       "      <td>0.8443320989608765</td>\n",
       "    </tr>\n",
       "    <tr>\n",
       "      <th>3</th>\n",
       "      <td>-1.077273964881897</td>\n",
       "      <td>2.839453</td>\n",
       "      <td>1.183431</td>\n",
       "      <td>-1.098712</td>\n",
       "      <td>0.900597</td>\n",
       "      <td>1.422248</td>\n",
       "      <td>0.109828</td>\n",
       "      <td>-3.770131</td>\n",
       "      <td>0.138226</td>\n",
       "      <td>-3.430403</td>\n",
       "      <td>...</td>\n",
       "      <td>-0.487683</td>\n",
       "      <td>-1.889119</td>\n",
       "      <td>0.943015</td>\n",
       "      <td>-2.834418</td>\n",
       "      <td>1.633184</td>\n",
       "      <td>2.001801</td>\n",
       "      <td>-2.333152</td>\n",
       "      <td>2.645595</td>\n",
       "      <td>2.280233</td>\n",
       "      <td>-0.6944484114646912</td>\n",
       "    </tr>\n",
       "    <tr>\n",
       "      <th>4</th>\n",
       "      <td>-3.2601945400238037</td>\n",
       "      <td>0.498890</td>\n",
       "      <td>2.583143</td>\n",
       "      <td>-2.551381</td>\n",
       "      <td>1.466517</td>\n",
       "      <td>-0.195634</td>\n",
       "      <td>1.273064</td>\n",
       "      <td>0.444346</td>\n",
       "      <td>1.911644</td>\n",
       "      <td>-1.864195</td>\n",
       "      <td>...</td>\n",
       "      <td>-0.621475</td>\n",
       "      <td>-2.091410</td>\n",
       "      <td>0.501600</td>\n",
       "      <td>-3.083864</td>\n",
       "      <td>-1.060091</td>\n",
       "      <td>2.053600</td>\n",
       "      <td>-2.025008</td>\n",
       "      <td>2.399251</td>\n",
       "      <td>2.562317</td>\n",
       "      <td>0.6941336393356323</td>\n",
       "    </tr>\n",
       "  </tbody>\n",
       "</table>\n",
       "<p>5 rows × 128 columns</p>\n",
       "</div>"
      ],
      "text/plain": [
       "                    129       130       131       132       133       134  \\\n",
       "0   -2.8722801208496094  1.458755  2.579013 -1.609747  1.437822  1.387496   \n",
       "1  -0.07052088528871536 -1.439334  0.772873 -2.348995 -0.235512 -0.870002   \n",
       "2     -5.18036413192749 -0.388247 -0.036235 -1.851022  1.223854  1.996782   \n",
       "3    -1.077273964881897  2.839453  1.183431 -1.098712  0.900597  1.422248   \n",
       "4   -3.2601945400238037  0.498890  2.583143 -2.551381  1.466517 -0.195634   \n",
       "\n",
       "        135       136       137       138  ...       247       248       249  \\\n",
       "0  0.724999  0.020332  0.312099 -1.999773  ... -3.374727 -1.506969 -1.820180   \n",
       "1 -0.542587  1.583197  1.742779 -2.993976  ... -0.538330 -2.620164  1.277195   \n",
       "2  0.794044 -0.290748  0.393296 -1.103014  ... -4.582711 -1.056910 -2.568084   \n",
       "3  0.109828 -3.770131  0.138226 -3.430403  ... -0.487683 -1.889119  0.943015   \n",
       "4  1.273064  0.444346  1.911644 -1.864195  ... -0.621475 -2.091410  0.501600   \n",
       "\n",
       "        250       251       252       253       254       255  \\\n",
       "0 -3.024644  0.445263  0.013933 -1.300239  2.759948  2.056171   \n",
       "1  0.601015 -0.345312  0.993457  1.351633  2.162675  2.768597   \n",
       "2 -2.038061  2.508719 -0.764789 -0.657116  3.252782  2.687366   \n",
       "3 -2.834418  1.633184  2.001801 -2.333152  2.645595  2.280233   \n",
       "4 -3.083864 -1.060091  2.053600 -2.025008  2.399251  2.562317   \n",
       "\n",
       "                    256  \n",
       "0    0.5087034702301025  \n",
       "1   -0.9371970295906067  \n",
       "2    0.8443320989608765  \n",
       "3   -0.6944484114646912  \n",
       "4    0.6941336393356323  \n",
       "\n",
       "[5 rows x 128 columns]"
      ]
     },
     "execution_count": 468,
     "metadata": {},
     "output_type": "execute_result"
    }
   ],
   "source": [
    "item_feat_train_image.head()"
   ]
  },
  {
   "cell_type": "code",
   "execution_count": 452,
   "metadata": {},
   "outputs": [],
   "source": [
    "import matplotlib.pyplot as pyplot \n"
   ]
  },
  {
   "cell_type": "code",
   "execution_count": 474,
   "metadata": {},
   "outputs": [
    {
     "data": {
      "text/plain": [
       "<matplotlib.image.AxesImage object at 0x000001C2CEB872B0>"
      ]
     },
     "execution_count": 474,
     "metadata": {},
     "output_type": "execute_result"
    },
    {
     "data": {
      "image/png": "[encoded data removed]",
      "text/plain": [
       "<Figure size 432x288 with 1 Axes>"
      ]
     },
     "metadata": {
      "needs_background": "light"
     },
     "output_type": "display_data"
    }
   ],
   "source": [
    "oneimg=item_feat_train_image.loc[1,:].values.reshape((8, 16)).astype(np.float)\n",
    "pyplot.imshow(oneimg)"
   ]
  },
  {
   "cell_type": "code",
   "execution_count": 475,
   "metadata": {},
   "outputs": [
    {
     "data": {
      "text/plain": [
       "<matplotlib.image.AxesImage object at 0x000001C2CEBB8668>"
      ]
     },
     "execution_count": 475,
     "metadata": {},
     "output_type": "execute_result"
    },
    {
     "data": {
      "image/png": "[encoded data removed]",
      "text/plain": [
       "<Figure size 432x288 with 1 Axes>"
      ]
     },
     "metadata": {
      "needs_background": "light"
     },
     "output_type": "display_data"
    }
   ],
   "source": [
    "oneimg_2=item_feat_train_image.loc[2,:].values.reshape((8, 16)).astype(np.float)\n",
    "pyplot.imshow(oneimg_2)"
   ]
  }
 ],
 "metadata": {
  "kernelspec": {
   "display_name": "Python 3",
   "language": "python",
   "name": "python3"
  },
  "language_info": {
   "codemirror_mode": {
    "name": "ipython",
    "version": 3
   },
   "file_extension": ".py",
   "mimetype": "text/x-python",
   "name": "python",
   "nbconvert_exporter": "python",
   "pygments_lexer": "ipython3",
   "version": "3.6.10"
  }
 },
 "nbformat": 4,
 "nbformat_minor": 4
}
