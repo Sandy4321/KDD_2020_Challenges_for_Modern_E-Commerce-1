{
 "cells": [
  {
   "cell_type": "code",
   "execution_count": 1,
   "metadata": {},
   "outputs": [
    {
     "name": "stdout",
     "output_type": "stream",
     "text": [
      "Pretty printing has been turned OFF\n"
     ]
    }
   ],
   "source": [
    "import pandas as pd  \n",
    "from tqdm import tqdm  \n",
    "from collections import defaultdict  \n",
    "import numpy as np\n",
    "import math  \n",
    "import seaborn as sns\n",
    "sns.set(style=\"darkgrid\")\n",
    "import warnings\n",
    "warnings.filterwarnings(\"ignore\")\n",
    "import matplotlib.pyplot as plt\n",
    "%config ZMQInteractiveShell.ast_node_interactivity='all'\n",
    "%pprint"
   ]
  },
  {
   "cell_type": "code",
   "execution_count": 2,
   "metadata": {},
   "outputs": [],
   "source": [
    "train_path = '../data/underexpose_train'  \n",
    "test_path = '../data/underexpose_test'\n",
    "train_path_click=train_path+'/underexpose_train_click-{}.csv'\n",
    "test_path_click=test_path+'/underexpose_test_click-{0}/underexpose_test_click-{0}.csv'\n",
    "test_path_click_qtime=test_path+'/underexpose_test_click-{0}/underexpose_test_qtime-{0}.csv'\n",
    "train_path_item=train_path+'/underexpose_item_feat.csv'\n",
    "train_path_user=train_path+'/underexpose_user_feat.csv'"
   ]
  },
  {
   "cell_type": "markdown",
   "metadata": {},
   "source": [
    "# 获取数据"
   ]
  },
  {
   "cell_type": "markdown",
   "metadata": {},
   "source": [
    "## 获取训练特征"
   ]
  },
  {
   "cell_type": "code",
   "execution_count": 3,
   "metadata": {},
   "outputs": [],
   "source": [
    "def getTrainData(files,isckick=True,names=['user_id', 'item_id', 'time'],num=1):\n",
    "    \"\"\"\n",
    "    \n",
    "    :param files: 文件路径\n",
    "    :param num:读取文件个数 \n",
    "    :return: \n",
    "    \"\"\"\n",
    "\n",
    "    all_train = pd.DataFrame( columns=names)  \n",
    "    if isckick:\n",
    "        for p in range(num):\n",
    "            print(p)\n",
    "            dt=pd.read_csv(files.format(p), header=None,  names=names)\n",
    "            all_train = pd.concat([all_train, dt])\n",
    "            del dt\n",
    "    else:\n",
    "         all_train=pd.read_csv(files, header=None,  names=names)\n",
    "    return all_train  "
   ]
  },
  {
   "cell_type": "markdown",
   "metadata": {},
   "source": [
    "### 获取train_click"
   ]
  },
  {
   "cell_type": "code",
   "execution_count": 4,
   "metadata": {},
   "outputs": [
    {
     "name": "stdout",
     "output_type": "stream",
     "text": [
      "0\n",
      "1\n",
      "2\n",
      "3\n",
      "4\n",
      "5\n",
      "6\n"
     ]
    }
   ],
   "source": [
    "train_click_data=getTrainData(train_path_click,isckick=True,names=['user_id', 'item_id', 'time'],num=7)"
   ]
  },
  {
   "cell_type": "code",
   "execution_count": 5,
   "metadata": {},
   "outputs": [
    {
     "data": {
      "text/html": [
       "<div>\n",
       "<style scoped>\n",
       "    .dataframe tbody tr th:only-of-type {\n",
       "        vertical-align: middle;\n",
       "    }\n",
       "\n",
       "    .dataframe tbody tr th {\n",
       "        vertical-align: top;\n",
       "    }\n",
       "\n",
       "    .dataframe thead th {\n",
       "        text-align: right;\n",
       "    }\n",
       "</style>\n",
       "<table border=\"1\" class=\"dataframe\">\n",
       "  <thead>\n",
       "    <tr style=\"text-align: right;\">\n",
       "      <th></th>\n",
       "      <th>user_id</th>\n",
       "      <th>item_id</th>\n",
       "      <th>time</th>\n",
       "    </tr>\n",
       "  </thead>\n",
       "  <tbody>\n",
       "    <tr>\n",
       "      <th>0</th>\n",
       "      <td>4965</td>\n",
       "      <td>18</td>\n",
       "      <td>0.983763</td>\n",
       "    </tr>\n",
       "    <tr>\n",
       "      <th>1</th>\n",
       "      <td>20192</td>\n",
       "      <td>34</td>\n",
       "      <td>0.983772</td>\n",
       "    </tr>\n",
       "    <tr>\n",
       "      <th>2</th>\n",
       "      <td>30128</td>\n",
       "      <td>91</td>\n",
       "      <td>0.983780</td>\n",
       "    </tr>\n",
       "    <tr>\n",
       "      <th>3</th>\n",
       "      <td>29473</td>\n",
       "      <td>189</td>\n",
       "      <td>0.983930</td>\n",
       "    </tr>\n",
       "    <tr>\n",
       "      <th>4</th>\n",
       "      <td>10625</td>\n",
       "      <td>225</td>\n",
       "      <td>0.983925</td>\n",
       "    </tr>\n",
       "  </tbody>\n",
       "</table>\n",
       "</div>"
      ],
      "text/plain": [
       "  user_id item_id      time\n",
       "0    4965      18  0.983763\n",
       "1   20192      34  0.983772\n",
       "2   30128      91  0.983780\n",
       "3   29473     189  0.983930\n",
       "4   10625     225  0.983925"
      ]
     },
     "execution_count": 5,
     "metadata": {},
     "output_type": "execute_result"
    },
    {
     "name": "stdout",
     "output_type": "stream",
     "text": [
      "<class 'pandas.core.frame.DataFrame'>\n",
      "Int64Index: 1856637 entries, 0 to 310371\n",
      "Data columns (total 3 columns):\n",
      "user_id    object\n",
      "item_id    object\n",
      "time       float64\n",
      "dtypes: float64(1), object(2)\n",
      "memory usage: 56.7+ MB\n"
     ]
    },
    {
     "data": {
      "text/html": [
       "<div>\n",
       "<style scoped>\n",
       "    .dataframe tbody tr th:only-of-type {\n",
       "        vertical-align: middle;\n",
       "    }\n",
       "\n",
       "    .dataframe tbody tr th {\n",
       "        vertical-align: top;\n",
       "    }\n",
       "\n",
       "    .dataframe thead th {\n",
       "        text-align: right;\n",
       "    }\n",
       "</style>\n",
       "<table border=\"1\" class=\"dataframe\">\n",
       "  <thead>\n",
       "    <tr style=\"text-align: right;\">\n",
       "      <th></th>\n",
       "      <th>time</th>\n",
       "    </tr>\n",
       "  </thead>\n",
       "  <tbody>\n",
       "    <tr>\n",
       "      <th>count</th>\n",
       "      <td>1.856637e+06</td>\n",
       "    </tr>\n",
       "    <tr>\n",
       "      <th>mean</th>\n",
       "      <td>9.840335e-01</td>\n",
       "    </tr>\n",
       "    <tr>\n",
       "      <th>std</th>\n",
       "      <td>1.264442e-04</td>\n",
       "    </tr>\n",
       "    <tr>\n",
       "      <th>min</th>\n",
       "      <td>9.837397e-01</td>\n",
       "    </tr>\n",
       "    <tr>\n",
       "      <th>25%</th>\n",
       "      <td>9.839386e-01</td>\n",
       "    </tr>\n",
       "    <tr>\n",
       "      <th>50%</th>\n",
       "      <td>9.840467e-01</td>\n",
       "    </tr>\n",
       "    <tr>\n",
       "      <th>75%</th>\n",
       "      <td>9.841189e-01</td>\n",
       "    </tr>\n",
       "    <tr>\n",
       "      <th>max</th>\n",
       "      <td>9.842848e-01</td>\n",
       "    </tr>\n",
       "  </tbody>\n",
       "</table>\n",
       "</div>"
      ],
      "text/plain": [
       "               time\n",
       "count  1.856637e+06\n",
       "mean   9.840335e-01\n",
       "std    1.264442e-04\n",
       "min    9.837397e-01\n",
       "25%    9.839386e-01\n",
       "50%    9.840467e-01\n",
       "75%    9.841189e-01\n",
       "max    9.842848e-01"
      ]
     },
     "execution_count": 5,
     "metadata": {},
     "output_type": "execute_result"
    },
    {
     "data": {
      "text/plain": [
       "(1856637, 3)"
      ]
     },
     "execution_count": 5,
     "metadata": {},
     "output_type": "execute_result"
    }
   ],
   "source": [
    "train_click_data.head()\n",
    "train_click_data.info()\n",
    "train_click_data.describe()\n",
    "train_click_data.shape"
   ]
  },
  {
   "cell_type": "markdown",
   "metadata": {},
   "source": [
    "#### 去重"
   ]
  },
  {
   "cell_type": "code",
   "execution_count": 6,
   "metadata": {},
   "outputs": [],
   "source": [
    "train_click_data=train_click_data.drop_duplicates()"
   ]
  },
  {
   "cell_type": "code",
   "execution_count": 7,
   "metadata": {},
   "outputs": [
    {
     "data": {
      "text/plain": [
       "(1139080, 3)"
      ]
     },
     "execution_count": 7,
     "metadata": {},
     "output_type": "execute_result"
    }
   ],
   "source": [
    "train_click_data.shape"
   ]
  },
  {
   "cell_type": "code",
   "execution_count": 8,
   "metadata": {},
   "outputs": [
    {
     "data": {
      "text/html": [
       "<div>\n",
       "<style scoped>\n",
       "    .dataframe tbody tr th:only-of-type {\n",
       "        vertical-align: middle;\n",
       "    }\n",
       "\n",
       "    .dataframe tbody tr th {\n",
       "        vertical-align: top;\n",
       "    }\n",
       "\n",
       "    .dataframe thead th {\n",
       "        text-align: right;\n",
       "    }\n",
       "</style>\n",
       "<table border=\"1\" class=\"dataframe\">\n",
       "  <thead>\n",
       "    <tr style=\"text-align: right;\">\n",
       "      <th></th>\n",
       "      <th>user_id</th>\n",
       "      <th>item_id</th>\n",
       "      <th>time</th>\n",
       "    </tr>\n",
       "  </thead>\n",
       "  <tbody>\n",
       "    <tr>\n",
       "      <th>0</th>\n",
       "      <td>4965</td>\n",
       "      <td>18</td>\n",
       "      <td>0.983763</td>\n",
       "    </tr>\n",
       "    <tr>\n",
       "      <th>1</th>\n",
       "      <td>20192</td>\n",
       "      <td>34</td>\n",
       "      <td>0.983772</td>\n",
       "    </tr>\n",
       "    <tr>\n",
       "      <th>2</th>\n",
       "      <td>30128</td>\n",
       "      <td>91</td>\n",
       "      <td>0.983780</td>\n",
       "    </tr>\n",
       "    <tr>\n",
       "      <th>3</th>\n",
       "      <td>29473</td>\n",
       "      <td>189</td>\n",
       "      <td>0.983930</td>\n",
       "    </tr>\n",
       "    <tr>\n",
       "      <th>4</th>\n",
       "      <td>10625</td>\n",
       "      <td>225</td>\n",
       "      <td>0.983925</td>\n",
       "    </tr>\n",
       "  </tbody>\n",
       "</table>\n",
       "</div>"
      ],
      "text/plain": [
       "  user_id item_id      time\n",
       "0    4965      18  0.983763\n",
       "1   20192      34  0.983772\n",
       "2   30128      91  0.983780\n",
       "3   29473     189  0.983930\n",
       "4   10625     225  0.983925"
      ]
     },
     "execution_count": 8,
     "metadata": {},
     "output_type": "execute_result"
    }
   ],
   "source": [
    "train_click_data.head()"
   ]
  },
  {
   "cell_type": "markdown",
   "metadata": {},
   "source": [
    "### user_id个数"
   ]
  },
  {
   "cell_type": "code",
   "execution_count": 9,
   "metadata": {},
   "outputs": [],
   "source": [
    "train_click_userid=train_click_data[\"user_id\"].drop_duplicates().to_frame()"
   ]
  },
  {
   "cell_type": "code",
   "execution_count": 10,
   "metadata": {},
   "outputs": [
    {
     "data": {
      "text/plain": [
       "31049"
      ]
     },
     "execution_count": 10,
     "metadata": {},
     "output_type": "execute_result"
    },
    {
     "data": {
      "text/html": [
       "<div>\n",
       "<style scoped>\n",
       "    .dataframe tbody tr th:only-of-type {\n",
       "        vertical-align: middle;\n",
       "    }\n",
       "\n",
       "    .dataframe tbody tr th {\n",
       "        vertical-align: top;\n",
       "    }\n",
       "\n",
       "    .dataframe thead th {\n",
       "        text-align: right;\n",
       "    }\n",
       "</style>\n",
       "<table border=\"1\" class=\"dataframe\">\n",
       "  <thead>\n",
       "    <tr style=\"text-align: right;\">\n",
       "      <th></th>\n",
       "      <th>user_id</th>\n",
       "    </tr>\n",
       "  </thead>\n",
       "  <tbody>\n",
       "    <tr>\n",
       "      <th>0</th>\n",
       "      <td>4965</td>\n",
       "    </tr>\n",
       "    <tr>\n",
       "      <th>1</th>\n",
       "      <td>20192</td>\n",
       "    </tr>\n",
       "    <tr>\n",
       "      <th>2</th>\n",
       "      <td>30128</td>\n",
       "    </tr>\n",
       "    <tr>\n",
       "      <th>3</th>\n",
       "      <td>29473</td>\n",
       "    </tr>\n",
       "    <tr>\n",
       "      <th>4</th>\n",
       "      <td>10625</td>\n",
       "    </tr>\n",
       "  </tbody>\n",
       "</table>\n",
       "</div>"
      ],
      "text/plain": [
       "  user_id\n",
       "0    4965\n",
       "1   20192\n",
       "2   30128\n",
       "3   29473\n",
       "4   10625"
      ]
     },
     "execution_count": 10,
     "metadata": {},
     "output_type": "execute_result"
    },
    {
     "name": "stdout",
     "output_type": "stream",
     "text": [
      "<class 'pandas.core.frame.DataFrame'>\n",
      "Int64Index: 31049 entries, 0 to 291149\n",
      "Data columns (total 1 columns):\n",
      "user_id    31049 non-null object\n",
      "dtypes: object(1)\n",
      "memory usage: 485.1+ KB\n"
     ]
    }
   ],
   "source": [
    "#train_click_userid[\"user_id\"]=train_click_userid[\"user_id\"].apply(lambda x : str(x))\n",
    "train_click_userid.shape[0]\n",
    "train_click_userid.head()\n",
    "train_click_userid.info()"
   ]
  },
  {
   "cell_type": "markdown",
   "metadata": {},
   "source": [
    "### 排序"
   ]
  },
  {
   "cell_type": "code",
   "execution_count": 11,
   "metadata": {},
   "outputs": [],
   "source": [
    "train_click_userid=train_click_userid.sort_values(by=['user_id'],axis=0,ascending=True)"
   ]
  },
  {
   "cell_type": "code",
   "execution_count": 12,
   "metadata": {},
   "outputs": [
    {
     "data": {
      "text/html": [
       "<div>\n",
       "<style scoped>\n",
       "    .dataframe tbody tr th:only-of-type {\n",
       "        vertical-align: middle;\n",
       "    }\n",
       "\n",
       "    .dataframe tbody tr th {\n",
       "        vertical-align: top;\n",
       "    }\n",
       "\n",
       "    .dataframe thead th {\n",
       "        text-align: right;\n",
       "    }\n",
       "</style>\n",
       "<table border=\"1\" class=\"dataframe\">\n",
       "  <thead>\n",
       "    <tr style=\"text-align: right;\">\n",
       "      <th></th>\n",
       "      <th>user_id</th>\n",
       "    </tr>\n",
       "  </thead>\n",
       "  <tbody>\n",
       "    <tr>\n",
       "      <th>3123</th>\n",
       "      <td>1</td>\n",
       "    </tr>\n",
       "    <tr>\n",
       "      <th>475</th>\n",
       "      <td>2</td>\n",
       "    </tr>\n",
       "    <tr>\n",
       "      <th>10140</th>\n",
       "      <td>3</td>\n",
       "    </tr>\n",
       "    <tr>\n",
       "      <th>8145</th>\n",
       "      <td>4</td>\n",
       "    </tr>\n",
       "    <tr>\n",
       "      <th>36979</th>\n",
       "      <td>5</td>\n",
       "    </tr>\n",
       "  </tbody>\n",
       "</table>\n",
       "</div>"
      ],
      "text/plain": [
       "      user_id\n",
       "3123        1\n",
       "475         2\n",
       "10140       3\n",
       "8145        4\n",
       "36979       5"
      ]
     },
     "execution_count": 12,
     "metadata": {},
     "output_type": "execute_result"
    }
   ],
   "source": [
    "train_click_userid.head()"
   ]
  },
  {
   "cell_type": "markdown",
   "metadata": {},
   "source": [
    "#### 用户出现次数"
   ]
  },
  {
   "cell_type": "code",
   "execution_count": 13,
   "metadata": {
    "scrolled": true
   },
   "outputs": [
    {
     "data": {
      "text/html": [
       "<div>\n",
       "<style scoped>\n",
       "    .dataframe tbody tr th:only-of-type {\n",
       "        vertical-align: middle;\n",
       "    }\n",
       "\n",
       "    .dataframe tbody tr th {\n",
       "        vertical-align: top;\n",
       "    }\n",
       "\n",
       "    .dataframe thead th {\n",
       "        text-align: right;\n",
       "    }\n",
       "</style>\n",
       "<table border=\"1\" class=\"dataframe\">\n",
       "  <thead>\n",
       "    <tr style=\"text-align: right;\">\n",
       "      <th></th>\n",
       "      <th>user_id</th>\n",
       "      <th>user_id_count</th>\n",
       "    </tr>\n",
       "  </thead>\n",
       "  <tbody>\n",
       "    <tr>\n",
       "      <th>0</th>\n",
       "      <td>8330</td>\n",
       "      <td>542</td>\n",
       "    </tr>\n",
       "    <tr>\n",
       "      <th>1</th>\n",
       "      <td>32578</td>\n",
       "      <td>526</td>\n",
       "    </tr>\n",
       "    <tr>\n",
       "      <th>2</th>\n",
       "      <td>12627</td>\n",
       "      <td>506</td>\n",
       "    </tr>\n",
       "    <tr>\n",
       "      <th>3</th>\n",
       "      <td>32549</td>\n",
       "      <td>505</td>\n",
       "    </tr>\n",
       "    <tr>\n",
       "      <th>4</th>\n",
       "      <td>35363</td>\n",
       "      <td>502</td>\n",
       "    </tr>\n",
       "  </tbody>\n",
       "</table>\n",
       "</div>"
      ],
      "text/plain": [
       "   user_id  user_id_count\n",
       "0     8330            542\n",
       "1    32578            526\n",
       "2    12627            506\n",
       "3    32549            505\n",
       "4    35363            502"
      ]
     },
     "execution_count": 13,
     "metadata": {},
     "output_type": "execute_result"
    },
    {
     "data": {
      "text/plain": [
       "(31049, 2)"
      ]
     },
     "execution_count": 13,
     "metadata": {},
     "output_type": "execute_result"
    }
   ],
   "source": [
    "train_click_groupby_userid=train_click_data[\"user_id\"].value_counts().to_frame().reset_index()\n",
    "\n",
    "train_click_groupby_userid.columns=[\"user_id\",\"user_id_count\"]\n",
    "train_click_groupby_userid.head()\n",
    "train_click_groupby_userid.shape"
   ]
  },
  {
   "cell_type": "markdown",
   "metadata": {},
   "source": [
    "### 显示用户出现点击次数最多的前五个和最好的五个"
   ]
  },
  {
   "cell_type": "code",
   "execution_count": 14,
   "metadata": {},
   "outputs": [
    {
     "data": {
      "text/html": [
       "<div>\n",
       "<style scoped>\n",
       "    .dataframe tbody tr th:only-of-type {\n",
       "        vertical-align: middle;\n",
       "    }\n",
       "\n",
       "    .dataframe tbody tr th {\n",
       "        vertical-align: top;\n",
       "    }\n",
       "\n",
       "    .dataframe thead th {\n",
       "        text-align: right;\n",
       "    }\n",
       "</style>\n",
       "<table border=\"1\" class=\"dataframe\">\n",
       "  <thead>\n",
       "    <tr style=\"text-align: right;\">\n",
       "      <th></th>\n",
       "      <th>user_id</th>\n",
       "      <th>user_id_count</th>\n",
       "    </tr>\n",
       "  </thead>\n",
       "  <tbody>\n",
       "    <tr>\n",
       "      <th>27044</th>\n",
       "      <td>757</td>\n",
       "      <td>6</td>\n",
       "    </tr>\n",
       "    <tr>\n",
       "      <th>28011</th>\n",
       "      <td>26558</td>\n",
       "      <td>5</td>\n",
       "    </tr>\n",
       "    <tr>\n",
       "      <th>28908</th>\n",
       "      <td>9325</td>\n",
       "      <td>4</td>\n",
       "    </tr>\n",
       "    <tr>\n",
       "      <th>29879</th>\n",
       "      <td>6678</td>\n",
       "      <td>3</td>\n",
       "    </tr>\n",
       "    <tr>\n",
       "      <th>30959</th>\n",
       "      <td>21983</td>\n",
       "      <td>2</td>\n",
       "    </tr>\n",
       "  </tbody>\n",
       "</table>\n",
       "</div>"
      ],
      "text/plain": [
       "       user_id  user_id_count\n",
       "27044      757              6\n",
       "28011    26558              5\n",
       "28908     9325              4\n",
       "29879     6678              3\n",
       "30959    21983              2"
      ]
     },
     "execution_count": 14,
     "metadata": {},
     "output_type": "execute_result"
    }
   ],
   "source": [
    "train_click_groupby_userid_tail100= train_click_groupby_userid.tail(10000)\n",
    "train_click_groupby_userid_tail100=train_click_groupby_userid_tail100.drop_duplicates(\"user_id_count\")\n",
    "train_click_groupby_userid_tail100.tail()"
   ]
  },
  {
   "cell_type": "code",
   "execution_count": 15,
   "metadata": {},
   "outputs": [
    {
     "data": {
      "text/html": [
       "<div>\n",
       "<style scoped>\n",
       "    .dataframe tbody tr th:only-of-type {\n",
       "        vertical-align: middle;\n",
       "    }\n",
       "\n",
       "    .dataframe tbody tr th {\n",
       "        vertical-align: top;\n",
       "    }\n",
       "\n",
       "    .dataframe thead th {\n",
       "        text-align: right;\n",
       "    }\n",
       "</style>\n",
       "<table border=\"1\" class=\"dataframe\">\n",
       "  <thead>\n",
       "    <tr style=\"text-align: right;\">\n",
       "      <th></th>\n",
       "      <th>user_id</th>\n",
       "      <th>user_id_count</th>\n",
       "    </tr>\n",
       "  </thead>\n",
       "  <tbody>\n",
       "    <tr>\n",
       "      <th>0</th>\n",
       "      <td>8330</td>\n",
       "      <td>542</td>\n",
       "    </tr>\n",
       "    <tr>\n",
       "      <th>1</th>\n",
       "      <td>32578</td>\n",
       "      <td>526</td>\n",
       "    </tr>\n",
       "    <tr>\n",
       "      <th>2</th>\n",
       "      <td>12627</td>\n",
       "      <td>506</td>\n",
       "    </tr>\n",
       "    <tr>\n",
       "      <th>3</th>\n",
       "      <td>32549</td>\n",
       "      <td>505</td>\n",
       "    </tr>\n",
       "    <tr>\n",
       "      <th>4</th>\n",
       "      <td>35363</td>\n",
       "      <td>502</td>\n",
       "    </tr>\n",
       "    <tr>\n",
       "      <th>27044</th>\n",
       "      <td>757</td>\n",
       "      <td>6</td>\n",
       "    </tr>\n",
       "    <tr>\n",
       "      <th>28011</th>\n",
       "      <td>26558</td>\n",
       "      <td>5</td>\n",
       "    </tr>\n",
       "    <tr>\n",
       "      <th>28908</th>\n",
       "      <td>9325</td>\n",
       "      <td>4</td>\n",
       "    </tr>\n",
       "    <tr>\n",
       "      <th>29879</th>\n",
       "      <td>6678</td>\n",
       "      <td>3</td>\n",
       "    </tr>\n",
       "    <tr>\n",
       "      <th>30959</th>\n",
       "      <td>21983</td>\n",
       "      <td>2</td>\n",
       "    </tr>\n",
       "  </tbody>\n",
       "</table>\n",
       "</div>"
      ],
      "text/plain": [
       "       user_id  user_id_count\n",
       "0         8330            542\n",
       "1        32578            526\n",
       "2        12627            506\n",
       "3        32549            505\n",
       "4        35363            502\n",
       "27044      757              6\n",
       "28011    26558              5\n",
       "28908     9325              4\n",
       "29879     6678              3\n",
       "30959    21983              2"
      ]
     },
     "execution_count": 15,
     "metadata": {},
     "output_type": "execute_result"
    }
   ],
   "source": [
    "user_id_count=pd.concat([train_click_groupby_userid.head(),train_click_groupby_userid_tail100.tail()])\n",
    "user_id_count"
   ]
  },
  {
   "cell_type": "markdown",
   "metadata": {},
   "source": [
    "### 对用户显示点击次数进行画图"
   ]
  },
  {
   "cell_type": "code",
   "execution_count": 16,
   "metadata": {},
   "outputs": [],
   "source": [
    "def autolabel(rects):\n",
    "    for rect in rects:\n",
    "        height = rect.get_height()\n",
    "        plt.text(rect.get_x()+rect.get_width()/2.-0.2, 1.03*height, '%s' % float(height))\n"
   ]
  },
  {
   "cell_type": "code",
   "execution_count": 17,
   "metadata": {},
   "outputs": [
    {
     "data": {
      "text/plain": [
       "(array([0, 1, 2, 3, 4, 5, 6, 7, 8, 9]), <a list of 10 Text xticklabel objects>)"
      ]
     },
     "execution_count": 17,
     "metadata": {},
     "output_type": "execute_result"
    },
    {
     "data": {
      "text/plain": [
       "Text(0.5, 1.0, 'User_ID_COUNT')"
      ]
     },
     "execution_count": 17,
     "metadata": {},
     "output_type": "execute_result"
    },
    {
     "data": {
      "image/png": "[encoded data removed]",
      "text/plain": [
       "<Figure size 432x288 with 1 Axes>"
      ]
     },
     "metadata": {
      "needs_background": "light"
     },
     "output_type": "display_data"
    }
   ],
   "source": [
    "a=plt.bar(  range(len(user_id_count.index)),user_id_count[\"user_id_count\"].values ,\n",
    "          width=0.8,tick_label = user_id_count[\"user_id\"])\n",
    "autolabel(a)\n",
    "plt.xticks(rotation = 90)\n",
    "plt.title('User_ID_COUNT')\n",
    "plt.show()"
   ]
  },
  {
   "cell_type": "markdown",
   "metadata": {},
   "source": [
    "### 商品出现次数分析"
   ]
  },
  {
   "cell_type": "code",
   "execution_count": 18,
   "metadata": {},
   "outputs": [
    {
     "data": {
      "text/plain": [
       "98764"
      ]
     },
     "execution_count": 18,
     "metadata": {},
     "output_type": "execute_result"
    }
   ],
   "source": [
    "train_click_groupby_item_id=train_click_data[\"item_id\"].value_counts().to_frame().reset_index()\n",
    "\n",
    "train_click_groupby_item_id.columns=[\"item_id\",\"item_id_count\"]\n",
    "train_click_groupby_item_id.shape[0]\n",
    "train_click_groupby_item_id=train_click_groupby_item_id.sort_values(axis = 0,by=[\"item_id_count\"],ascending=False)\n"
   ]
  },
  {
   "cell_type": "code",
   "execution_count": 19,
   "metadata": {},
   "outputs": [
    {
     "data": {
      "text/html": [
       "<div>\n",
       "<style scoped>\n",
       "    .dataframe tbody tr th:only-of-type {\n",
       "        vertical-align: middle;\n",
       "    }\n",
       "\n",
       "    .dataframe tbody tr th {\n",
       "        vertical-align: top;\n",
       "    }\n",
       "\n",
       "    .dataframe thead th {\n",
       "        text-align: right;\n",
       "    }\n",
       "</style>\n",
       "<table border=\"1\" class=\"dataframe\">\n",
       "  <thead>\n",
       "    <tr style=\"text-align: right;\">\n",
       "      <th></th>\n",
       "      <th>item_id</th>\n",
       "      <th>item_id_count</th>\n",
       "    </tr>\n",
       "  </thead>\n",
       "  <tbody>\n",
       "    <tr>\n",
       "      <th>0</th>\n",
       "      <td>52766</td>\n",
       "      <td>947</td>\n",
       "    </tr>\n",
       "    <tr>\n",
       "      <th>1</th>\n",
       "      <td>12845</td>\n",
       "      <td>617</td>\n",
       "    </tr>\n",
       "    <tr>\n",
       "      <th>2</th>\n",
       "      <td>111225</td>\n",
       "      <td>610</td>\n",
       "    </tr>\n",
       "    <tr>\n",
       "      <th>3</th>\n",
       "      <td>4340</td>\n",
       "      <td>603</td>\n",
       "    </tr>\n",
       "    <tr>\n",
       "      <th>4</th>\n",
       "      <td>13302</td>\n",
       "      <td>523</td>\n",
       "    </tr>\n",
       "  </tbody>\n",
       "</table>\n",
       "</div>"
      ],
      "text/plain": [
       "   item_id  item_id_count\n",
       "0    52766            947\n",
       "1    12845            617\n",
       "2   111225            610\n",
       "3     4340            603\n",
       "4    13302            523"
      ]
     },
     "execution_count": 19,
     "metadata": {},
     "output_type": "execute_result"
    }
   ],
   "source": [
    "train_click_groupby_item_id.head()"
   ]
  },
  {
   "cell_type": "markdown",
   "metadata": {},
   "source": [
    "### 可以看出大量物品只出现很少次数"
   ]
  },
  {
   "cell_type": "code",
   "execution_count": 20,
   "metadata": {},
   "outputs": [
    {
     "data": {
      "text/html": [
       "<div>\n",
       "<style scoped>\n",
       "    .dataframe tbody tr th:only-of-type {\n",
       "        vertical-align: middle;\n",
       "    }\n",
       "\n",
       "    .dataframe tbody tr th {\n",
       "        vertical-align: top;\n",
       "    }\n",
       "\n",
       "    .dataframe thead th {\n",
       "        text-align: right;\n",
       "    }\n",
       "</style>\n",
       "<table border=\"1\" class=\"dataframe\">\n",
       "  <thead>\n",
       "    <tr style=\"text-align: right;\">\n",
       "      <th></th>\n",
       "      <th>item_id</th>\n",
       "      <th>item_id_count</th>\n",
       "    </tr>\n",
       "  </thead>\n",
       "  <tbody>\n",
       "    <tr>\n",
       "      <th>65658</th>\n",
       "      <td>66936</td>\n",
       "      <td>5</td>\n",
       "    </tr>\n",
       "    <tr>\n",
       "      <th>82779</th>\n",
       "      <td>56055</td>\n",
       "      <td>4</td>\n",
       "    </tr>\n",
       "    <tr>\n",
       "      <th>94815</th>\n",
       "      <td>80762</td>\n",
       "      <td>3</td>\n",
       "    </tr>\n",
       "    <tr>\n",
       "      <th>98211</th>\n",
       "      <td>94736</td>\n",
       "      <td>2</td>\n",
       "    </tr>\n",
       "    <tr>\n",
       "      <th>98727</th>\n",
       "      <td>77456</td>\n",
       "      <td>1</td>\n",
       "    </tr>\n",
       "  </tbody>\n",
       "</table>\n",
       "</div>"
      ],
      "text/plain": [
       "       item_id  item_id_count\n",
       "65658    66936              5\n",
       "82779    56055              4\n",
       "94815    80762              3\n",
       "98211    94736              2\n",
       "98727    77456              1"
      ]
     },
     "execution_count": 20,
     "metadata": {},
     "output_type": "execute_result"
    }
   ],
   "source": [
    "train_click_groupby_item_id_tail100= train_click_groupby_item_id.tail(40000)\n",
    "train_click_groupby_item_id_tail100=train_click_groupby_item_id_tail100.drop_duplicates(\"item_id_count\")\n",
    "train_click_groupby_item_id_tail100.tail()"
   ]
  },
  {
   "cell_type": "code",
   "execution_count": 21,
   "metadata": {},
   "outputs": [],
   "source": [
    "item_id_count=pd.concat([train_click_groupby_item_id.head(),train_click_groupby_item_id_tail100.tail()])"
   ]
  },
  {
   "cell_type": "code",
   "execution_count": 22,
   "metadata": {},
   "outputs": [
    {
     "data": {
      "text/html": [
       "<div>\n",
       "<style scoped>\n",
       "    .dataframe tbody tr th:only-of-type {\n",
       "        vertical-align: middle;\n",
       "    }\n",
       "\n",
       "    .dataframe tbody tr th {\n",
       "        vertical-align: top;\n",
       "    }\n",
       "\n",
       "    .dataframe thead th {\n",
       "        text-align: right;\n",
       "    }\n",
       "</style>\n",
       "<table border=\"1\" class=\"dataframe\">\n",
       "  <thead>\n",
       "    <tr style=\"text-align: right;\">\n",
       "      <th></th>\n",
       "      <th>item_id_count</th>\n",
       "    </tr>\n",
       "  </thead>\n",
       "  <tbody>\n",
       "    <tr>\n",
       "      <th>count</th>\n",
       "      <td>98764.000000</td>\n",
       "    </tr>\n",
       "    <tr>\n",
       "      <th>mean</th>\n",
       "      <td>11.533352</td>\n",
       "    </tr>\n",
       "    <tr>\n",
       "      <th>std</th>\n",
       "      <td>16.561612</td>\n",
       "    </tr>\n",
       "    <tr>\n",
       "      <th>min</th>\n",
       "      <td>1.000000</td>\n",
       "    </tr>\n",
       "    <tr>\n",
       "      <th>25%</th>\n",
       "      <td>4.000000</td>\n",
       "    </tr>\n",
       "    <tr>\n",
       "      <th>50%</th>\n",
       "      <td>7.000000</td>\n",
       "    </tr>\n",
       "    <tr>\n",
       "      <th>75%</th>\n",
       "      <td>13.000000</td>\n",
       "    </tr>\n",
       "    <tr>\n",
       "      <th>max</th>\n",
       "      <td>947.000000</td>\n",
       "    </tr>\n",
       "  </tbody>\n",
       "</table>\n",
       "</div>"
      ],
      "text/plain": [
       "       item_id_count\n",
       "count   98764.000000\n",
       "mean       11.533352\n",
       "std        16.561612\n",
       "min         1.000000\n",
       "25%         4.000000\n",
       "50%         7.000000\n",
       "75%        13.000000\n",
       "max       947.000000"
      ]
     },
     "execution_count": 22,
     "metadata": {},
     "output_type": "execute_result"
    }
   ],
   "source": [
    "train_click_groupby_item_id[[\"item_id_count\"]].describe()"
   ]
  },
  {
   "cell_type": "code",
   "execution_count": 23,
   "metadata": {},
   "outputs": [
    {
     "data": {
      "text/plain": [
       "(array([0, 1, 2, 3, 4, 5, 6, 7, 8, 9]), <a list of 10 Text xticklabel objects>)"
      ]
     },
     "execution_count": 23,
     "metadata": {},
     "output_type": "execute_result"
    },
    {
     "data": {
      "text/plain": [
       "Text(0.5, 1.0, 'ITEM_ID_COUNT')"
      ]
     },
     "execution_count": 23,
     "metadata": {},
     "output_type": "execute_result"
    },
    {
     "data": {
      "image/png": "[encoded data removed]",
      "text/plain": [
       "<Figure size 432x288 with 1 Axes>"
      ]
     },
     "metadata": {
      "needs_background": "light"
     },
     "output_type": "display_data"
    }
   ],
   "source": [
    "b=plt.bar(  range(len(item_id_count.index)),item_id_count[\"item_id_count\"].values ,\n",
    "          width=0.8,tick_label = item_id_count[\"item_id\"])\n",
    "autolabel(b)\n",
    "plt.xticks(rotation = 90)\n",
    "plt.title('ITEM_ID_COUNT')\n",
    "plt.show()\n"
   ]
  },
  {
   "cell_type": "markdown",
   "metadata": {},
   "source": [
    "### 加入时间  "
   ]
  },
  {
   "cell_type": "code",
   "execution_count": 24,
   "metadata": {},
   "outputs": [
    {
     "data": {
      "text/plain": [
       "'\\n思考这样去截取时间有没有意义？\\n如果有意义：应该对时间戳分别截取多长进行划分不同等级？\\n'"
      ]
     },
     "execution_count": 24,
     "metadata": {},
     "output_type": "execute_result"
    }
   ],
   "source": [
    "\"\"\"\n",
    "思考这样去截取时间有没有意义？\n",
    "如果有意义：应该对时间戳分别截取多长进行划分不同等级？\n",
    "\"\"\""
   ]
  },
  {
   "cell_type": "code",
   "execution_count": 25,
   "metadata": {},
   "outputs": [
    {
     "data": {
      "text/plain": [
       "'\\n截取时间的位数相当于按照不同的区间对时间进行了区间划分\\n'"
      ]
     },
     "execution_count": 25,
     "metadata": {},
     "output_type": "execute_result"
    }
   ],
   "source": [
    "\"\"\"\n",
    "截取时间的位数相当于按照不同的区间对时间进行了区间划分\n",
    "\"\"\""
   ]
  },
  {
   "cell_type": "code",
   "execution_count": 26,
   "metadata": {},
   "outputs": [],
   "source": [
    "substrn=16"
   ]
  },
  {
   "cell_type": "code",
   "execution_count": 27,
   "metadata": {},
   "outputs": [],
   "source": [
    "for i in range(5,substrn):\n",
    "    col=\"time_top_{0}\".format(i)\n",
    "    train_click_data[col]=train_click_data['time'].apply(lambda x:str(x)[:i])"
   ]
  },
  {
   "cell_type": "code",
   "execution_count": 28,
   "metadata": {},
   "outputs": [
    {
     "data": {
      "text/plain": [
       "Index(['user_id', 'item_id', 'time', 'time_top_5', 'time_top_6', 'time_top_7',\n",
       "       'time_top_8', 'time_top_9', 'time_top_10', 'time_top_11', 'time_top_12',\n",
       "       'time_top_13', 'time_top_14', 'time_top_15'],\n",
       "      dtype='object')"
      ]
     },
     "execution_count": 28,
     "metadata": {},
     "output_type": "execute_result"
    }
   ],
   "source": [
    "train_click_data.columns"
   ]
  },
  {
   "cell_type": "code",
   "execution_count": 29,
   "metadata": {},
   "outputs": [],
   "source": [
    "train_click_data=train_click_data.sort_values(axis=0,by=['user_id', 'time_top_5', 'time_top_6', 'time_top_7',\n",
    "       'time_top_8', 'time_top_9', 'time_top_10', 'time_top_11', 'time_top_12',\n",
    "       'time_top_13', 'time_top_14', 'time_top_15'],ascending=True)"
   ]
  },
  {
   "cell_type": "markdown",
   "metadata": {},
   "source": [
    "#### 用户在某一时间戳下发生点击次数"
   ]
  },
  {
   "cell_type": "code",
   "execution_count": 30,
   "metadata": {},
   "outputs": [
    {
     "data": {
      "text/html": [
       "<div>\n",
       "<style scoped>\n",
       "    .dataframe tbody tr th:only-of-type {\n",
       "        vertical-align: middle;\n",
       "    }\n",
       "\n",
       "    .dataframe tbody tr th {\n",
       "        vertical-align: top;\n",
       "    }\n",
       "\n",
       "    .dataframe thead th {\n",
       "        text-align: right;\n",
       "    }\n",
       "</style>\n",
       "<table border=\"1\" class=\"dataframe\">\n",
       "  <thead>\n",
       "    <tr style=\"text-align: right;\">\n",
       "      <th></th>\n",
       "      <th>user_id</th>\n",
       "      <th>item_id</th>\n",
       "      <th>time</th>\n",
       "      <th>time_top_5</th>\n",
       "      <th>time_top_6</th>\n",
       "      <th>time_top_7</th>\n",
       "      <th>time_top_8</th>\n",
       "      <th>time_top_9</th>\n",
       "      <th>time_top_10</th>\n",
       "      <th>time_top_11</th>\n",
       "      <th>...</th>\n",
       "      <th>time_top_6_user_clickcount</th>\n",
       "      <th>time_top_7_user_clickcount</th>\n",
       "      <th>time_top_8_user_clickcount</th>\n",
       "      <th>time_top_9_user_clickcount</th>\n",
       "      <th>time_top_10_user_clickcount</th>\n",
       "      <th>time_top_11_user_clickcount</th>\n",
       "      <th>time_top_12_user_clickcount</th>\n",
       "      <th>time_top_13_user_clickcount</th>\n",
       "      <th>time_top_14_user_clickcount</th>\n",
       "      <th>time_top_15_user_clickcount</th>\n",
       "    </tr>\n",
       "  </thead>\n",
       "  <tbody>\n",
       "    <tr>\n",
       "      <th>0</th>\n",
       "      <td>1</td>\n",
       "      <td>78142</td>\n",
       "      <td>0.983742</td>\n",
       "      <td>0.983</td>\n",
       "      <td>0.9837</td>\n",
       "      <td>0.98374</td>\n",
       "      <td>0.983741</td>\n",
       "      <td>0.9837416</td>\n",
       "      <td>0.98374161</td>\n",
       "      <td>0.983741619</td>\n",
       "      <td>...</td>\n",
       "      <td>6</td>\n",
       "      <td>1</td>\n",
       "      <td>1</td>\n",
       "      <td>1</td>\n",
       "      <td>1</td>\n",
       "      <td>1</td>\n",
       "      <td>1</td>\n",
       "      <td>1</td>\n",
       "      <td>1</td>\n",
       "      <td>1</td>\n",
       "    </tr>\n",
       "    <tr>\n",
       "      <th>1</th>\n",
       "      <td>1</td>\n",
       "      <td>26646</td>\n",
       "      <td>0.983757</td>\n",
       "      <td>0.983</td>\n",
       "      <td>0.9837</td>\n",
       "      <td>0.98375</td>\n",
       "      <td>0.983756</td>\n",
       "      <td>0.9837566</td>\n",
       "      <td>0.98375665</td>\n",
       "      <td>0.983756656</td>\n",
       "      <td>...</td>\n",
       "      <td>6</td>\n",
       "      <td>1</td>\n",
       "      <td>1</td>\n",
       "      <td>1</td>\n",
       "      <td>1</td>\n",
       "      <td>1</td>\n",
       "      <td>1</td>\n",
       "      <td>1</td>\n",
       "      <td>1</td>\n",
       "      <td>1</td>\n",
       "    </tr>\n",
       "    <tr>\n",
       "      <th>2</th>\n",
       "      <td>1</td>\n",
       "      <td>89568</td>\n",
       "      <td>0.983763</td>\n",
       "      <td>0.983</td>\n",
       "      <td>0.9837</td>\n",
       "      <td>0.98376</td>\n",
       "      <td>0.983763</td>\n",
       "      <td>0.9837634</td>\n",
       "      <td>0.98376343</td>\n",
       "      <td>0.983763437</td>\n",
       "      <td>...</td>\n",
       "      <td>6</td>\n",
       "      <td>1</td>\n",
       "      <td>1</td>\n",
       "      <td>1</td>\n",
       "      <td>1</td>\n",
       "      <td>1</td>\n",
       "      <td>1</td>\n",
       "      <td>1</td>\n",
       "      <td>1</td>\n",
       "      <td>1</td>\n",
       "    </tr>\n",
       "    <tr>\n",
       "      <th>3</th>\n",
       "      <td>1</td>\n",
       "      <td>76240</td>\n",
       "      <td>0.983770</td>\n",
       "      <td>0.983</td>\n",
       "      <td>0.9837</td>\n",
       "      <td>0.98377</td>\n",
       "      <td>0.983770</td>\n",
       "      <td>0.9837704</td>\n",
       "      <td>0.98377043</td>\n",
       "      <td>0.983770432</td>\n",
       "      <td>...</td>\n",
       "      <td>6</td>\n",
       "      <td>1</td>\n",
       "      <td>1</td>\n",
       "      <td>1</td>\n",
       "      <td>1</td>\n",
       "      <td>1</td>\n",
       "      <td>1</td>\n",
       "      <td>1</td>\n",
       "      <td>1</td>\n",
       "      <td>1</td>\n",
       "    </tr>\n",
       "    <tr>\n",
       "      <th>4</th>\n",
       "      <td>1</td>\n",
       "      <td>87533</td>\n",
       "      <td>0.983790</td>\n",
       "      <td>0.983</td>\n",
       "      <td>0.9837</td>\n",
       "      <td>0.98378</td>\n",
       "      <td>0.983789</td>\n",
       "      <td>0.9837895</td>\n",
       "      <td>0.98378950</td>\n",
       "      <td>0.983789507</td>\n",
       "      <td>...</td>\n",
       "      <td>6</td>\n",
       "      <td>2</td>\n",
       "      <td>2</td>\n",
       "      <td>2</td>\n",
       "      <td>1</td>\n",
       "      <td>1</td>\n",
       "      <td>1</td>\n",
       "      <td>1</td>\n",
       "      <td>1</td>\n",
       "      <td>1</td>\n",
       "    </tr>\n",
       "  </tbody>\n",
       "</table>\n",
       "<p>5 rows × 25 columns</p>\n",
       "</div>"
      ],
      "text/plain": [
       "  user_id item_id      time time_top_5 time_top_6 time_top_7 time_top_8  \\\n",
       "0       1   78142  0.983742      0.983     0.9837    0.98374   0.983741   \n",
       "1       1   26646  0.983757      0.983     0.9837    0.98375   0.983756   \n",
       "2       1   89568  0.983763      0.983     0.9837    0.98376   0.983763   \n",
       "3       1   76240  0.983770      0.983     0.9837    0.98377   0.983770   \n",
       "4       1   87533  0.983790      0.983     0.9837    0.98378   0.983789   \n",
       "\n",
       "  time_top_9 time_top_10  time_top_11  ... time_top_6_user_clickcount  \\\n",
       "0  0.9837416  0.98374161  0.983741619  ...                          6   \n",
       "1  0.9837566  0.98375665  0.983756656  ...                          6   \n",
       "2  0.9837634  0.98376343  0.983763437  ...                          6   \n",
       "3  0.9837704  0.98377043  0.983770432  ...                          6   \n",
       "4  0.9837895  0.98378950  0.983789507  ...                          6   \n",
       "\n",
       "  time_top_7_user_clickcount time_top_8_user_clickcount  \\\n",
       "0                          1                          1   \n",
       "1                          1                          1   \n",
       "2                          1                          1   \n",
       "3                          1                          1   \n",
       "4                          2                          2   \n",
       "\n",
       "  time_top_9_user_clickcount  time_top_10_user_clickcount  \\\n",
       "0                          1                            1   \n",
       "1                          1                            1   \n",
       "2                          1                            1   \n",
       "3                          1                            1   \n",
       "4                          2                            1   \n",
       "\n",
       "   time_top_11_user_clickcount  time_top_12_user_clickcount  \\\n",
       "0                            1                            1   \n",
       "1                            1                            1   \n",
       "2                            1                            1   \n",
       "3                            1                            1   \n",
       "4                            1                            1   \n",
       "\n",
       "   time_top_13_user_clickcount  time_top_14_user_clickcount  \\\n",
       "0                            1                            1   \n",
       "1                            1                            1   \n",
       "2                            1                            1   \n",
       "3                            1                            1   \n",
       "4                            1                            1   \n",
       "\n",
       "   time_top_15_user_clickcount  \n",
       "0                            1  \n",
       "1                            1  \n",
       "2                            1  \n",
       "3                            1  \n",
       "4                            1  \n",
       "\n",
       "[5 rows x 25 columns]"
      ]
     },
     "execution_count": 30,
     "metadata": {},
     "output_type": "execute_result"
    }
   ],
   "source": [
    "train_click=train_click_data\n",
    "for i in range(5,substrn):\n",
    "    col=\"time_top_{0}\".format(i)\n",
    "    test_click_n=train_click.groupby(['user_id', col]).size().reset_index()\n",
    "    col_count=col+\"_user_clickcount\"\n",
    "    test_click_n.rename(columns={0: col_count}, inplace=True)\n",
    "    train_click= pd.merge(train_click, test_click_n, how='left', on=['user_id', col])\n",
    "train_click.head()"
   ]
  },
  {
   "cell_type": "code",
   "execution_count": 31,
   "metadata": {},
   "outputs": [
    {
     "data": {
      "text/plain": [
       "Index(['user_id', 'item_id', 'time', 'time_top_5', 'time_top_6', 'time_top_7',\n",
       "       'time_top_8', 'time_top_9', 'time_top_10', 'time_top_11', 'time_top_12',\n",
       "       'time_top_13', 'time_top_14', 'time_top_15',\n",
       "       'time_top_5_user_clickcount', 'time_top_6_user_clickcount',\n",
       "       'time_top_7_user_clickcount', 'time_top_8_user_clickcount',\n",
       "       'time_top_9_user_clickcount', 'time_top_10_user_clickcount',\n",
       "       'time_top_11_user_clickcount', 'time_top_12_user_clickcount',\n",
       "       'time_top_13_user_clickcount', 'time_top_14_user_clickcount',\n",
       "       'time_top_15_user_clickcount'],\n",
       "      dtype='object')"
      ]
     },
     "execution_count": 31,
     "metadata": {},
     "output_type": "execute_result"
    }
   ],
   "source": [
    "train_click.columns\n"
   ]
  },
  {
   "cell_type": "markdown",
   "metadata": {},
   "source": [
    "#### 商品在某一时间戳下发生点击次数"
   ]
  },
  {
   "cell_type": "code",
   "execution_count": 32,
   "metadata": {},
   "outputs": [
    {
     "data": {
      "text/html": [
       "<div>\n",
       "<style scoped>\n",
       "    .dataframe tbody tr th:only-of-type {\n",
       "        vertical-align: middle;\n",
       "    }\n",
       "\n",
       "    .dataframe tbody tr th {\n",
       "        vertical-align: top;\n",
       "    }\n",
       "\n",
       "    .dataframe thead th {\n",
       "        text-align: right;\n",
       "    }\n",
       "</style>\n",
       "<table border=\"1\" class=\"dataframe\">\n",
       "  <thead>\n",
       "    <tr style=\"text-align: right;\">\n",
       "      <th></th>\n",
       "      <th>user_id</th>\n",
       "      <th>item_id</th>\n",
       "      <th>time</th>\n",
       "      <th>time_top_5</th>\n",
       "      <th>time_top_6</th>\n",
       "      <th>time_top_7</th>\n",
       "      <th>time_top_8</th>\n",
       "      <th>time_top_9</th>\n",
       "      <th>time_top_10</th>\n",
       "      <th>time_top_11</th>\n",
       "      <th>...</th>\n",
       "      <th>time_top_6_item_clickcount</th>\n",
       "      <th>time_top_7_item_clickcount</th>\n",
       "      <th>time_top_8_item_clickcount</th>\n",
       "      <th>time_top_9_item_clickcount</th>\n",
       "      <th>time_top_10_item_clickcount</th>\n",
       "      <th>time_top_11_item_clickcount</th>\n",
       "      <th>time_top_12_item_clickcount</th>\n",
       "      <th>time_top_13_item_clickcount</th>\n",
       "      <th>time_top_14_item_clickcount</th>\n",
       "      <th>time_top_15_item_clickcount</th>\n",
       "    </tr>\n",
       "  </thead>\n",
       "  <tbody>\n",
       "    <tr>\n",
       "      <th>0</th>\n",
       "      <td>1</td>\n",
       "      <td>78142</td>\n",
       "      <td>0.983742</td>\n",
       "      <td>0.983</td>\n",
       "      <td>0.9837</td>\n",
       "      <td>0.98374</td>\n",
       "      <td>0.983741</td>\n",
       "      <td>0.9837416</td>\n",
       "      <td>0.98374161</td>\n",
       "      <td>0.983741619</td>\n",
       "      <td>...</td>\n",
       "      <td>1</td>\n",
       "      <td>1</td>\n",
       "      <td>1</td>\n",
       "      <td>1</td>\n",
       "      <td>1</td>\n",
       "      <td>1</td>\n",
       "      <td>1</td>\n",
       "      <td>1</td>\n",
       "      <td>1</td>\n",
       "      <td>1</td>\n",
       "    </tr>\n",
       "    <tr>\n",
       "      <th>1</th>\n",
       "      <td>1</td>\n",
       "      <td>26646</td>\n",
       "      <td>0.983757</td>\n",
       "      <td>0.983</td>\n",
       "      <td>0.9837</td>\n",
       "      <td>0.98375</td>\n",
       "      <td>0.983756</td>\n",
       "      <td>0.9837566</td>\n",
       "      <td>0.98375665</td>\n",
       "      <td>0.983756656</td>\n",
       "      <td>...</td>\n",
       "      <td>1</td>\n",
       "      <td>1</td>\n",
       "      <td>1</td>\n",
       "      <td>1</td>\n",
       "      <td>1</td>\n",
       "      <td>1</td>\n",
       "      <td>1</td>\n",
       "      <td>1</td>\n",
       "      <td>1</td>\n",
       "      <td>1</td>\n",
       "    </tr>\n",
       "    <tr>\n",
       "      <th>2</th>\n",
       "      <td>1</td>\n",
       "      <td>89568</td>\n",
       "      <td>0.983763</td>\n",
       "      <td>0.983</td>\n",
       "      <td>0.9837</td>\n",
       "      <td>0.98376</td>\n",
       "      <td>0.983763</td>\n",
       "      <td>0.9837634</td>\n",
       "      <td>0.98376343</td>\n",
       "      <td>0.983763437</td>\n",
       "      <td>...</td>\n",
       "      <td>3</td>\n",
       "      <td>2</td>\n",
       "      <td>1</td>\n",
       "      <td>1</td>\n",
       "      <td>1</td>\n",
       "      <td>1</td>\n",
       "      <td>1</td>\n",
       "      <td>1</td>\n",
       "      <td>1</td>\n",
       "      <td>1</td>\n",
       "    </tr>\n",
       "    <tr>\n",
       "      <th>3</th>\n",
       "      <td>1</td>\n",
       "      <td>76240</td>\n",
       "      <td>0.983770</td>\n",
       "      <td>0.983</td>\n",
       "      <td>0.9837</td>\n",
       "      <td>0.98377</td>\n",
       "      <td>0.983770</td>\n",
       "      <td>0.9837704</td>\n",
       "      <td>0.98377043</td>\n",
       "      <td>0.983770432</td>\n",
       "      <td>...</td>\n",
       "      <td>1</td>\n",
       "      <td>1</td>\n",
       "      <td>1</td>\n",
       "      <td>1</td>\n",
       "      <td>1</td>\n",
       "      <td>1</td>\n",
       "      <td>1</td>\n",
       "      <td>1</td>\n",
       "      <td>1</td>\n",
       "      <td>1</td>\n",
       "    </tr>\n",
       "    <tr>\n",
       "      <th>4</th>\n",
       "      <td>1</td>\n",
       "      <td>87533</td>\n",
       "      <td>0.983790</td>\n",
       "      <td>0.983</td>\n",
       "      <td>0.9837</td>\n",
       "      <td>0.98378</td>\n",
       "      <td>0.983789</td>\n",
       "      <td>0.9837895</td>\n",
       "      <td>0.98378950</td>\n",
       "      <td>0.983789507</td>\n",
       "      <td>...</td>\n",
       "      <td>1</td>\n",
       "      <td>1</td>\n",
       "      <td>1</td>\n",
       "      <td>1</td>\n",
       "      <td>1</td>\n",
       "      <td>1</td>\n",
       "      <td>1</td>\n",
       "      <td>1</td>\n",
       "      <td>1</td>\n",
       "      <td>1</td>\n",
       "    </tr>\n",
       "  </tbody>\n",
       "</table>\n",
       "<p>5 rows × 36 columns</p>\n",
       "</div>"
      ],
      "text/plain": [
       "  user_id item_id      time time_top_5 time_top_6 time_top_7 time_top_8  \\\n",
       "0       1   78142  0.983742      0.983     0.9837    0.98374   0.983741   \n",
       "1       1   26646  0.983757      0.983     0.9837    0.98375   0.983756   \n",
       "2       1   89568  0.983763      0.983     0.9837    0.98376   0.983763   \n",
       "3       1   76240  0.983770      0.983     0.9837    0.98377   0.983770   \n",
       "4       1   87533  0.983790      0.983     0.9837    0.98378   0.983789   \n",
       "\n",
       "  time_top_9 time_top_10  time_top_11  ... time_top_6_item_clickcount  \\\n",
       "0  0.9837416  0.98374161  0.983741619  ...                          1   \n",
       "1  0.9837566  0.98375665  0.983756656  ...                          1   \n",
       "2  0.9837634  0.98376343  0.983763437  ...                          3   \n",
       "3  0.9837704  0.98377043  0.983770432  ...                          1   \n",
       "4  0.9837895  0.98378950  0.983789507  ...                          1   \n",
       "\n",
       "  time_top_7_item_clickcount time_top_8_item_clickcount  \\\n",
       "0                          1                          1   \n",
       "1                          1                          1   \n",
       "2                          2                          1   \n",
       "3                          1                          1   \n",
       "4                          1                          1   \n",
       "\n",
       "  time_top_9_item_clickcount  time_top_10_item_clickcount  \\\n",
       "0                          1                            1   \n",
       "1                          1                            1   \n",
       "2                          1                            1   \n",
       "3                          1                            1   \n",
       "4                          1                            1   \n",
       "\n",
       "   time_top_11_item_clickcount  time_top_12_item_clickcount  \\\n",
       "0                            1                            1   \n",
       "1                            1                            1   \n",
       "2                            1                            1   \n",
       "3                            1                            1   \n",
       "4                            1                            1   \n",
       "\n",
       "   time_top_13_item_clickcount  time_top_14_item_clickcount  \\\n",
       "0                            1                            1   \n",
       "1                            1                            1   \n",
       "2                            1                            1   \n",
       "3                            1                            1   \n",
       "4                            1                            1   \n",
       "\n",
       "   time_top_15_item_clickcount  \n",
       "0                            1  \n",
       "1                            1  \n",
       "2                            1  \n",
       "3                            1  \n",
       "4                            1  \n",
       "\n",
       "[5 rows x 36 columns]"
      ]
     },
     "execution_count": 32,
     "metadata": {},
     "output_type": "execute_result"
    }
   ],
   "source": [
    "for i in range(5,substrn):\n",
    "    col=\"time_top_{0}\".format(i)\n",
    "    test_click_n=train_click.groupby(['item_id', col]).size().reset_index()\n",
    "    col_count=col+\"_item_clickcount\"\n",
    "    test_click_n.rename(columns={0: col_count}, inplace=True)\n",
    "    train_click= pd.merge(train_click, test_click_n, how='left', on=['item_id', col])\n",
    "train_click.head()"
   ]
  },
  {
   "cell_type": "code",
   "execution_count": 33,
   "metadata": {},
   "outputs": [
    {
     "data": {
      "text/plain": [
       "Index(['user_id', 'item_id', 'time', 'time_top_5', 'time_top_6', 'time_top_7',\n",
       "       'time_top_8', 'time_top_9', 'time_top_10', 'time_top_11', 'time_top_12',\n",
       "       'time_top_13', 'time_top_14', 'time_top_15',\n",
       "       'time_top_5_user_clickcount', 'time_top_6_user_clickcount',\n",
       "       'time_top_7_user_clickcount', 'time_top_8_user_clickcount',\n",
       "       'time_top_9_user_clickcount', 'time_top_10_user_clickcount',\n",
       "       'time_top_11_user_clickcount', 'time_top_12_user_clickcount',\n",
       "       'time_top_13_user_clickcount', 'time_top_14_user_clickcount',\n",
       "       'time_top_15_user_clickcount', 'time_top_5_item_clickcount',\n",
       "       'time_top_6_item_clickcount', 'time_top_7_item_clickcount',\n",
       "       'time_top_8_item_clickcount', 'time_top_9_item_clickcount',\n",
       "       'time_top_10_item_clickcount', 'time_top_11_item_clickcount',\n",
       "       'time_top_12_item_clickcount', 'time_top_13_item_clickcount',\n",
       "       'time_top_14_item_clickcount', 'time_top_15_item_clickcount'],\n",
       "      dtype='object')"
      ]
     },
     "execution_count": 33,
     "metadata": {},
     "output_type": "execute_result"
    }
   ],
   "source": [
    "train_click.columns"
   ]
  },
  {
   "cell_type": "markdown",
   "metadata": {},
   "source": [
    "### 按照不同时间区间查看商品点击次数的总和"
   ]
  },
  {
   "cell_type": "markdown",
   "metadata": {},
   "source": [
    "### 找出小数点后三位不同区间"
   ]
  },
  {
   "cell_type": "code",
   "execution_count": 34,
   "metadata": {},
   "outputs": [],
   "source": [
    "top5=train_click[\"time_top_5\"].drop_duplicates()\n"
   ]
  },
  {
   "cell_type": "code",
   "execution_count": 35,
   "metadata": {},
   "outputs": [],
   "source": [
    "train_click_item_top5=train_click[[\"item_id\",\"time_top_5\"]]"
   ]
  },
  {
   "cell_type": "code",
   "execution_count": 36,
   "metadata": {},
   "outputs": [
    {
     "data": {
      "text/plain": [
       "(1139080, 2)"
      ]
     },
     "execution_count": 36,
     "metadata": {},
     "output_type": "execute_result"
    },
    {
     "data": {
      "text/html": [
       "<div>\n",
       "<style scoped>\n",
       "    .dataframe tbody tr th:only-of-type {\n",
       "        vertical-align: middle;\n",
       "    }\n",
       "\n",
       "    .dataframe tbody tr th {\n",
       "        vertical-align: top;\n",
       "    }\n",
       "\n",
       "    .dataframe thead th {\n",
       "        text-align: right;\n",
       "    }\n",
       "</style>\n",
       "<table border=\"1\" class=\"dataframe\">\n",
       "  <thead>\n",
       "    <tr style=\"text-align: right;\">\n",
       "      <th></th>\n",
       "      <th>item_id</th>\n",
       "      <th>time_top_5</th>\n",
       "    </tr>\n",
       "  </thead>\n",
       "  <tbody>\n",
       "    <tr>\n",
       "      <th>0</th>\n",
       "      <td>78142</td>\n",
       "      <td>0.983</td>\n",
       "    </tr>\n",
       "    <tr>\n",
       "      <th>1</th>\n",
       "      <td>26646</td>\n",
       "      <td>0.983</td>\n",
       "    </tr>\n",
       "    <tr>\n",
       "      <th>2</th>\n",
       "      <td>89568</td>\n",
       "      <td>0.983</td>\n",
       "    </tr>\n",
       "    <tr>\n",
       "      <th>3</th>\n",
       "      <td>76240</td>\n",
       "      <td>0.983</td>\n",
       "    </tr>\n",
       "    <tr>\n",
       "      <th>4</th>\n",
       "      <td>87533</td>\n",
       "      <td>0.983</td>\n",
       "    </tr>\n",
       "  </tbody>\n",
       "</table>\n",
       "</div>"
      ],
      "text/plain": [
       "  item_id time_top_5\n",
       "0   78142      0.983\n",
       "1   26646      0.983\n",
       "2   89568      0.983\n",
       "3   76240      0.983\n",
       "4   87533      0.983"
      ]
     },
     "execution_count": 36,
     "metadata": {},
     "output_type": "execute_result"
    }
   ],
   "source": [
    "train_click_item_top5.shape\n",
    "train_click_item_top5.head()"
   ]
  },
  {
   "cell_type": "code",
   "execution_count": 37,
   "metadata": {},
   "outputs": [],
   "source": [
    "train_click_item_top5_count=train_click_item_top5[\"time_top_5\"].value_counts().reset_index()\n",
    "\n",
    "\n",
    "train_click_item_top5_count.rename(columns={'index': 'item_5','time_top_5':'click_count'}, inplace=True)\n"
   ]
  },
  {
   "cell_type": "code",
   "execution_count": 38,
   "metadata": {},
   "outputs": [
    {
     "data": {
      "text/html": [
       "<div>\n",
       "<style scoped>\n",
       "    .dataframe tbody tr th:only-of-type {\n",
       "        vertical-align: middle;\n",
       "    }\n",
       "\n",
       "    .dataframe tbody tr th {\n",
       "        vertical-align: top;\n",
       "    }\n",
       "\n",
       "    .dataframe thead th {\n",
       "        text-align: right;\n",
       "    }\n",
       "</style>\n",
       "<table border=\"1\" class=\"dataframe\">\n",
       "  <thead>\n",
       "    <tr style=\"text-align: right;\">\n",
       "      <th></th>\n",
       "      <th>item_5</th>\n",
       "      <th>click_count</th>\n",
       "    </tr>\n",
       "  </thead>\n",
       "  <tbody>\n",
       "    <tr>\n",
       "      <th>0</th>\n",
       "      <td>0.984</td>\n",
       "      <td>578907</td>\n",
       "    </tr>\n",
       "    <tr>\n",
       "      <th>1</th>\n",
       "      <td>0.983</td>\n",
       "      <td>560173</td>\n",
       "    </tr>\n",
       "  </tbody>\n",
       "</table>\n",
       "</div>"
      ],
      "text/plain": [
       "  item_5  click_count\n",
       "0  0.984       578907\n",
       "1  0.983       560173"
      ]
     },
     "execution_count": 38,
     "metadata": {},
     "output_type": "execute_result"
    }
   ],
   "source": [
    "train_click_item_top5_count.head()"
   ]
  },
  {
   "cell_type": "code",
   "execution_count": 39,
   "metadata": {},
   "outputs": [
    {
     "data": {
      "text/plain": [
       "(array([0, 1]), <a list of 2 Text xticklabel objects>)"
      ]
     },
     "execution_count": 39,
     "metadata": {},
     "output_type": "execute_result"
    },
    {
     "data": {
      "text/plain": [
       "Text(0.5, 1.0, 'Click_COUNT')"
      ]
     },
     "execution_count": 39,
     "metadata": {},
     "output_type": "execute_result"
    },
    {
     "data": {
      "image/png": "[encoded data removed]",
      "text/plain": [
       "<Figure size 432x288 with 1 Axes>"
      ]
     },
     "metadata": {
      "needs_background": "light"
     },
     "output_type": "display_data"
    }
   ],
   "source": [
    "click_count_fig=plt.bar(  range(len(train_click_item_top5_count.item_5)),train_click_item_top5_count[\"click_count\"].values ,\n",
    "          width=0.8,tick_label = train_click_item_top5_count[\"item_5\"])\n",
    "autolabel(click_count_fig)\n",
    "plt.xticks(rotation = 90)\n",
    "plt.title('Click_COUNT')\n",
    "plt.show()\n"
   ]
  },
  {
   "cell_type": "markdown",
   "metadata": {},
   "source": [
    "###  找出小数点后4位不同区间"
   ]
  },
  {
   "cell_type": "code",
   "execution_count": 90,
   "metadata": {},
   "outputs": [],
   "source": [
    "def plotcount(train_click_item_count,time_top_n,click_count_n,n):\n",
    "    click_count_fig=plt.bar(  range(len(train_click_item_count[time_top_n])),train_click_item_count[click_count_n].values ,\n",
    "          width=0.8,tick_label = train_click_item_count[time_top_n])\n",
    "    autolabel(click_count_fig)\n",
    "    plt.xticks(rotation = 90)\n",
    "    plt.title('Click_COUNT_{}'.format(n))\n",
    "    plt.rcParams['figure.figsize'] = (30.0, 8.0)\n",
    "    plt.show()"
   ]
  },
  {
   "cell_type": "code",
   "execution_count": 41,
   "metadata": {},
   "outputs": [
    {
     "data": {
      "image/png": "[encoded data removed]",
      "text/plain": [
       "<Figure size 432x288 with 1 Axes>"
      ]
     },
     "metadata": {
      "needs_background": "light"
     },
     "output_type": "display_data"
    }
   ],
   "source": [
    "top6=train_click[\"time_top_6\"].drop_duplicates()\n",
    "train_click_item_top6=train_click[[\"item_id\",\"time_top_6\"]]\n",
    "train_click_item_top6_count=train_click_item_top6[\"time_top_6\"].value_counts().reset_index()\n",
    "train_click_item_top6_count.rename(columns={'index': 'item_6','time_top_6':'click_count6'}, inplace=True)\n",
    "train_click_item_top6_count=train_click_item_top6_count.sort_values(axis=0,by=[\"item_6\"],ascending=False)\n",
    "plotcount(train_click_item_top6_count,\"item_6\",\"click_count6\",6)"
   ]
  },
  {
   "cell_type": "markdown",
   "metadata": {},
   "source": [
    "### 找出小数点后5位不同区间"
   ]
  },
  {
   "cell_type": "code",
   "execution_count": 42,
   "metadata": {},
   "outputs": [],
   "source": [
    "def get_item_top_n(n):\n",
    "    col=\"time_top_{0}\".format(n)\n",
    "    train_click_item_top=train_click[[\"item_id\",col]]\n",
    "    train_click_item_top_count=train_click_item_top[col].value_counts().reset_index()\n",
    "    train_click_item_top_count.rename(columns={'index': 'item_{}'.format(n),col:'click_count{}'.format(n)}, inplace=True)\n",
    "    train_click_item_top_count=train_click_item_top_count.sort_values(axis=0,by=[ 'item_{}'.format(n)],ascending=False)\n",
    "    return train_click_item_top_count"
   ]
  },
  {
   "cell_type": "code",
   "execution_count": 91,
   "metadata": {},
   "outputs": [
    {
     "data": {
      "image/png": "[encoded data removed]",
      "text/plain": [
       "<Figure size 1440x576 with 1 Axes>"
      ]
     },
     "metadata": {
      "needs_background": "light"
     },
     "output_type": "display_data"
    }
   ],
   "source": [
    "\n",
    "train_click_item_top7_count=get_item_top_n(7)\n",
    "plotcount(train_click_item_top7_count,\"item_{0}\".format(7),\"click_count{}\".format(7),7)\n",
    "\n",
    " # 设置figure_size尺寸"
   ]
  },
  {
   "cell_type": "code",
   "execution_count": 44,
   "metadata": {},
   "outputs": [
    {
     "data": {
      "text/html": [
       "<div>\n",
       "<style scoped>\n",
       "    .dataframe tbody tr th:only-of-type {\n",
       "        vertical-align: middle;\n",
       "    }\n",
       "\n",
       "    .dataframe tbody tr th {\n",
       "        vertical-align: top;\n",
       "    }\n",
       "\n",
       "    .dataframe thead th {\n",
       "        text-align: right;\n",
       "    }\n",
       "</style>\n",
       "<table border=\"1\" class=\"dataframe\">\n",
       "  <thead>\n",
       "    <tr style=\"text-align: right;\">\n",
       "      <th></th>\n",
       "      <th>item_id</th>\n",
       "      <th>time_top_7</th>\n",
       "    </tr>\n",
       "  </thead>\n",
       "  <tbody>\n",
       "    <tr>\n",
       "      <th>0</th>\n",
       "      <td>78142</td>\n",
       "      <td>0.98374</td>\n",
       "    </tr>\n",
       "    <tr>\n",
       "      <th>1</th>\n",
       "      <td>26646</td>\n",
       "      <td>0.98375</td>\n",
       "    </tr>\n",
       "    <tr>\n",
       "      <th>2</th>\n",
       "      <td>89568</td>\n",
       "      <td>0.98376</td>\n",
       "    </tr>\n",
       "    <tr>\n",
       "      <th>3</th>\n",
       "      <td>76240</td>\n",
       "      <td>0.98377</td>\n",
       "    </tr>\n",
       "    <tr>\n",
       "      <th>4</th>\n",
       "      <td>87533</td>\n",
       "      <td>0.98378</td>\n",
       "    </tr>\n",
       "  </tbody>\n",
       "</table>\n",
       "</div>"
      ],
      "text/plain": [
       "  item_id time_top_7\n",
       "0   78142    0.98374\n",
       "1   26646    0.98375\n",
       "2   89568    0.98376\n",
       "3   76240    0.98377\n",
       "4   87533    0.98378"
      ]
     },
     "execution_count": 44,
     "metadata": {},
     "output_type": "execute_result"
    },
    {
     "name": "stdout",
     "output_type": "stream",
     "text": [
      "<class 'pandas.core.frame.DataFrame'>\n",
      "Int64Index: 1139080 entries, 0 to 1139079\n",
      "Data columns (total 2 columns):\n",
      "item_id       1139080 non-null object\n",
      "time_top_7    1139080 non-null object\n",
      "dtypes: object(2)\n",
      "memory usage: 26.1+ MB\n"
     ]
    }
   ],
   "source": [
    "\n",
    "\n",
    "\n",
    "col=\"time_top_{0}\".format(7)\n",
    "train_click_item_top=train_click[[\"item_id\",col]]\n",
    "train_click_item_top.head()\n",
    "train_click_item_top.info()"
   ]
  },
  {
   "cell_type": "code",
   "execution_count": 45,
   "metadata": {},
   "outputs": [
    {
     "data": {
      "text/html": [
       "<div>\n",
       "<style scoped>\n",
       "    .dataframe tbody tr th:only-of-type {\n",
       "        vertical-align: middle;\n",
       "    }\n",
       "\n",
       "    .dataframe tbody tr th {\n",
       "        vertical-align: top;\n",
       "    }\n",
       "\n",
       "    .dataframe thead th {\n",
       "        text-align: right;\n",
       "    }\n",
       "</style>\n",
       "<table border=\"1\" class=\"dataframe\">\n",
       "  <thead>\n",
       "    <tr style=\"text-align: right;\">\n",
       "      <th></th>\n",
       "      <th>item_id</th>\n",
       "      <th>time_top_7</th>\n",
       "    </tr>\n",
       "  </thead>\n",
       "  <tbody>\n",
       "    <tr>\n",
       "      <th>0</th>\n",
       "      <td>78142</td>\n",
       "      <td>0.98374</td>\n",
       "    </tr>\n",
       "    <tr>\n",
       "      <th>1</th>\n",
       "      <td>26646</td>\n",
       "      <td>0.98375</td>\n",
       "    </tr>\n",
       "    <tr>\n",
       "      <th>2</th>\n",
       "      <td>89568</td>\n",
       "      <td>0.98376</td>\n",
       "    </tr>\n",
       "    <tr>\n",
       "      <th>3</th>\n",
       "      <td>76240</td>\n",
       "      <td>0.98377</td>\n",
       "    </tr>\n",
       "    <tr>\n",
       "      <th>4</th>\n",
       "      <td>87533</td>\n",
       "      <td>0.98378</td>\n",
       "    </tr>\n",
       "  </tbody>\n",
       "</table>\n",
       "</div>"
      ],
      "text/plain": [
       "  item_id time_top_7\n",
       "0   78142    0.98374\n",
       "1   26646    0.98375\n",
       "2   89568    0.98376\n",
       "3   76240    0.98377\n",
       "4   87533    0.98378"
      ]
     },
     "execution_count": 45,
     "metadata": {},
     "output_type": "execute_result"
    }
   ],
   "source": [
    "train_click_item_top.head()"
   ]
  },
  {
   "cell_type": "code",
   "execution_count": 66,
   "metadata": {},
   "outputs": [
    {
     "data": {
      "text/plain": [
       "[0.9837, 0.9837857142857143, 0.9838714285714285, 0.9839571428571428, 0.984042857142857, 0.9841285714285712, 0.9842142857142855]"
      ]
     },
     "execution_count": 66,
     "metadata": {},
     "output_type": "execute_result"
    },
    {
     "name": "stdout",
     "output_type": "stream",
     "text": [
      "0.9837 0.9837857142857143 0\n",
      "0.9837857142857143 0.9838714285714285 1\n",
      "0.9838714285714285 0.9839571428571428 2\n",
      "0.9839571428571428 0.984042857142857 3\n",
      "0.984042857142857 0.9841285714285712 4\n",
      "0.9841285714285712 0.9842142857142855 5\n"
     ]
    }
   ],
   "source": [
    "\n",
    "import numpy as np\n",
    "app=[]\n",
    "nums=8\n",
    "col=\"time_top_{0}\".format(15)\n",
    "train_click_item_top15=train_click[[\"item_id\",col]]\n",
    "train_click_item_top15[\"time_top_15\"]=train_click_item_top15[\"time_top_15\"].apply(lambda x:float('%.13f' % float(x)))\n",
    "for i in np.arange(0.98370,0.98430,(0.98430 - 0.98370)/ 7):\n",
    "    app.append(i)\n",
    "app\n",
    "all_train_data = pd.DataFrame( columns=['item_id', 'time_top_15',\"section\"])  \n",
    "for i in range(0,len(app)-1):\n",
    "    print(app[i],app[i+1],i)\n",
    "    train_click_item_top_n=train_click_item_top15[(train_click_item_top15[\"time_top_15\"]>=app[i])&(train_click_item_top15[\"time_top_15\"]<app[i+1])]\n",
    "    train_click_item_top_n[\"section\"]=i\n",
    "    all_train_data = pd.concat([all_train_data, train_click_item_top_n])\n",
    "\n",
    "train_click_item_top_nn=train_click_item_top15[(train_click_item_top15[\"time_top_15\"]>=app[len(app)-1])]\n",
    "train_click_item_top_nn[\"section\"]=len(app)-1\n",
    "all_train_data = pd.concat([all_train_data, train_click_item_top_nn])"
   ]
  },
  {
   "cell_type": "code",
   "execution_count": 78,
   "metadata": {},
   "outputs": [],
   "source": [
    "all_train_data_count=all_train_data[\"section\"].value_counts().to_frame().reset_index()\n",
    "all_train_data_count.columns=[\"sections\",\"section_count\"]\n",
    "all_train_data_count=all_train_data_count.sort_values(axis=0,by=[\"sections\"])"
   ]
  },
  {
   "cell_type": "code",
   "execution_count": 86,
   "metadata": {},
   "outputs": [
    {
     "data": {
      "text/plain": [
       "(array([0, 1, 2, 3, 4, 5, 6]), <a list of 7 Text xticklabel objects>)"
      ]
     },
     "execution_count": 86,
     "metadata": {},
     "output_type": "execute_result"
    },
    {
     "data": {
      "text/plain": [
       "Text(0.5, 1.0, 'sections_click_COUNT')"
      ]
     },
     "execution_count": 86,
     "metadata": {},
     "output_type": "execute_result"
    },
    {
     "data": {
      "image/png": "[encoded data removed]",
      "text/plain": [
       "<Figure size 720x720 with 1 Axes>"
      ]
     },
     "metadata": {
      "needs_background": "light"
     },
     "output_type": "display_data"
    }
   ],
   "source": [
    "click_count_fig1=plt.bar(  range(len(all_train_data_count.sections)),all_train_data_count[\"section_count\"].values ,\n",
    "          width=0.8,tick_label = all_train_data_count[\"sections\"])\n",
    "autolabel(click_count_fig1)\n",
    "plt.xticks(rotation = 90)\n",
    "plt.title('sections_click_COUNT')\n",
    "plt.show()"
   ]
  },
  {
   "cell_type": "code",
   "execution_count": 87,
   "metadata": {},
   "outputs": [
    {
     "data": {
      "text/html": [
       "<div>\n",
       "<style scoped>\n",
       "    .dataframe tbody tr th:only-of-type {\n",
       "        vertical-align: middle;\n",
       "    }\n",
       "\n",
       "    .dataframe tbody tr th {\n",
       "        vertical-align: top;\n",
       "    }\n",
       "\n",
       "    .dataframe thead th {\n",
       "        text-align: right;\n",
       "    }\n",
       "</style>\n",
       "<table border=\"1\" class=\"dataframe\">\n",
       "  <thead>\n",
       "    <tr style=\"text-align: right;\">\n",
       "      <th></th>\n",
       "      <th>index</th>\n",
       "      <th>section</th>\n",
       "    </tr>\n",
       "  </thead>\n",
       "  <tbody>\n",
       "    <tr>\n",
       "      <th>0</th>\n",
       "      <td>2</td>\n",
       "      <td>264896</td>\n",
       "    </tr>\n",
       "    <tr>\n",
       "      <th>1</th>\n",
       "      <td>4</td>\n",
       "      <td>211249</td>\n",
       "    </tr>\n",
       "    <tr>\n",
       "      <th>2</th>\n",
       "      <td>3</td>\n",
       "      <td>184667</td>\n",
       "    </tr>\n",
       "    <tr>\n",
       "      <th>3</th>\n",
       "      <td>1</td>\n",
       "      <td>160851</td>\n",
       "    </tr>\n",
       "    <tr>\n",
       "      <th>4</th>\n",
       "      <td>5</td>\n",
       "      <td>143104</td>\n",
       "    </tr>\n",
       "  </tbody>\n",
       "</table>\n",
       "</div>"
      ],
      "text/plain": [
       "   index  section\n",
       "0      2   264896\n",
       "1      4   211249\n",
       "2      3   184667\n",
       "3      1   160851\n",
       "4      5   143104"
      ]
     },
     "execution_count": 87,
     "metadata": {},
     "output_type": "execute_result"
    }
   ],
   "source": [
    "\n",
    "\n",
    "\n",
    "train_click_item_top15=all_train_data[[\"section\",\"time_top_15\"]]\n",
    "train_click_item_top15=train_click_item_top15[\"section\"].value_counts().reset_index()\n",
    "train_click_item_top15.head()"
   ]
  },
  {
   "cell_type": "markdown",
   "metadata": {},
   "source": [
    "#### "
   ]
  },
  {
   "cell_type": "code",
   "execution_count": 82,
   "metadata": {},
   "outputs": [
    {
     "data": {
      "text/plain": [
       "[0.9837, 0.98376, 0.9838199999999999, 0.9838799999999999, 0.9839399999999998, 0.9839999999999998, 0.9840599999999997, 0.9841199999999997, 0.9841799999999996, 0.9842399999999996]"
      ]
     },
     "execution_count": 82,
     "metadata": {},
     "output_type": "execute_result"
    },
    {
     "name": "stdout",
     "output_type": "stream",
     "text": [
      "0.9837 0.98376 0\n",
      "0.98376 0.9838199999999999 1\n",
      "0.9838199999999999 0.9838799999999999 2\n",
      "0.9838799999999999 0.9839399999999998 3\n",
      "0.9839399999999998 0.9839999999999998 4\n",
      "0.9839999999999998 0.9840599999999997 5\n",
      "0.9840599999999997 0.9841199999999997 6\n",
      "0.9841199999999997 0.9841799999999996 7\n",
      "0.9841799999999996 0.9842399999999996 8\n"
     ]
    },
    {
     "data": {
      "text/html": [
       "<div>\n",
       "<style scoped>\n",
       "    .dataframe tbody tr th:only-of-type {\n",
       "        vertical-align: middle;\n",
       "    }\n",
       "\n",
       "    .dataframe tbody tr th {\n",
       "        vertical-align: top;\n",
       "    }\n",
       "\n",
       "    .dataframe thead th {\n",
       "        text-align: right;\n",
       "    }\n",
       "</style>\n",
       "<table border=\"1\" class=\"dataframe\">\n",
       "  <thead>\n",
       "    <tr style=\"text-align: right;\">\n",
       "      <th></th>\n",
       "      <th>item_id</th>\n",
       "      <th>time_top_15</th>\n",
       "      <th>section</th>\n",
       "    </tr>\n",
       "  </thead>\n",
       "  <tbody>\n",
       "    <tr>\n",
       "      <th>0</th>\n",
       "      <td>78142</td>\n",
       "      <td>0.983742</td>\n",
       "      <td>0</td>\n",
       "    </tr>\n",
       "    <tr>\n",
       "      <th>1</th>\n",
       "      <td>26646</td>\n",
       "      <td>0.983757</td>\n",
       "      <td>0</td>\n",
       "    </tr>\n",
       "    <tr>\n",
       "      <th>269</th>\n",
       "      <td>109463</td>\n",
       "      <td>0.983755</td>\n",
       "      <td>0</td>\n",
       "    </tr>\n",
       "    <tr>\n",
       "      <th>270</th>\n",
       "      <td>88371</td>\n",
       "      <td>0.983755</td>\n",
       "      <td>0</td>\n",
       "    </tr>\n",
       "    <tr>\n",
       "      <th>301</th>\n",
       "      <td>74658</td>\n",
       "      <td>0.983758</td>\n",
       "      <td>0</td>\n",
       "    </tr>\n",
       "  </tbody>\n",
       "</table>\n",
       "</div>"
      ],
      "text/plain": [
       "    item_id  time_top_15 section\n",
       "0     78142     0.983742       0\n",
       "1     26646     0.983757       0\n",
       "269  109463     0.983755       0\n",
       "270   88371     0.983755       0\n",
       "301   74658     0.983758       0"
      ]
     },
     "execution_count": 82,
     "metadata": {},
     "output_type": "execute_result"
    }
   ],
   "source": [
    "app=[]\n",
    "nums=10\n",
    "col=\"time_top_{0}\".format(15)\n",
    "train_click_item_top16=train_click[[\"item_id\",col]]\n",
    "train_click_item_top16[\"time_top_15\"]=train_click_item_top16[\"time_top_15\"].apply(lambda x:float('%.13f' % float(x)))\n",
    "for i in np.arange(0.98370,0.98430,(0.98430 - 0.98370)/ nums):\n",
    "    app.append(i)\n",
    "app\n",
    "all_train_data1 = pd.DataFrame( columns=['item_id', 'time_top_15',\"section\"])  \n",
    "for i in range(0,len(app)-1):\n",
    "    print(app[i],app[i+1],i)\n",
    "    train_click_item_top_n=train_click_item_top16[(train_click_item_top16[\"time_top_15\"]>=app[i])&(train_click_item_top16[\"time_top_15\"]<app[i+1])]\n",
    "    train_click_item_top_n[\"section\"]=i\n",
    "    all_train_data1 = pd.concat([all_train_data1, train_click_item_top_n])\n",
    "\n",
    "train_click_item_top_nn=train_click_item_top16[(train_click_item_top16[\"time_top_15\"]>=app[len(app)-1])]\n",
    "train_click_item_top_nn[\"section\"]=len(app)-1\n",
    "all_train_data1 = pd.concat([all_train_data1, train_click_item_top_nn])\n",
    "all_train_data1.head()"
   ]
  },
  {
   "cell_type": "code",
   "execution_count": 88,
   "metadata": {},
   "outputs": [
    {
     "data": {
      "text/plain": [
       "(array([0, 1, 2, 3, 4, 5, 6, 7, 8, 9]), <a list of 10 Text xticklabel objects>)"
      ]
     },
     "execution_count": 88,
     "metadata": {},
     "output_type": "execute_result"
    },
    {
     "data": {
      "text/plain": [
       "Text(0.5, 1.0, 'sections_click8_COUNT')"
      ]
     },
     "execution_count": 88,
     "metadata": {},
     "output_type": "execute_result"
    },
    {
     "data": {
      "image/png": "[encoded data removed]",
      "text/plain": [
       "<Figure size 720x720 with 1 Axes>"
      ]
     },
     "metadata": {
      "needs_background": "light"
     },
     "output_type": "display_data"
    }
   ],
   "source": [
    "all_train_data_count1=all_train_data1[\"section\"].value_counts().to_frame().reset_index()\n",
    "all_train_data_count1.columns=[\"sections\",\"section_count\"]\n",
    "all_train_data_count1=all_train_data_count1.sort_values(axis=0,by=[\"sections\"])\n",
    "click_count_fig2=plt.bar(  range(len(all_train_data_count1.sections)),all_train_data_count1[\"section_count\"].values ,\n",
    "          width=0.8,tick_label = all_train_data_count1[\"sections\"])\n",
    "autolabel(click_count_fig2)\n",
    "plt.xticks(rotation = 90)\n",
    "plt.title('sections_click8_COUNT')\n",
    "plt.show()"
   ]
  },
  {
   "cell_type": "code",
   "execution_count": null,
   "metadata": {},
   "outputs": [],
   "source": []
  },
  {
   "cell_type": "code",
   "execution_count": null,
   "metadata": {},
   "outputs": [],
   "source": []
  },
  {
   "cell_type": "code",
   "execution_count": null,
   "metadata": {},
   "outputs": [],
   "source": []
  },
  {
   "cell_type": "code",
   "execution_count": null,
   "metadata": {},
   "outputs": [],
   "source": []
  },
  {
   "cell_type": "code",
   "execution_count": null,
   "metadata": {},
   "outputs": [],
   "source": [
    "train_click_item_top15.rename(columns={'index': 'item_6','time_top_6':'click_count6'}, inplace=True)\n",
    "train_click_item_top15=train_click_item_top6_count.sort_values(axis=0,by=[\"item_6\"],ascending=False)"
   ]
  },
  {
   "cell_type": "code",
   "execution_count": 47,
   "metadata": {},
   "outputs": [
    {
     "data": {
      "text/html": [
       "<div>\n",
       "<style scoped>\n",
       "    .dataframe tbody tr th:only-of-type {\n",
       "        vertical-align: middle;\n",
       "    }\n",
       "\n",
       "    .dataframe tbody tr th {\n",
       "        vertical-align: top;\n",
       "    }\n",
       "\n",
       "    .dataframe thead th {\n",
       "        text-align: right;\n",
       "    }\n",
       "</style>\n",
       "<table border=\"1\" class=\"dataframe\">\n",
       "  <thead>\n",
       "    <tr style=\"text-align: right;\">\n",
       "      <th></th>\n",
       "      <th>user_id</th>\n",
       "      <th>item_id</th>\n",
       "      <th>time</th>\n",
       "      <th>time_top_5</th>\n",
       "      <th>time_top_6</th>\n",
       "      <th>time_top_7</th>\n",
       "      <th>time_top_8</th>\n",
       "      <th>time_top_9</th>\n",
       "      <th>time_top_10</th>\n",
       "      <th>time_top_11</th>\n",
       "      <th>...</th>\n",
       "      <th>time_top_6_item_clickcount</th>\n",
       "      <th>time_top_7_item_clickcount</th>\n",
       "      <th>time_top_8_item_clickcount</th>\n",
       "      <th>time_top_9_item_clickcount</th>\n",
       "      <th>time_top_10_item_clickcount</th>\n",
       "      <th>time_top_11_item_clickcount</th>\n",
       "      <th>time_top_12_item_clickcount</th>\n",
       "      <th>time_top_13_item_clickcount</th>\n",
       "      <th>time_top_14_item_clickcount</th>\n",
       "      <th>time_top_15_item_clickcount</th>\n",
       "    </tr>\n",
       "  </thead>\n",
       "  <tbody>\n",
       "    <tr>\n",
       "      <th>0</th>\n",
       "      <td>1</td>\n",
       "      <td>78142</td>\n",
       "      <td>0.983742</td>\n",
       "      <td>0.983</td>\n",
       "      <td>0.9837</td>\n",
       "      <td>0.98374</td>\n",
       "      <td>0.983741</td>\n",
       "      <td>0.9837416</td>\n",
       "      <td>0.98374161</td>\n",
       "      <td>0.983741619</td>\n",
       "      <td>...</td>\n",
       "      <td>1</td>\n",
       "      <td>1</td>\n",
       "      <td>1</td>\n",
       "      <td>1</td>\n",
       "      <td>1</td>\n",
       "      <td>1</td>\n",
       "      <td>1</td>\n",
       "      <td>1</td>\n",
       "      <td>1</td>\n",
       "      <td>1</td>\n",
       "    </tr>\n",
       "    <tr>\n",
       "      <th>1</th>\n",
       "      <td>1</td>\n",
       "      <td>26646</td>\n",
       "      <td>0.983757</td>\n",
       "      <td>0.983</td>\n",
       "      <td>0.9837</td>\n",
       "      <td>0.98375</td>\n",
       "      <td>0.983756</td>\n",
       "      <td>0.9837566</td>\n",
       "      <td>0.98375665</td>\n",
       "      <td>0.983756656</td>\n",
       "      <td>...</td>\n",
       "      <td>1</td>\n",
       "      <td>1</td>\n",
       "      <td>1</td>\n",
       "      <td>1</td>\n",
       "      <td>1</td>\n",
       "      <td>1</td>\n",
       "      <td>1</td>\n",
       "      <td>1</td>\n",
       "      <td>1</td>\n",
       "      <td>1</td>\n",
       "    </tr>\n",
       "    <tr>\n",
       "      <th>2</th>\n",
       "      <td>1</td>\n",
       "      <td>89568</td>\n",
       "      <td>0.983763</td>\n",
       "      <td>0.983</td>\n",
       "      <td>0.9837</td>\n",
       "      <td>0.98376</td>\n",
       "      <td>0.983763</td>\n",
       "      <td>0.9837634</td>\n",
       "      <td>0.98376343</td>\n",
       "      <td>0.983763437</td>\n",
       "      <td>...</td>\n",
       "      <td>3</td>\n",
       "      <td>2</td>\n",
       "      <td>1</td>\n",
       "      <td>1</td>\n",
       "      <td>1</td>\n",
       "      <td>1</td>\n",
       "      <td>1</td>\n",
       "      <td>1</td>\n",
       "      <td>1</td>\n",
       "      <td>1</td>\n",
       "    </tr>\n",
       "    <tr>\n",
       "      <th>3</th>\n",
       "      <td>1</td>\n",
       "      <td>76240</td>\n",
       "      <td>0.983770</td>\n",
       "      <td>0.983</td>\n",
       "      <td>0.9837</td>\n",
       "      <td>0.98377</td>\n",
       "      <td>0.983770</td>\n",
       "      <td>0.9837704</td>\n",
       "      <td>0.98377043</td>\n",
       "      <td>0.983770432</td>\n",
       "      <td>...</td>\n",
       "      <td>1</td>\n",
       "      <td>1</td>\n",
       "      <td>1</td>\n",
       "      <td>1</td>\n",
       "      <td>1</td>\n",
       "      <td>1</td>\n",
       "      <td>1</td>\n",
       "      <td>1</td>\n",
       "      <td>1</td>\n",
       "      <td>1</td>\n",
       "    </tr>\n",
       "    <tr>\n",
       "      <th>4</th>\n",
       "      <td>1</td>\n",
       "      <td>87533</td>\n",
       "      <td>0.983790</td>\n",
       "      <td>0.983</td>\n",
       "      <td>0.9837</td>\n",
       "      <td>0.98378</td>\n",
       "      <td>0.983789</td>\n",
       "      <td>0.9837895</td>\n",
       "      <td>0.98378950</td>\n",
       "      <td>0.983789507</td>\n",
       "      <td>...</td>\n",
       "      <td>1</td>\n",
       "      <td>1</td>\n",
       "      <td>1</td>\n",
       "      <td>1</td>\n",
       "      <td>1</td>\n",
       "      <td>1</td>\n",
       "      <td>1</td>\n",
       "      <td>1</td>\n",
       "      <td>1</td>\n",
       "      <td>1</td>\n",
       "    </tr>\n",
       "  </tbody>\n",
       "</table>\n",
       "<p>5 rows × 36 columns</p>\n",
       "</div>"
      ],
      "text/plain": [
       "  user_id item_id      time time_top_5 time_top_6 time_top_7 time_top_8  \\\n",
       "0       1   78142  0.983742      0.983     0.9837    0.98374   0.983741   \n",
       "1       1   26646  0.983757      0.983     0.9837    0.98375   0.983756   \n",
       "2       1   89568  0.983763      0.983     0.9837    0.98376   0.983763   \n",
       "3       1   76240  0.983770      0.983     0.9837    0.98377   0.983770   \n",
       "4       1   87533  0.983790      0.983     0.9837    0.98378   0.983789   \n",
       "\n",
       "  time_top_9 time_top_10  time_top_11  ... time_top_6_item_clickcount  \\\n",
       "0  0.9837416  0.98374161  0.983741619  ...                          1   \n",
       "1  0.9837566  0.98375665  0.983756656  ...                          1   \n",
       "2  0.9837634  0.98376343  0.983763437  ...                          3   \n",
       "3  0.9837704  0.98377043  0.983770432  ...                          1   \n",
       "4  0.9837895  0.98378950  0.983789507  ...                          1   \n",
       "\n",
       "  time_top_7_item_clickcount time_top_8_item_clickcount  \\\n",
       "0                          1                          1   \n",
       "1                          1                          1   \n",
       "2                          2                          1   \n",
       "3                          1                          1   \n",
       "4                          1                          1   \n",
       "\n",
       "  time_top_9_item_clickcount  time_top_10_item_clickcount  \\\n",
       "0                          1                            1   \n",
       "1                          1                            1   \n",
       "2                          1                            1   \n",
       "3                          1                            1   \n",
       "4                          1                            1   \n",
       "\n",
       "   time_top_11_item_clickcount  time_top_12_item_clickcount  \\\n",
       "0                            1                            1   \n",
       "1                            1                            1   \n",
       "2                            1                            1   \n",
       "3                            1                            1   \n",
       "4                            1                            1   \n",
       "\n",
       "   time_top_13_item_clickcount  time_top_14_item_clickcount  \\\n",
       "0                            1                            1   \n",
       "1                            1                            1   \n",
       "2                            1                            1   \n",
       "3                            1                            1   \n",
       "4                            1                            1   \n",
       "\n",
       "   time_top_15_item_clickcount  \n",
       "0                            1  \n",
       "1                            1  \n",
       "2                            1  \n",
       "3                            1  \n",
       "4                            1  \n",
       "\n",
       "[5 rows x 36 columns]"
      ]
     },
     "execution_count": 47,
     "metadata": {},
     "output_type": "execute_result"
    }
   ],
   "source": [
    "train_click.head()"
   ]
  },
  {
   "cell_type": "code",
   "execution_count": 49,
   "metadata": {},
   "outputs": [
    {
     "data": {
      "text/html": [
       "<div>\n",
       "<style scoped>\n",
       "    .dataframe tbody tr th:only-of-type {\n",
       "        vertical-align: middle;\n",
       "    }\n",
       "\n",
       "    .dataframe tbody tr th {\n",
       "        vertical-align: top;\n",
       "    }\n",
       "\n",
       "    .dataframe thead th {\n",
       "        text-align: right;\n",
       "    }\n",
       "</style>\n",
       "<table border=\"1\" class=\"dataframe\">\n",
       "  <thead>\n",
       "    <tr style=\"text-align: right;\">\n",
       "      <th></th>\n",
       "      <th>item_id</th>\n",
       "      <th>section</th>\n",
       "      <th>time_top_15</th>\n",
       "    </tr>\n",
       "  </thead>\n",
       "  <tbody>\n",
       "    <tr>\n",
       "      <th>0</th>\n",
       "      <td>78142</td>\n",
       "      <td>0</td>\n",
       "      <td>0.983742</td>\n",
       "    </tr>\n",
       "    <tr>\n",
       "      <th>1</th>\n",
       "      <td>26646</td>\n",
       "      <td>0</td>\n",
       "      <td>0.983757</td>\n",
       "    </tr>\n",
       "    <tr>\n",
       "      <th>2</th>\n",
       "      <td>89568</td>\n",
       "      <td>0</td>\n",
       "      <td>0.983763</td>\n",
       "    </tr>\n",
       "    <tr>\n",
       "      <th>3</th>\n",
       "      <td>76240</td>\n",
       "      <td>0</td>\n",
       "      <td>0.983770</td>\n",
       "    </tr>\n",
       "    <tr>\n",
       "      <th>53</th>\n",
       "      <td>72912</td>\n",
       "      <td>0</td>\n",
       "      <td>0.983765</td>\n",
       "    </tr>\n",
       "  </tbody>\n",
       "</table>\n",
       "</div>"
      ],
      "text/plain": [
       "   item_id section  time_top_15\n",
       "0    78142       0     0.983742\n",
       "1    26646       0     0.983757\n",
       "2    89568       0     0.983763\n",
       "3    76240       0     0.983770\n",
       "53   72912       0     0.983765"
      ]
     },
     "execution_count": 49,
     "metadata": {},
     "output_type": "execute_result"
    }
   ],
   "source": [
    "all_train_data.head()"
   ]
  },
  {
   "cell_type": "code",
   "execution_count": 84,
   "metadata": {},
   "outputs": [
    {
     "data": {
      "image/png": "[encoded data removed]",
      "text/plain": [
       "<Figure size 2160x576 with 1 Axes>"
      ]
     },
     "metadata": {
      "needs_background": "light"
     },
     "output_type": "display_data"
    }
   ],
   "source": [
    "all_train_data_5=all_train_data[\"section\"].value_counts().reset_index()\n",
    "all_train_data_5.rename(columns={'index': 'sections',\"section\":'section_count'}, inplace=True)\n",
    "\n",
    "all_train_data_5=all_train_data_5.sort_values(axis=0,by=['sections'],ascending=True)\n",
    "\n",
    "plotcount(all_train_data_5,\"sections\",\"section_count\",7)\n",
    "\n",
    "plt.rcParams['figure.figsize'] = (10.0, 10.0) # 设置figure_size尺寸"
   ]
  },
  {
   "cell_type": "code",
   "execution_count": 51,
   "metadata": {},
   "outputs": [
    {
     "data": {
      "text/html": [
       "<div>\n",
       "<style scoped>\n",
       "    .dataframe tbody tr th:only-of-type {\n",
       "        vertical-align: middle;\n",
       "    }\n",
       "\n",
       "    .dataframe tbody tr th {\n",
       "        vertical-align: top;\n",
       "    }\n",
       "\n",
       "    .dataframe thead th {\n",
       "        text-align: right;\n",
       "    }\n",
       "</style>\n",
       "<table border=\"1\" class=\"dataframe\">\n",
       "  <thead>\n",
       "    <tr style=\"text-align: right;\">\n",
       "      <th></th>\n",
       "      <th>sections</th>\n",
       "      <th>section_count</th>\n",
       "    </tr>\n",
       "  </thead>\n",
       "  <tbody>\n",
       "    <tr>\n",
       "      <th>5</th>\n",
       "      <td>0</td>\n",
       "      <td>39468</td>\n",
       "    </tr>\n",
       "    <tr>\n",
       "      <th>3</th>\n",
       "      <td>1</td>\n",
       "      <td>160851</td>\n",
       "    </tr>\n",
       "    <tr>\n",
       "      <th>0</th>\n",
       "      <td>2</td>\n",
       "      <td>264896</td>\n",
       "    </tr>\n",
       "    <tr>\n",
       "      <th>2</th>\n",
       "      <td>3</td>\n",
       "      <td>184667</td>\n",
       "    </tr>\n",
       "    <tr>\n",
       "      <th>1</th>\n",
       "      <td>4</td>\n",
       "      <td>211249</td>\n",
       "    </tr>\n",
       "  </tbody>\n",
       "</table>\n",
       "</div>"
      ],
      "text/plain": [
       "   sections  section_count\n",
       "5         0          39468\n",
       "3         1         160851\n",
       "0         2         264896\n",
       "2         3         184667\n",
       "1         4         211249"
      ]
     },
     "execution_count": 51,
     "metadata": {},
     "output_type": "execute_result"
    }
   ],
   "source": [
    "\n",
    "all_train_data_5.head()\n",
    "\n"
   ]
  },
  {
   "cell_type": "code",
   "execution_count": 52,
   "metadata": {},
   "outputs": [
    {
     "ename": "KeyError",
     "evalue": "'item_7'",
     "output_type": "error",
     "traceback": [
      "\u001b[1;31m---------------------------------------------------------------------------\u001b[0m",
      "\u001b[1;31mKeyError\u001b[0m                                  Traceback (most recent call last)",
      "\u001b[1;32mC:\\Anaconda3\\lib\\site-packages\\pandas\\core\\indexes\\base.py\u001b[0m in \u001b[0;36mget_loc\u001b[1;34m(self, key, method, tolerance)\u001b[0m\n\u001b[0;32m   2656\u001b[0m             \u001b[1;32mtry\u001b[0m\u001b[1;33m:\u001b[0m\u001b[1;33m\u001b[0m\u001b[1;33m\u001b[0m\u001b[0m\n\u001b[1;32m-> 2657\u001b[1;33m                 \u001b[1;32mreturn\u001b[0m \u001b[0mself\u001b[0m\u001b[1;33m.\u001b[0m\u001b[0m_engine\u001b[0m\u001b[1;33m.\u001b[0m\u001b[0mget_loc\u001b[0m\u001b[1;33m(\u001b[0m\u001b[0mkey\u001b[0m\u001b[1;33m)\u001b[0m\u001b[1;33m\u001b[0m\u001b[1;33m\u001b[0m\u001b[0m\n\u001b[0m\u001b[0;32m   2658\u001b[0m             \u001b[1;32mexcept\u001b[0m \u001b[0mKeyError\u001b[0m\u001b[1;33m:\u001b[0m\u001b[1;33m\u001b[0m\u001b[1;33m\u001b[0m\u001b[0m\n",
      "\u001b[1;32mpandas/_libs/index.pyx\u001b[0m in \u001b[0;36mpandas._libs.index.IndexEngine.get_loc\u001b[1;34m()\u001b[0m\n",
      "\u001b[1;32mpandas/_libs/index.pyx\u001b[0m in \u001b[0;36mpandas._libs.index.IndexEngine.get_loc\u001b[1;34m()\u001b[0m\n",
      "\u001b[1;32mpandas/_libs/hashtable_class_helper.pxi\u001b[0m in \u001b[0;36mpandas._libs.hashtable.PyObjectHashTable.get_item\u001b[1;34m()\u001b[0m\n",
      "\u001b[1;32mpandas/_libs/hashtable_class_helper.pxi\u001b[0m in \u001b[0;36mpandas._libs.hashtable.PyObjectHashTable.get_item\u001b[1;34m()\u001b[0m\n",
      "\u001b[1;31mKeyError\u001b[0m: 'item_7'",
      "\nDuring handling of the above exception, another exception occurred:\n",
      "\u001b[1;31mKeyError\u001b[0m                                  Traceback (most recent call last)",
      "\u001b[1;32m<ipython-input-52-4b2e8064ff63>\u001b[0m in \u001b[0;36m<module>\u001b[1;34m\u001b[0m\n\u001b[1;32m----> 1\u001b[1;33m \u001b[0mplotcount\u001b[0m\u001b[1;33m(\u001b[0m\u001b[0mall_train_data_5\u001b[0m\u001b[1;33m,\u001b[0m\u001b[1;34m\"item_{0}\"\u001b[0m\u001b[1;33m.\u001b[0m\u001b[0mformat\u001b[0m\u001b[1;33m(\u001b[0m\u001b[1;36m7\u001b[0m\u001b[1;33m)\u001b[0m\u001b[1;33m,\u001b[0m\u001b[1;34m\"click_count{}\"\u001b[0m\u001b[1;33m.\u001b[0m\u001b[0mformat\u001b[0m\u001b[1;33m(\u001b[0m\u001b[1;36m7\u001b[0m\u001b[1;33m)\u001b[0m\u001b[1;33m,\u001b[0m\u001b[1;36m7\u001b[0m\u001b[1;33m)\u001b[0m\u001b[1;33m\u001b[0m\u001b[1;33m\u001b[0m\u001b[0m\n\u001b[0m\u001b[0;32m      2\u001b[0m \u001b[1;33m\u001b[0m\u001b[0m\n\u001b[0;32m      3\u001b[0m \u001b[0mplt\u001b[0m\u001b[1;33m.\u001b[0m\u001b[0mrcParams\u001b[0m\u001b[1;33m[\u001b[0m\u001b[1;34m'figure.figsize'\u001b[0m\u001b[1;33m]\u001b[0m \u001b[1;33m=\u001b[0m \u001b[1;33m(\u001b[0m\u001b[1;36m39.0\u001b[0m\u001b[1;33m,\u001b[0m \u001b[1;36m4.0\u001b[0m\u001b[1;33m)\u001b[0m \u001b[1;31m# 设置figure_size尺寸\u001b[0m\u001b[1;33m\u001b[0m\u001b[1;33m\u001b[0m\u001b[0m\n",
      "\u001b[1;32m<ipython-input-40-586f8c8ae684>\u001b[0m in \u001b[0;36mplotcount\u001b[1;34m(train_click_item_count, time_top_n, click_count_n, n)\u001b[0m\n\u001b[0;32m      1\u001b[0m \u001b[1;32mdef\u001b[0m \u001b[0mplotcount\u001b[0m\u001b[1;33m(\u001b[0m\u001b[0mtrain_click_item_count\u001b[0m\u001b[1;33m,\u001b[0m\u001b[0mtime_top_n\u001b[0m\u001b[1;33m,\u001b[0m\u001b[0mclick_count_n\u001b[0m\u001b[1;33m,\u001b[0m\u001b[0mn\u001b[0m\u001b[1;33m)\u001b[0m\u001b[1;33m:\u001b[0m\u001b[1;33m\u001b[0m\u001b[1;33m\u001b[0m\u001b[0m\n\u001b[1;32m----> 2\u001b[1;33m     click_count_fig=plt.bar(  range(len(train_click_item_count[time_top_n])),train_click_item_count[click_count_n].values ,\n\u001b[0m\u001b[0;32m      3\u001b[0m           width=0.8,tick_label = train_click_item_count[time_top_n])\n\u001b[0;32m      4\u001b[0m     \u001b[0mautolabel\u001b[0m\u001b[1;33m(\u001b[0m\u001b[0mclick_count_fig\u001b[0m\u001b[1;33m)\u001b[0m\u001b[1;33m\u001b[0m\u001b[1;33m\u001b[0m\u001b[0m\n\u001b[0;32m      5\u001b[0m     \u001b[0mplt\u001b[0m\u001b[1;33m.\u001b[0m\u001b[0mxticks\u001b[0m\u001b[1;33m(\u001b[0m\u001b[0mrotation\u001b[0m \u001b[1;33m=\u001b[0m \u001b[1;36m90\u001b[0m\u001b[1;33m)\u001b[0m\u001b[1;33m\u001b[0m\u001b[1;33m\u001b[0m\u001b[0m\n",
      "\u001b[1;32mC:\\Anaconda3\\lib\\site-packages\\pandas\\core\\frame.py\u001b[0m in \u001b[0;36m__getitem__\u001b[1;34m(self, key)\u001b[0m\n\u001b[0;32m   2925\u001b[0m             \u001b[1;32mif\u001b[0m \u001b[0mself\u001b[0m\u001b[1;33m.\u001b[0m\u001b[0mcolumns\u001b[0m\u001b[1;33m.\u001b[0m\u001b[0mnlevels\u001b[0m \u001b[1;33m>\u001b[0m \u001b[1;36m1\u001b[0m\u001b[1;33m:\u001b[0m\u001b[1;33m\u001b[0m\u001b[1;33m\u001b[0m\u001b[0m\n\u001b[0;32m   2926\u001b[0m                 \u001b[1;32mreturn\u001b[0m \u001b[0mself\u001b[0m\u001b[1;33m.\u001b[0m\u001b[0m_getitem_multilevel\u001b[0m\u001b[1;33m(\u001b[0m\u001b[0mkey\u001b[0m\u001b[1;33m)\u001b[0m\u001b[1;33m\u001b[0m\u001b[1;33m\u001b[0m\u001b[0m\n\u001b[1;32m-> 2927\u001b[1;33m             \u001b[0mindexer\u001b[0m \u001b[1;33m=\u001b[0m \u001b[0mself\u001b[0m\u001b[1;33m.\u001b[0m\u001b[0mcolumns\u001b[0m\u001b[1;33m.\u001b[0m\u001b[0mget_loc\u001b[0m\u001b[1;33m(\u001b[0m\u001b[0mkey\u001b[0m\u001b[1;33m)\u001b[0m\u001b[1;33m\u001b[0m\u001b[1;33m\u001b[0m\u001b[0m\n\u001b[0m\u001b[0;32m   2928\u001b[0m             \u001b[1;32mif\u001b[0m \u001b[0mis_integer\u001b[0m\u001b[1;33m(\u001b[0m\u001b[0mindexer\u001b[0m\u001b[1;33m)\u001b[0m\u001b[1;33m:\u001b[0m\u001b[1;33m\u001b[0m\u001b[1;33m\u001b[0m\u001b[0m\n\u001b[0;32m   2929\u001b[0m                 \u001b[0mindexer\u001b[0m \u001b[1;33m=\u001b[0m \u001b[1;33m[\u001b[0m\u001b[0mindexer\u001b[0m\u001b[1;33m]\u001b[0m\u001b[1;33m\u001b[0m\u001b[1;33m\u001b[0m\u001b[0m\n",
      "\u001b[1;32mC:\\Anaconda3\\lib\\site-packages\\pandas\\core\\indexes\\base.py\u001b[0m in \u001b[0;36mget_loc\u001b[1;34m(self, key, method, tolerance)\u001b[0m\n\u001b[0;32m   2657\u001b[0m                 \u001b[1;32mreturn\u001b[0m \u001b[0mself\u001b[0m\u001b[1;33m.\u001b[0m\u001b[0m_engine\u001b[0m\u001b[1;33m.\u001b[0m\u001b[0mget_loc\u001b[0m\u001b[1;33m(\u001b[0m\u001b[0mkey\u001b[0m\u001b[1;33m)\u001b[0m\u001b[1;33m\u001b[0m\u001b[1;33m\u001b[0m\u001b[0m\n\u001b[0;32m   2658\u001b[0m             \u001b[1;32mexcept\u001b[0m \u001b[0mKeyError\u001b[0m\u001b[1;33m:\u001b[0m\u001b[1;33m\u001b[0m\u001b[1;33m\u001b[0m\u001b[0m\n\u001b[1;32m-> 2659\u001b[1;33m                 \u001b[1;32mreturn\u001b[0m \u001b[0mself\u001b[0m\u001b[1;33m.\u001b[0m\u001b[0m_engine\u001b[0m\u001b[1;33m.\u001b[0m\u001b[0mget_loc\u001b[0m\u001b[1;33m(\u001b[0m\u001b[0mself\u001b[0m\u001b[1;33m.\u001b[0m\u001b[0m_maybe_cast_indexer\u001b[0m\u001b[1;33m(\u001b[0m\u001b[0mkey\u001b[0m\u001b[1;33m)\u001b[0m\u001b[1;33m)\u001b[0m\u001b[1;33m\u001b[0m\u001b[1;33m\u001b[0m\u001b[0m\n\u001b[0m\u001b[0;32m   2660\u001b[0m         \u001b[0mindexer\u001b[0m \u001b[1;33m=\u001b[0m \u001b[0mself\u001b[0m\u001b[1;33m.\u001b[0m\u001b[0mget_indexer\u001b[0m\u001b[1;33m(\u001b[0m\u001b[1;33m[\u001b[0m\u001b[0mkey\u001b[0m\u001b[1;33m]\u001b[0m\u001b[1;33m,\u001b[0m \u001b[0mmethod\u001b[0m\u001b[1;33m=\u001b[0m\u001b[0mmethod\u001b[0m\u001b[1;33m,\u001b[0m \u001b[0mtolerance\u001b[0m\u001b[1;33m=\u001b[0m\u001b[0mtolerance\u001b[0m\u001b[1;33m)\u001b[0m\u001b[1;33m\u001b[0m\u001b[1;33m\u001b[0m\u001b[0m\n\u001b[0;32m   2661\u001b[0m         \u001b[1;32mif\u001b[0m \u001b[0mindexer\u001b[0m\u001b[1;33m.\u001b[0m\u001b[0mndim\u001b[0m \u001b[1;33m>\u001b[0m \u001b[1;36m1\u001b[0m \u001b[1;32mor\u001b[0m \u001b[0mindexer\u001b[0m\u001b[1;33m.\u001b[0m\u001b[0msize\u001b[0m \u001b[1;33m>\u001b[0m \u001b[1;36m1\u001b[0m\u001b[1;33m:\u001b[0m\u001b[1;33m\u001b[0m\u001b[1;33m\u001b[0m\u001b[0m\n",
      "\u001b[1;32mpandas/_libs/index.pyx\u001b[0m in \u001b[0;36mpandas._libs.index.IndexEngine.get_loc\u001b[1;34m()\u001b[0m\n",
      "\u001b[1;32mpandas/_libs/index.pyx\u001b[0m in \u001b[0;36mpandas._libs.index.IndexEngine.get_loc\u001b[1;34m()\u001b[0m\n",
      "\u001b[1;32mpandas/_libs/hashtable_class_helper.pxi\u001b[0m in \u001b[0;36mpandas._libs.hashtable.PyObjectHashTable.get_item\u001b[1;34m()\u001b[0m\n",
      "\u001b[1;32mpandas/_libs/hashtable_class_helper.pxi\u001b[0m in \u001b[0;36mpandas._libs.hashtable.PyObjectHashTable.get_item\u001b[1;34m()\u001b[0m\n",
      "\u001b[1;31mKeyError\u001b[0m: 'item_7'"
     ]
    }
   ],
   "source": [
    "plotcount(all_train_data_5,\"item_{0}\".format(7),\"click_count{}\".format(7),7)\n",
    "\n",
    "plt.rcParams['figure.figsize'] = (39.0, 4.0) # 设置figure_size尺寸"
   ]
  },
  {
   "cell_type": "markdown",
   "metadata": {},
   "source": [
    "#### 用户和商品点击次数出现的个数"
   ]
  },
  {
   "cell_type": "code",
   "execution_count": null,
   "metadata": {},
   "outputs": [],
   "source": [
    "shape_item_num=[]\n",
    "for i in range(5,14):\n",
    "    col=\"time_top_{0}\".format(i)\n",
    " \n",
    "    item_col_count=col+\"_item_clickcount\"\n",
    "   \n",
    "    shape_item_num.append(train_click[item_col_count].drop_duplicates().shape[0])\n",
    "shape_item_num"
   ]
  },
  {
   "cell_type": "code",
   "execution_count": null,
   "metadata": {},
   "outputs": [],
   "source": [
    "shape_user_num=[]\n",
    "for i in range(5,14):\n",
    "    col=\"time_top_{0}\".format(i)\n",
    " \n",
    "    user_col_count=col+\"_user_clickcount\"\n",
    "   \n",
    "    shape_user_num.append(train_click[user_col_count].drop_duplicates().shape[0])\n",
    "shape_user_num"
   ]
  },
  {
   "cell_type": "code",
   "execution_count": null,
   "metadata": {},
   "outputs": [],
   "source": [
    "train_click['time_top_5_item_clickcount'].value_counts().to_frame()"
   ]
  },
  {
   "cell_type": "markdown",
   "metadata": {},
   "source": [
    "#### user_id、time_top_n、time_top_5_user_clickcount之间关系"
   ]
  },
  {
   "cell_type": "code",
   "execution_count": null,
   "metadata": {},
   "outputs": [],
   "source": [
    "train_click_item5= train_click[['user_id','time_top_5_user_clickcount','time_top_5']]\n",
    "\n",
    "train_click_item5[train_click_item5[\"user_id\"]==1].head()"
   ]
  },
  {
   "cell_type": "code",
   "execution_count": null,
   "metadata": {},
   "outputs": [],
   "source": []
  },
  {
   "cell_type": "code",
   "execution_count": null,
   "metadata": {},
   "outputs": [],
   "source": [
    "train_click.columns"
   ]
  },
  {
   "cell_type": "code",
   "execution_count": null,
   "metadata": {},
   "outputs": [],
   "source": [
    "item_top5_count=train_click[['item_id','time_top_5_item_clickcount','time_top_5']]\n",
    "item_top5_count.head()\n",
    "item_top5_count['time_top_5'].drop_duplicates()"
   ]
  },
  {
   "cell_type": "code",
   "execution_count": null,
   "metadata": {},
   "outputs": [],
   "source": [
    "train_click_item5.columns"
   ]
  },
  {
   "cell_type": "code",
   "execution_count": null,
   "metadata": {},
   "outputs": [],
   "source": [
    "train_click_item5=train_click_item5[train_click_item5[\"time_top_5_user_clickcount\"]==1]\n",
    "train_click_item5.head()"
   ]
  },
  {
   "cell_type": "code",
   "execution_count": null,
   "metadata": {},
   "outputs": [],
   "source": [
    "train_click['time_top_6_item_clickcount'].value_counts().to_frame().head()"
   ]
  },
  {
   "cell_type": "code",
   "execution_count": null,
   "metadata": {},
   "outputs": [],
   "source": [
    "train_click['time_top_7_item_clickcount'].value_counts().to_frame().head()"
   ]
  },
  {
   "cell_type": "code",
   "execution_count": null,
   "metadata": {},
   "outputs": [],
   "source": [
    "train_click['time_top_8_item_clickcount'].value_counts().to_frame().head()"
   ]
  },
  {
   "cell_type": "markdown",
   "metadata": {},
   "source": [
    "### 读取用户数据"
   ]
  },
  {
   "cell_type": "code",
   "execution_count": null,
   "metadata": {},
   "outputs": [],
   "source": [
    "train_user_data=getTrainData(train_path_user,isckick=False,names=['user_id', 'user_age_level', 'user_gender','user_city_level'])"
   ]
  },
  {
   "cell_type": "code",
   "execution_count": null,
   "metadata": {},
   "outputs": [],
   "source": [
    "train_user_data.head()\n",
    "train_user_data.info()\n",
    "train_user_data.describe()\n",
    "train_user_data.shape[0]"
   ]
  },
  {
   "cell_type": "code",
   "execution_count": null,
   "metadata": {},
   "outputs": [],
   "source": [
    "train_user_data_gruopvy_Level=train_user_data[\"user_city_level\"].value_counts().to_frame()"
   ]
  },
  {
   "cell_type": "markdown",
   "metadata": {},
   "source": [
    "### 城市等级分布"
   ]
  },
  {
   "cell_type": "code",
   "execution_count": null,
   "metadata": {},
   "outputs": [],
   "source": [
    "train_user_data_gruopvy_Level.plot(kind='bar')"
   ]
  },
  {
   "cell_type": "code",
   "execution_count": null,
   "metadata": {},
   "outputs": [],
   "source": [
    "train_user_data_gruopvy_agelevel=train_user_data[\"user_age_level\"].value_counts().to_frame()\n",
    "train_user_data_gruopvy_agelevel.plot(kind='bar')"
   ]
  },
  {
   "cell_type": "code",
   "execution_count": null,
   "metadata": {},
   "outputs": [],
   "source": [
    "train_user_data_gruopvy_gender=train_user_data[\"user_gender\"].value_counts().to_frame()\n",
    "train_user_data_gruopvy_gender.plot(kind='bar')"
   ]
  },
  {
   "cell_type": "markdown",
   "metadata": {},
   "source": [
    "## 性别和城市等级直接的柱状体"
   ]
  },
  {
   "cell_type": "code",
   "execution_count": null,
   "metadata": {},
   "outputs": [],
   "source": [
    "train_user_data_gruop_genandcity= train_user_data.groupby([\"user_gender\",\"user_city_level\"]).size().reset_index()\n",
    "train_user_data_gruop_genandcity.rename(columns={0:\"count\"},inplace=True)"
   ]
  },
  {
   "cell_type": "code",
   "execution_count": null,
   "metadata": {},
   "outputs": [],
   "source": [
    "train_user_data_gruop_genandcity"
   ]
  },
  {
   "cell_type": "code",
   "execution_count": null,
   "metadata": {},
   "outputs": [],
   "source": [
    "sns.catplot(x=\"user_gender\", y=\"count\", hue=\"user_city_level\", kind=\"bar\", data=train_user_data_gruop_genandcity);"
   ]
  },
  {
   "cell_type": "code",
   "execution_count": null,
   "metadata": {},
   "outputs": [],
   "source": []
  },
  {
   "cell_type": "markdown",
   "metadata": {},
   "source": [
    "### 找出性别的年龄分布"
   ]
  },
  {
   "cell_type": "code",
   "execution_count": null,
   "metadata": {},
   "outputs": [],
   "source": [
    "train_user_data_gruop_genandage= train_user_data.groupby([\"user_gender\",\"user_age_level\"]).size().reset_index()\n",
    "train_user_data_gruop_genandage.rename(columns={0:\"count\"},inplace=True)"
   ]
  },
  {
   "cell_type": "code",
   "execution_count": null,
   "metadata": {},
   "outputs": [],
   "source": [
    "train_user_data_gruop_genandage"
   ]
  },
  {
   "cell_type": "code",
   "execution_count": null,
   "metadata": {},
   "outputs": [],
   "source": [
    "sns.catplot(x=\"user_gender\", y=\"count\", hue=\"user_age_level\", kind=\"bar\", data=train_user_data_gruop_genandage);"
   ]
  },
  {
   "cell_type": "code",
   "execution_count": null,
   "metadata": {},
   "outputs": [],
   "source": [
    "train_user_data.head()\n",
    "train_user_data.shape[0]"
   ]
  },
  {
   "cell_type": "code",
   "execution_count": null,
   "metadata": {},
   "outputs": [],
   "source": [
    "train_click.head()\n",
    "train_click.shape[0]"
   ]
  },
  {
   "cell_type": "code",
   "execution_count": null,
   "metadata": {},
   "outputs": [],
   "source": [
    "train_userandclick= pd.merge(train_user_data,train_click,how='left', on=['user_id'])"
   ]
  },
  {
   "cell_type": "code",
   "execution_count": null,
   "metadata": {},
   "outputs": [],
   "source": [
    "train_userandclick.shape[0]\n",
    "train_userandclick.head()"
   ]
  },
  {
   "cell_type": "markdown",
   "metadata": {},
   "source": [
    "#### 查看性别年龄和物品见关系"
   ]
  },
  {
   "cell_type": "code",
   "execution_count": null,
   "metadata": {},
   "outputs": [],
   "source": [
    "train_sex_item=train_userandclick.groupby([\"item_id\",\"user_gender\"]).size().to_frame()"
   ]
  },
  {
   "cell_type": "code",
   "execution_count": null,
   "metadata": {},
   "outputs": [],
   "source": [
    "train_userandclick[\"user_gender\"].value_counts().to_frame().reset_index()"
   ]
  },
  {
   "cell_type": "markdown",
   "metadata": {},
   "source": [
    "### 女性和物品之间关联"
   ]
  },
  {
   "cell_type": "code",
   "execution_count": null,
   "metadata": {},
   "outputs": [],
   "source": [
    "train_userandclick_f=train_userandclick[train_userandclick[\"user_gender\"]=='F']\n",
    "train_userandclick_f.shape[0]\n",
    "\n",
    "train_userandclick_f_time_top_5 =train_userandclick_f[['item_id','time_top_5_item_clickcount','time_top_5']]\n"
   ]
  },
  {
   "cell_type": "code",
   "execution_count": null,
   "metadata": {},
   "outputs": [],
   "source": [
    "t=train_userandclick_f[['item_id','time_top_5_item_clickcount','time_top_5','user_id']]\n",
    "tt_984=t[(t[\"item_id\"]==52766) &(t[\"time_top_5\"]=='0.984')].drop_duplicates()\n",
    "tt_983=t[(t[\"item_id\"]==52766) &(t[\"time_top_5\"]=='0.983')].drop_duplicates()"
   ]
  },
  {
   "cell_type": "code",
   "execution_count": null,
   "metadata": {},
   "outputs": [],
   "source": [
    "tt_984.head()\n",
    "tt_984.shape\n",
    "tt_983.head()\n",
    "tt_983.shape"
   ]
  },
  {
   "cell_type": "code",
   "execution_count": null,
   "metadata": {},
   "outputs": [],
   "source": [
    "tt_984[tt_984[\"user_id\"].isin(tt_983[\"user_id\"])][\"user_id\"].drop_duplicates().shape"
   ]
  },
  {
   "cell_type": "code",
   "execution_count": null,
   "metadata": {},
   "outputs": [],
   "source": [
    "train_userandclick_f_time_top_5=train_userandclick_f_time_top_5.drop_duplicates()"
   ]
  },
  {
   "cell_type": "code",
   "execution_count": null,
   "metadata": {},
   "outputs": [],
   "source": [
    "train_userandclick_f_time_top_5=train_userandclick_f_time_top_5.sort_values(axis=0,by=['time_top_5_item_clickcount'],ascending=False).reset_index()"
   ]
  },
  {
   "cell_type": "code",
   "execution_count": null,
   "metadata": {},
   "outputs": [],
   "source": [
    "train_userandclick_f_time_top_5_50=train_userandclick_f_time_top_5.loc[0:10,:]"
   ]
  },
  {
   "cell_type": "code",
   "execution_count": null,
   "metadata": {},
   "outputs": [],
   "source": [
    "z=train_userandclick_f_time_top_5[\"item_id\"].value_counts().to_frame().reset_index()"
   ]
  },
  {
   "cell_type": "code",
   "execution_count": null,
   "metadata": {},
   "outputs": [],
   "source": [
    "z=z[z[\"item_id\"]==2][[\"index\"]]"
   ]
  },
  {
   "cell_type": "code",
   "execution_count": null,
   "metadata": {},
   "outputs": [],
   "source": [
    "train_userandclick_f_time_top_5_item2=train_userandclick_f_time_top_5[train_userandclick_f_time_top_5[\"item_id\"].isin(z[\"index\"])]"
   ]
  },
  {
   "cell_type": "code",
   "execution_count": null,
   "metadata": {
    "scrolled": true
   },
   "outputs": [],
   "source": [
    "train_userandclick_f_time_top_5_item2[train_userandclick_f_time_top_5_item2[\"time_top_5_item_clickcount\"]>200]\n",
    "train_userandclick_f_time_top_5.head()"
   ]
  },
  {
   "cell_type": "code",
   "execution_count": null,
   "metadata": {},
   "outputs": [],
   "source": []
  },
  {
   "cell_type": "code",
   "execution_count": null,
   "metadata": {},
   "outputs": [],
   "source": []
  },
  {
   "cell_type": "code",
   "execution_count": null,
   "metadata": {},
   "outputs": [],
   "source": []
  },
  {
   "cell_type": "code",
   "execution_count": null,
   "metadata": {},
   "outputs": [],
   "source": []
  },
  {
   "cell_type": "code",
   "execution_count": null,
   "metadata": {},
   "outputs": [],
   "source": [
    "train_userandclick_f_time_top_5_item2.describe()"
   ]
  },
  {
   "cell_type": "code",
   "execution_count": null,
   "metadata": {},
   "outputs": [],
   "source": [
    "\n",
    "sns.catplot(x=\"item_id\", y=\"time_top_5_item_clickcount\", hue=\"time_top_5\", kind=\"bar\",size=10, data=train_userandclick_f_time_top_5_50);"
   ]
  },
  {
   "cell_type": "code",
   "execution_count": null,
   "metadata": {},
   "outputs": [],
   "source": [
    "item_count=train_userandclick_f[\"item_id\"].value_counts().reset_index()\n",
    "item_count.columns=[\"item_id\",\"item_id_count\"]\n",
    "item_count.info()"
   ]
  },
  {
   "cell_type": "markdown",
   "metadata": {},
   "source": [
    "## 获取测试数据集"
   ]
  },
  {
   "cell_type": "code",
   "execution_count": null,
   "metadata": {},
   "outputs": [],
   "source": [
    "test_click_data=getTrainData(test_path_click,isckick=True,names=['user_id', 'item_id', 'time'],num=6)"
   ]
  },
  {
   "cell_type": "code",
   "execution_count": null,
   "metadata": {},
   "outputs": [],
   "source": [
    "test_click_data.head()\n",
    "test_click_data.info()\n",
    "test_click_data.shape[0]"
   ]
  },
  {
   "cell_type": "code",
   "execution_count": null,
   "metadata": {},
   "outputs": [],
   "source": [
    "test_click_data_qtime=getTrainData(test_path_click_qtime,isckick=True,names=['user_id', 'query_time'],num=6)"
   ]
  },
  {
   "cell_type": "code",
   "execution_count": null,
   "metadata": {},
   "outputs": [],
   "source": [
    "test_click_data_qtime.head()\n",
    "test_click_data_qtime.info()\n",
    "test_click_data_qtime.shape[0]\n"
   ]
  },
  {
   "cell_type": "code",
   "execution_count": null,
   "metadata": {},
   "outputs": [],
   "source": [
    "item_feat_train=pd.read_csv(train_path_item, header=None)"
   ]
  },
  {
   "cell_type": "code",
   "execution_count": null,
   "metadata": {},
   "outputs": [],
   "source": [
    "item_feat_train_image=item_feat_train.loc[:,129:257]"
   ]
  },
  {
   "cell_type": "code",
   "execution_count": null,
   "metadata": {},
   "outputs": [],
   "source": [
    "item_feat_train_image.columns"
   ]
  },
  {
   "cell_type": "code",
   "execution_count": null,
   "metadata": {},
   "outputs": [],
   "source": [
    "item_feat_train_image.head()"
   ]
  },
  {
   "cell_type": "code",
   "execution_count": null,
   "metadata": {},
   "outputs": [],
   "source": [
    "item_feat_train_image[129]=item_feat_train_image[129].apply(lambda x: x[1:])"
   ]
  },
  {
   "cell_type": "code",
   "execution_count": null,
   "metadata": {},
   "outputs": [],
   "source": [
    "item_feat_train_image[256]=item_feat_train_image[256].apply(lambda x: x[:-1])"
   ]
  },
  {
   "cell_type": "code",
   "execution_count": null,
   "metadata": {},
   "outputs": [],
   "source": [
    "item_feat_train_image.head()"
   ]
  },
  {
   "cell_type": "code",
   "execution_count": null,
   "metadata": {},
   "outputs": [],
   "source": [
    "import matplotlib.pyplot as pyplot \n"
   ]
  },
  {
   "cell_type": "code",
   "execution_count": null,
   "metadata": {},
   "outputs": [],
   "source": [
    "oneimg=item_feat_train_image.loc[1,:].values.reshape((8, 16)).astype(np.float)\n",
    "pyplot.imshow(oneimg)"
   ]
  },
  {
   "cell_type": "code",
   "execution_count": null,
   "metadata": {},
   "outputs": [],
   "source": [
    "oneimg_2=item_feat_train_image.loc[2,:].values.reshape((8, 16)).astype(np.float)\n",
    "pyplot.imshow(oneimg_2)"
   ]
  }
 ],
 "metadata": {
  "kernelspec": {
   "display_name": "Python 3",
   "language": "python",
   "name": "python3"
  },
  "language_info": {
   "codemirror_mode": {
    "name": "ipython",
    "version": 3
   },
   "file_extension": ".py",
   "mimetype": "text/x-python",
   "name": "python",
   "nbconvert_exporter": "python",
   "pygments_lexer": "ipython3",
   "version": "3.7.3"
  }
 },
 "nbformat": 4,
 "nbformat_minor": 4
}
